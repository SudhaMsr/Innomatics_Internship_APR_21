{
 "cells": [
  {
   "cell_type": "code",
   "execution_count": 1,
   "metadata": {},
   "outputs": [],
   "source": [
    "import warnings\n",
    "warnings.filterwarnings('ignore')"
   ]
  },
  {
   "cell_type": "code",
   "execution_count": 2,
   "metadata": {},
   "outputs": [],
   "source": [
    "import pandas as pd\n",
    "import numpy as np\n",
    "import matplotlib.pyplot as plt\n",
    "import seaborn as sns\n",
    "%matplotlib inline"
   ]
  },
  {
   "cell_type": "code",
   "execution_count": 3,
   "metadata": {},
   "outputs": [],
   "source": [
    "data = pd.read_csv('pubg.csv.csv')"
   ]
  },
  {
   "cell_type": "code",
   "execution_count": 4,
   "metadata": {},
   "outputs": [
    {
     "data": {
      "text/html": [
       "<div>\n",
       "<style scoped>\n",
       "    .dataframe tbody tr th:only-of-type {\n",
       "        vertical-align: middle;\n",
       "    }\n",
       "\n",
       "    .dataframe tbody tr th {\n",
       "        vertical-align: top;\n",
       "    }\n",
       "\n",
       "    .dataframe thead th {\n",
       "        text-align: right;\n",
       "    }\n",
       "</style>\n",
       "<table border=\"1\" class=\"dataframe\">\n",
       "  <thead>\n",
       "    <tr style=\"text-align: right;\">\n",
       "      <th></th>\n",
       "      <th>Unnamed: 0</th>\n",
       "      <th>Id</th>\n",
       "      <th>groupId</th>\n",
       "      <th>matchId</th>\n",
       "      <th>assists</th>\n",
       "      <th>boosts</th>\n",
       "      <th>damageDealt</th>\n",
       "      <th>DBNOs</th>\n",
       "      <th>headshotKills</th>\n",
       "      <th>heals</th>\n",
       "      <th>...</th>\n",
       "      <th>revives</th>\n",
       "      <th>rideDistance</th>\n",
       "      <th>roadKills</th>\n",
       "      <th>swimDistance</th>\n",
       "      <th>teamKills</th>\n",
       "      <th>vehicleDestroys</th>\n",
       "      <th>walkDistance</th>\n",
       "      <th>weaponsAcquired</th>\n",
       "      <th>winPoints</th>\n",
       "      <th>winPlacePerc</th>\n",
       "    </tr>\n",
       "  </thead>\n",
       "  <tbody>\n",
       "    <tr>\n",
       "      <th>0</th>\n",
       "      <td>2093518</td>\n",
       "      <td>a3e3cea9f2e314</td>\n",
       "      <td>c9f6eaa81245b5</td>\n",
       "      <td>a3d8693390584c</td>\n",
       "      <td>0</td>\n",
       "      <td>0</td>\n",
       "      <td>25.93</td>\n",
       "      <td>0</td>\n",
       "      <td>0</td>\n",
       "      <td>0</td>\n",
       "      <td>...</td>\n",
       "      <td>0</td>\n",
       "      <td>0.0</td>\n",
       "      <td>0</td>\n",
       "      <td>0.0</td>\n",
       "      <td>0</td>\n",
       "      <td>0</td>\n",
       "      <td>151.30</td>\n",
       "      <td>1</td>\n",
       "      <td>1525</td>\n",
       "      <td>0.0667</td>\n",
       "    </tr>\n",
       "    <tr>\n",
       "      <th>1</th>\n",
       "      <td>3701672</td>\n",
       "      <td>43e4be7ad72cc7</td>\n",
       "      <td>521836de101ee8</td>\n",
       "      <td>b65de9055327e0</td>\n",
       "      <td>0</td>\n",
       "      <td>0</td>\n",
       "      <td>36.71</td>\n",
       "      <td>0</td>\n",
       "      <td>0</td>\n",
       "      <td>0</td>\n",
       "      <td>...</td>\n",
       "      <td>0</td>\n",
       "      <td>0.0</td>\n",
       "      <td>0</td>\n",
       "      <td>0.0</td>\n",
       "      <td>0</td>\n",
       "      <td>0</td>\n",
       "      <td>1918.00</td>\n",
       "      <td>7</td>\n",
       "      <td>1516</td>\n",
       "      <td>0.5862</td>\n",
       "    </tr>\n",
       "    <tr>\n",
       "      <th>2</th>\n",
       "      <td>2059784</td>\n",
       "      <td>9a68690e31fdff</td>\n",
       "      <td>4a72ffa2cebd90</td>\n",
       "      <td>d6aad3f9830e60</td>\n",
       "      <td>0</td>\n",
       "      <td>1</td>\n",
       "      <td>47.73</td>\n",
       "      <td>0</td>\n",
       "      <td>0</td>\n",
       "      <td>0</td>\n",
       "      <td>...</td>\n",
       "      <td>0</td>\n",
       "      <td>4088.0</td>\n",
       "      <td>0</td>\n",
       "      <td>0.0</td>\n",
       "      <td>0</td>\n",
       "      <td>0</td>\n",
       "      <td>820.00</td>\n",
       "      <td>7</td>\n",
       "      <td>0</td>\n",
       "      <td>0.8105</td>\n",
       "    </tr>\n",
       "    <tr>\n",
       "      <th>3</th>\n",
       "      <td>1302036</td>\n",
       "      <td>b147e1bd448fc4</td>\n",
       "      <td>9a8991656b3fea</td>\n",
       "      <td>d931c0932d8aca</td>\n",
       "      <td>0</td>\n",
       "      <td>0</td>\n",
       "      <td>0.00</td>\n",
       "      <td>0</td>\n",
       "      <td>0</td>\n",
       "      <td>0</td>\n",
       "      <td>...</td>\n",
       "      <td>1</td>\n",
       "      <td>0.0</td>\n",
       "      <td>0</td>\n",
       "      <td>0.0</td>\n",
       "      <td>0</td>\n",
       "      <td>0</td>\n",
       "      <td>38.81</td>\n",
       "      <td>0</td>\n",
       "      <td>1515</td>\n",
       "      <td>0.5556</td>\n",
       "    </tr>\n",
       "    <tr>\n",
       "      <th>4</th>\n",
       "      <td>297180</td>\n",
       "      <td>d818b4edd59612</td>\n",
       "      <td>eece87c8b846b3</td>\n",
       "      <td>ec2b5ed94baae3</td>\n",
       "      <td>0</td>\n",
       "      <td>2</td>\n",
       "      <td>100.00</td>\n",
       "      <td>0</td>\n",
       "      <td>0</td>\n",
       "      <td>3</td>\n",
       "      <td>...</td>\n",
       "      <td>0</td>\n",
       "      <td>918.4</td>\n",
       "      <td>0</td>\n",
       "      <td>0.0</td>\n",
       "      <td>0</td>\n",
       "      <td>0</td>\n",
       "      <td>1721.00</td>\n",
       "      <td>5</td>\n",
       "      <td>0</td>\n",
       "      <td>0.6429</td>\n",
       "    </tr>\n",
       "  </tbody>\n",
       "</table>\n",
       "<p>5 rows × 30 columns</p>\n",
       "</div>"
      ],
      "text/plain": [
       "   Unnamed: 0              Id         groupId         matchId  assists  \\\n",
       "0     2093518  a3e3cea9f2e314  c9f6eaa81245b5  a3d8693390584c        0   \n",
       "1     3701672  43e4be7ad72cc7  521836de101ee8  b65de9055327e0        0   \n",
       "2     2059784  9a68690e31fdff  4a72ffa2cebd90  d6aad3f9830e60        0   \n",
       "3     1302036  b147e1bd448fc4  9a8991656b3fea  d931c0932d8aca        0   \n",
       "4      297180  d818b4edd59612  eece87c8b846b3  ec2b5ed94baae3        0   \n",
       "\n",
       "   boosts  damageDealt  DBNOs  headshotKills  heals  ...  revives  \\\n",
       "0       0        25.93      0              0      0  ...        0   \n",
       "1       0        36.71      0              0      0  ...        0   \n",
       "2       1        47.73      0              0      0  ...        0   \n",
       "3       0         0.00      0              0      0  ...        1   \n",
       "4       2       100.00      0              0      3  ...        0   \n",
       "\n",
       "   rideDistance  roadKills  swimDistance  teamKills  vehicleDestroys  \\\n",
       "0           0.0          0           0.0          0                0   \n",
       "1           0.0          0           0.0          0                0   \n",
       "2        4088.0          0           0.0          0                0   \n",
       "3           0.0          0           0.0          0                0   \n",
       "4         918.4          0           0.0          0                0   \n",
       "\n",
       "  walkDistance  weaponsAcquired  winPoints  winPlacePerc  \n",
       "0       151.30                1       1525        0.0667  \n",
       "1      1918.00                7       1516        0.5862  \n",
       "2       820.00                7          0        0.8105  \n",
       "3        38.81                0       1515        0.5556  \n",
       "4      1721.00                5          0        0.6429  \n",
       "\n",
       "[5 rows x 30 columns]"
      ]
     },
     "execution_count": 4,
     "metadata": {},
     "output_type": "execute_result"
    }
   ],
   "source": [
    "data.head()"
   ]
  },
  {
   "cell_type": "code",
   "execution_count": 5,
   "metadata": {},
   "outputs": [
    {
     "data": {
      "text/plain": [
       "(1111742, 30)"
      ]
     },
     "execution_count": 5,
     "metadata": {},
     "output_type": "execute_result"
    }
   ],
   "source": [
    "data.shape"
   ]
  },
  {
   "cell_type": "code",
   "execution_count": 6,
   "metadata": {},
   "outputs": [
    {
     "data": {
      "text/html": [
       "<div>\n",
       "<style scoped>\n",
       "    .dataframe tbody tr th:only-of-type {\n",
       "        vertical-align: middle;\n",
       "    }\n",
       "\n",
       "    .dataframe tbody tr th {\n",
       "        vertical-align: top;\n",
       "    }\n",
       "\n",
       "    .dataframe thead th {\n",
       "        text-align: right;\n",
       "    }\n",
       "</style>\n",
       "<table border=\"1\" class=\"dataframe\">\n",
       "  <thead>\n",
       "    <tr style=\"text-align: right;\">\n",
       "      <th></th>\n",
       "      <th>Unnamed: 0</th>\n",
       "      <th>assists</th>\n",
       "      <th>boosts</th>\n",
       "      <th>damageDealt</th>\n",
       "      <th>DBNOs</th>\n",
       "      <th>headshotKills</th>\n",
       "      <th>heals</th>\n",
       "      <th>killPlace</th>\n",
       "      <th>killPoints</th>\n",
       "      <th>kills</th>\n",
       "      <th>...</th>\n",
       "      <th>revives</th>\n",
       "      <th>rideDistance</th>\n",
       "      <th>roadKills</th>\n",
       "      <th>swimDistance</th>\n",
       "      <th>teamKills</th>\n",
       "      <th>vehicleDestroys</th>\n",
       "      <th>walkDistance</th>\n",
       "      <th>weaponsAcquired</th>\n",
       "      <th>winPoints</th>\n",
       "      <th>winPlacePerc</th>\n",
       "    </tr>\n",
       "  </thead>\n",
       "  <tbody>\n",
       "    <tr>\n",
       "      <th>count</th>\n",
       "      <td>1.111742e+06</td>\n",
       "      <td>1.111742e+06</td>\n",
       "      <td>1.111742e+06</td>\n",
       "      <td>1.111742e+06</td>\n",
       "      <td>1.111742e+06</td>\n",
       "      <td>1.111742e+06</td>\n",
       "      <td>1.111742e+06</td>\n",
       "      <td>1.111742e+06</td>\n",
       "      <td>1.111742e+06</td>\n",
       "      <td>1.111742e+06</td>\n",
       "      <td>...</td>\n",
       "      <td>1.111742e+06</td>\n",
       "      <td>1.111742e+06</td>\n",
       "      <td>1.111742e+06</td>\n",
       "      <td>1.111742e+06</td>\n",
       "      <td>1.111742e+06</td>\n",
       "      <td>1.111742e+06</td>\n",
       "      <td>1.111742e+06</td>\n",
       "      <td>1.111742e+06</td>\n",
       "      <td>1.111742e+06</td>\n",
       "      <td>1.111741e+06</td>\n",
       "    </tr>\n",
       "    <tr>\n",
       "      <th>mean</th>\n",
       "      <td>2.224362e+06</td>\n",
       "      <td>2.336738e-01</td>\n",
       "      <td>1.106655e+00</td>\n",
       "      <td>1.307364e+02</td>\n",
       "      <td>6.573612e-01</td>\n",
       "      <td>2.266488e-01</td>\n",
       "      <td>1.370348e+00</td>\n",
       "      <td>4.759562e+01</td>\n",
       "      <td>5.044301e+02</td>\n",
       "      <td>9.255097e-01</td>\n",
       "      <td>...</td>\n",
       "      <td>1.641784e-01</td>\n",
       "      <td>6.042142e+02</td>\n",
       "      <td>3.551184e-03</td>\n",
       "      <td>4.545068e+00</td>\n",
       "      <td>2.401097e-02</td>\n",
       "      <td>7.833652e-03</td>\n",
       "      <td>1.153282e+03</td>\n",
       "      <td>3.659685e+00</td>\n",
       "      <td>6.057065e+02</td>\n",
       "      <td>4.727868e-01</td>\n",
       "    </tr>\n",
       "    <tr>\n",
       "      <th>std</th>\n",
       "      <td>1.283879e+06</td>\n",
       "      <td>5.894028e-01</td>\n",
       "      <td>1.716050e+00</td>\n",
       "      <td>1.711755e+02</td>\n",
       "      <td>1.146023e+00</td>\n",
       "      <td>6.033356e-01</td>\n",
       "      <td>2.683819e+00</td>\n",
       "      <td>2.747025e+01</td>\n",
       "      <td>6.274006e+02</td>\n",
       "      <td>1.562216e+00</td>\n",
       "      <td>...</td>\n",
       "      <td>4.704189e-01</td>\n",
       "      <td>1.495949e+03</td>\n",
       "      <td>7.385452e-02</td>\n",
       "      <td>3.061857e+01</td>\n",
       "      <td>1.678909e-01</td>\n",
       "      <td>9.194621e-02</td>\n",
       "      <td>1.182788e+03</td>\n",
       "      <td>2.461805e+00</td>\n",
       "      <td>7.395140e+02</td>\n",
       "      <td>3.073771e-01</td>\n",
       "    </tr>\n",
       "    <tr>\n",
       "      <th>min</th>\n",
       "      <td>6.000000e+00</td>\n",
       "      <td>0.000000e+00</td>\n",
       "      <td>0.000000e+00</td>\n",
       "      <td>0.000000e+00</td>\n",
       "      <td>0.000000e+00</td>\n",
       "      <td>0.000000e+00</td>\n",
       "      <td>0.000000e+00</td>\n",
       "      <td>1.000000e+00</td>\n",
       "      <td>0.000000e+00</td>\n",
       "      <td>0.000000e+00</td>\n",
       "      <td>...</td>\n",
       "      <td>0.000000e+00</td>\n",
       "      <td>0.000000e+00</td>\n",
       "      <td>0.000000e+00</td>\n",
       "      <td>0.000000e+00</td>\n",
       "      <td>0.000000e+00</td>\n",
       "      <td>0.000000e+00</td>\n",
       "      <td>0.000000e+00</td>\n",
       "      <td>0.000000e+00</td>\n",
       "      <td>0.000000e+00</td>\n",
       "      <td>0.000000e+00</td>\n",
       "    </tr>\n",
       "    <tr>\n",
       "      <th>25%</th>\n",
       "      <td>1.112440e+06</td>\n",
       "      <td>0.000000e+00</td>\n",
       "      <td>0.000000e+00</td>\n",
       "      <td>0.000000e+00</td>\n",
       "      <td>0.000000e+00</td>\n",
       "      <td>0.000000e+00</td>\n",
       "      <td>0.000000e+00</td>\n",
       "      <td>2.400000e+01</td>\n",
       "      <td>0.000000e+00</td>\n",
       "      <td>0.000000e+00</td>\n",
       "      <td>...</td>\n",
       "      <td>0.000000e+00</td>\n",
       "      <td>0.000000e+00</td>\n",
       "      <td>0.000000e+00</td>\n",
       "      <td>0.000000e+00</td>\n",
       "      <td>0.000000e+00</td>\n",
       "      <td>0.000000e+00</td>\n",
       "      <td>1.552000e+02</td>\n",
       "      <td>2.000000e+00</td>\n",
       "      <td>0.000000e+00</td>\n",
       "      <td>2.000000e-01</td>\n",
       "    </tr>\n",
       "    <tr>\n",
       "      <th>50%</th>\n",
       "      <td>2.223772e+06</td>\n",
       "      <td>0.000000e+00</td>\n",
       "      <td>0.000000e+00</td>\n",
       "      <td>8.411000e+01</td>\n",
       "      <td>0.000000e+00</td>\n",
       "      <td>0.000000e+00</td>\n",
       "      <td>0.000000e+00</td>\n",
       "      <td>4.700000e+01</td>\n",
       "      <td>0.000000e+00</td>\n",
       "      <td>0.000000e+00</td>\n",
       "      <td>...</td>\n",
       "      <td>0.000000e+00</td>\n",
       "      <td>0.000000e+00</td>\n",
       "      <td>0.000000e+00</td>\n",
       "      <td>0.000000e+00</td>\n",
       "      <td>0.000000e+00</td>\n",
       "      <td>0.000000e+00</td>\n",
       "      <td>6.841000e+02</td>\n",
       "      <td>3.000000e+00</td>\n",
       "      <td>0.000000e+00</td>\n",
       "      <td>4.583000e-01</td>\n",
       "    </tr>\n",
       "    <tr>\n",
       "      <th>75%</th>\n",
       "      <td>3.337954e+06</td>\n",
       "      <td>0.000000e+00</td>\n",
       "      <td>2.000000e+00</td>\n",
       "      <td>1.859000e+02</td>\n",
       "      <td>1.000000e+00</td>\n",
       "      <td>0.000000e+00</td>\n",
       "      <td>2.000000e+00</td>\n",
       "      <td>7.100000e+01</td>\n",
       "      <td>1.171000e+03</td>\n",
       "      <td>1.000000e+00</td>\n",
       "      <td>...</td>\n",
       "      <td>0.000000e+00</td>\n",
       "      <td>7.927500e-02</td>\n",
       "      <td>0.000000e+00</td>\n",
       "      <td>0.000000e+00</td>\n",
       "      <td>0.000000e+00</td>\n",
       "      <td>0.000000e+00</td>\n",
       "      <td>1.975000e+03</td>\n",
       "      <td>5.000000e+00</td>\n",
       "      <td>1.495000e+03</td>\n",
       "      <td>7.407000e-01</td>\n",
       "    </tr>\n",
       "    <tr>\n",
       "      <th>max</th>\n",
       "      <td>4.446964e+06</td>\n",
       "      <td>1.700000e+01</td>\n",
       "      <td>2.400000e+01</td>\n",
       "      <td>5.990000e+03</td>\n",
       "      <td>3.500000e+01</td>\n",
       "      <td>6.400000e+01</td>\n",
       "      <td>7.300000e+01</td>\n",
       "      <td>1.000000e+02</td>\n",
       "      <td>2.170000e+03</td>\n",
       "      <td>7.200000e+01</td>\n",
       "      <td>...</td>\n",
       "      <td>2.300000e+01</td>\n",
       "      <td>3.540000e+04</td>\n",
       "      <td>1.400000e+01</td>\n",
       "      <td>2.668000e+03</td>\n",
       "      <td>1.000000e+01</td>\n",
       "      <td>5.000000e+00</td>\n",
       "      <td>1.396000e+04</td>\n",
       "      <td>1.770000e+02</td>\n",
       "      <td>2.002000e+03</td>\n",
       "      <td>1.000000e+00</td>\n",
       "    </tr>\n",
       "  </tbody>\n",
       "</table>\n",
       "<p>8 rows × 26 columns</p>\n",
       "</div>"
      ],
      "text/plain": [
       "         Unnamed: 0       assists        boosts   damageDealt         DBNOs  \\\n",
       "count  1.111742e+06  1.111742e+06  1.111742e+06  1.111742e+06  1.111742e+06   \n",
       "mean   2.224362e+06  2.336738e-01  1.106655e+00  1.307364e+02  6.573612e-01   \n",
       "std    1.283879e+06  5.894028e-01  1.716050e+00  1.711755e+02  1.146023e+00   \n",
       "min    6.000000e+00  0.000000e+00  0.000000e+00  0.000000e+00  0.000000e+00   \n",
       "25%    1.112440e+06  0.000000e+00  0.000000e+00  0.000000e+00  0.000000e+00   \n",
       "50%    2.223772e+06  0.000000e+00  0.000000e+00  8.411000e+01  0.000000e+00   \n",
       "75%    3.337954e+06  0.000000e+00  2.000000e+00  1.859000e+02  1.000000e+00   \n",
       "max    4.446964e+06  1.700000e+01  2.400000e+01  5.990000e+03  3.500000e+01   \n",
       "\n",
       "       headshotKills         heals     killPlace    killPoints         kills  \\\n",
       "count   1.111742e+06  1.111742e+06  1.111742e+06  1.111742e+06  1.111742e+06   \n",
       "mean    2.266488e-01  1.370348e+00  4.759562e+01  5.044301e+02  9.255097e-01   \n",
       "std     6.033356e-01  2.683819e+00  2.747025e+01  6.274006e+02  1.562216e+00   \n",
       "min     0.000000e+00  0.000000e+00  1.000000e+00  0.000000e+00  0.000000e+00   \n",
       "25%     0.000000e+00  0.000000e+00  2.400000e+01  0.000000e+00  0.000000e+00   \n",
       "50%     0.000000e+00  0.000000e+00  4.700000e+01  0.000000e+00  0.000000e+00   \n",
       "75%     0.000000e+00  2.000000e+00  7.100000e+01  1.171000e+03  1.000000e+00   \n",
       "max     6.400000e+01  7.300000e+01  1.000000e+02  2.170000e+03  7.200000e+01   \n",
       "\n",
       "       ...       revives  rideDistance     roadKills  swimDistance  \\\n",
       "count  ...  1.111742e+06  1.111742e+06  1.111742e+06  1.111742e+06   \n",
       "mean   ...  1.641784e-01  6.042142e+02  3.551184e-03  4.545068e+00   \n",
       "std    ...  4.704189e-01  1.495949e+03  7.385452e-02  3.061857e+01   \n",
       "min    ...  0.000000e+00  0.000000e+00  0.000000e+00  0.000000e+00   \n",
       "25%    ...  0.000000e+00  0.000000e+00  0.000000e+00  0.000000e+00   \n",
       "50%    ...  0.000000e+00  0.000000e+00  0.000000e+00  0.000000e+00   \n",
       "75%    ...  0.000000e+00  7.927500e-02  0.000000e+00  0.000000e+00   \n",
       "max    ...  2.300000e+01  3.540000e+04  1.400000e+01  2.668000e+03   \n",
       "\n",
       "          teamKills  vehicleDestroys  walkDistance  weaponsAcquired  \\\n",
       "count  1.111742e+06     1.111742e+06  1.111742e+06     1.111742e+06   \n",
       "mean   2.401097e-02     7.833652e-03  1.153282e+03     3.659685e+00   \n",
       "std    1.678909e-01     9.194621e-02  1.182788e+03     2.461805e+00   \n",
       "min    0.000000e+00     0.000000e+00  0.000000e+00     0.000000e+00   \n",
       "25%    0.000000e+00     0.000000e+00  1.552000e+02     2.000000e+00   \n",
       "50%    0.000000e+00     0.000000e+00  6.841000e+02     3.000000e+00   \n",
       "75%    0.000000e+00     0.000000e+00  1.975000e+03     5.000000e+00   \n",
       "max    1.000000e+01     5.000000e+00  1.396000e+04     1.770000e+02   \n",
       "\n",
       "          winPoints  winPlacePerc  \n",
       "count  1.111742e+06  1.111741e+06  \n",
       "mean   6.057065e+02  4.727868e-01  \n",
       "std    7.395140e+02  3.073771e-01  \n",
       "min    0.000000e+00  0.000000e+00  \n",
       "25%    0.000000e+00  2.000000e-01  \n",
       "50%    0.000000e+00  4.583000e-01  \n",
       "75%    1.495000e+03  7.407000e-01  \n",
       "max    2.002000e+03  1.000000e+00  \n",
       "\n",
       "[8 rows x 26 columns]"
      ]
     },
     "execution_count": 6,
     "metadata": {},
     "output_type": "execute_result"
    }
   ],
   "source": [
    "data.describe()"
   ]
  },
  {
   "cell_type": "code",
   "execution_count": 7,
   "metadata": {},
   "outputs": [
    {
     "name": "stdout",
     "output_type": "stream",
     "text": [
      "<class 'pandas.core.frame.DataFrame'>\n",
      "RangeIndex: 1111742 entries, 0 to 1111741\n",
      "Data columns (total 30 columns):\n",
      " #   Column           Non-Null Count    Dtype  \n",
      "---  ------           --------------    -----  \n",
      " 0   Unnamed: 0       1111742 non-null  int64  \n",
      " 1   Id               1111742 non-null  object \n",
      " 2   groupId          1111742 non-null  object \n",
      " 3   matchId          1111742 non-null  object \n",
      " 4   assists          1111742 non-null  int64  \n",
      " 5   boosts           1111742 non-null  int64  \n",
      " 6   damageDealt      1111742 non-null  float64\n",
      " 7   DBNOs            1111742 non-null  int64  \n",
      " 8   headshotKills    1111742 non-null  int64  \n",
      " 9   heals            1111742 non-null  int64  \n",
      " 10  killPlace        1111742 non-null  int64  \n",
      " 11  killPoints       1111742 non-null  int64  \n",
      " 12  kills            1111742 non-null  int64  \n",
      " 13  killStreaks      1111742 non-null  int64  \n",
      " 14  longestKill      1111742 non-null  float64\n",
      " 15  matchDuration    1111742 non-null  int64  \n",
      " 16  matchType        1111742 non-null  object \n",
      " 17  maxPlace         1111742 non-null  int64  \n",
      " 18  numGroups        1111742 non-null  int64  \n",
      " 19  rankPoints       1111742 non-null  int64  \n",
      " 20  revives          1111742 non-null  int64  \n",
      " 21  rideDistance     1111742 non-null  float64\n",
      " 22  roadKills        1111742 non-null  int64  \n",
      " 23  swimDistance     1111742 non-null  float64\n",
      " 24  teamKills        1111742 non-null  int64  \n",
      " 25  vehicleDestroys  1111742 non-null  int64  \n",
      " 26  walkDistance     1111742 non-null  float64\n",
      " 27  weaponsAcquired  1111742 non-null  int64  \n",
      " 28  winPoints        1111742 non-null  int64  \n",
      " 29  winPlacePerc     1111741 non-null  float64\n",
      "dtypes: float64(6), int64(20), object(4)\n",
      "memory usage: 254.5+ MB\n"
     ]
    }
   ],
   "source": [
    "data.info()"
   ]
  },
  {
   "cell_type": "code",
   "execution_count": 8,
   "metadata": {},
   "outputs": [
    {
     "data": {
      "text/plain": [
       "Unnamed: 0         0\n",
       "Id                 0\n",
       "groupId            0\n",
       "matchId            0\n",
       "assists            0\n",
       "boosts             0\n",
       "damageDealt        0\n",
       "DBNOs              0\n",
       "headshotKills      0\n",
       "heals              0\n",
       "killPlace          0\n",
       "killPoints         0\n",
       "kills              0\n",
       "killStreaks        0\n",
       "longestKill        0\n",
       "matchDuration      0\n",
       "matchType          0\n",
       "maxPlace           0\n",
       "numGroups          0\n",
       "rankPoints         0\n",
       "revives            0\n",
       "rideDistance       0\n",
       "roadKills          0\n",
       "swimDistance       0\n",
       "teamKills          0\n",
       "vehicleDestroys    0\n",
       "walkDistance       0\n",
       "weaponsAcquired    0\n",
       "winPoints          0\n",
       "winPlacePerc       1\n",
       "dtype: int64"
      ]
     },
     "execution_count": 8,
     "metadata": {},
     "output_type": "execute_result"
    }
   ],
   "source": [
    "data.isnull().sum()"
   ]
  },
  {
   "cell_type": "code",
   "execution_count": 9,
   "metadata": {},
   "outputs": [],
   "source": [
    "# only winPlacePerc consist null value "
   ]
  },
  {
   "cell_type": "code",
   "execution_count": 10,
   "metadata": {},
   "outputs": [
    {
     "data": {
      "text/html": [
       "<div>\n",
       "<style scoped>\n",
       "    .dataframe tbody tr th:only-of-type {\n",
       "        vertical-align: middle;\n",
       "    }\n",
       "\n",
       "    .dataframe tbody tr th {\n",
       "        vertical-align: top;\n",
       "    }\n",
       "\n",
       "    .dataframe thead th {\n",
       "        text-align: right;\n",
       "    }\n",
       "</style>\n",
       "<table border=\"1\" class=\"dataframe\">\n",
       "  <thead>\n",
       "    <tr style=\"text-align: right;\">\n",
       "      <th></th>\n",
       "      <th>Unnamed: 0</th>\n",
       "      <th>Id</th>\n",
       "      <th>groupId</th>\n",
       "      <th>matchId</th>\n",
       "      <th>assists</th>\n",
       "      <th>boosts</th>\n",
       "      <th>damageDealt</th>\n",
       "      <th>DBNOs</th>\n",
       "      <th>headshotKills</th>\n",
       "      <th>heals</th>\n",
       "      <th>...</th>\n",
       "      <th>revives</th>\n",
       "      <th>rideDistance</th>\n",
       "      <th>roadKills</th>\n",
       "      <th>swimDistance</th>\n",
       "      <th>teamKills</th>\n",
       "      <th>vehicleDestroys</th>\n",
       "      <th>walkDistance</th>\n",
       "      <th>weaponsAcquired</th>\n",
       "      <th>winPoints</th>\n",
       "      <th>winPlacePerc</th>\n",
       "    </tr>\n",
       "  </thead>\n",
       "  <tbody>\n",
       "    <tr>\n",
       "      <th>184895</th>\n",
       "      <td>2744604</td>\n",
       "      <td>f70c74418bb064</td>\n",
       "      <td>12dfbede33f92b</td>\n",
       "      <td>224a123c53e008</td>\n",
       "      <td>0</td>\n",
       "      <td>0</td>\n",
       "      <td>0.0</td>\n",
       "      <td>0</td>\n",
       "      <td>0</td>\n",
       "      <td>0</td>\n",
       "      <td>...</td>\n",
       "      <td>0</td>\n",
       "      <td>0.0</td>\n",
       "      <td>0</td>\n",
       "      <td>0.0</td>\n",
       "      <td>0</td>\n",
       "      <td>0</td>\n",
       "      <td>0.0</td>\n",
       "      <td>0</td>\n",
       "      <td>0</td>\n",
       "      <td>NaN</td>\n",
       "    </tr>\n",
       "  </tbody>\n",
       "</table>\n",
       "<p>1 rows × 30 columns</p>\n",
       "</div>"
      ],
      "text/plain": [
       "        Unnamed: 0              Id         groupId         matchId  assists  \\\n",
       "184895     2744604  f70c74418bb064  12dfbede33f92b  224a123c53e008        0   \n",
       "\n",
       "        boosts  damageDealt  DBNOs  headshotKills  heals  ...  revives  \\\n",
       "184895       0          0.0      0              0      0  ...        0   \n",
       "\n",
       "        rideDistance  roadKills  swimDistance  teamKills  vehicleDestroys  \\\n",
       "184895           0.0          0           0.0          0                0   \n",
       "\n",
       "       walkDistance  weaponsAcquired  winPoints  winPlacePerc  \n",
       "184895          0.0                0          0           NaN  \n",
       "\n",
       "[1 rows x 30 columns]"
      ]
     },
     "execution_count": 10,
     "metadata": {},
     "output_type": "execute_result"
    }
   ],
   "source": [
    "data[data[\"winPlacePerc\"].isnull()]"
   ]
  },
  {
   "cell_type": "code",
   "execution_count": 11,
   "metadata": {},
   "outputs": [
    {
     "data": {
      "text/html": [
       "<div>\n",
       "<style scoped>\n",
       "    .dataframe tbody tr th:only-of-type {\n",
       "        vertical-align: middle;\n",
       "    }\n",
       "\n",
       "    .dataframe tbody tr th {\n",
       "        vertical-align: top;\n",
       "    }\n",
       "\n",
       "    .dataframe thead th {\n",
       "        text-align: right;\n",
       "    }\n",
       "</style>\n",
       "<table border=\"1\" class=\"dataframe\">\n",
       "  <thead>\n",
       "    <tr style=\"text-align: right;\">\n",
       "      <th></th>\n",
       "      <th>Unnamed: 0</th>\n",
       "      <th>Id</th>\n",
       "      <th>groupId</th>\n",
       "      <th>matchId</th>\n",
       "      <th>assists</th>\n",
       "      <th>boosts</th>\n",
       "      <th>damageDealt</th>\n",
       "      <th>DBNOs</th>\n",
       "      <th>headshotKills</th>\n",
       "      <th>heals</th>\n",
       "      <th>...</th>\n",
       "      <th>revives</th>\n",
       "      <th>rideDistance</th>\n",
       "      <th>roadKills</th>\n",
       "      <th>swimDistance</th>\n",
       "      <th>teamKills</th>\n",
       "      <th>vehicleDestroys</th>\n",
       "      <th>walkDistance</th>\n",
       "      <th>weaponsAcquired</th>\n",
       "      <th>winPoints</th>\n",
       "      <th>winPlacePerc</th>\n",
       "    </tr>\n",
       "  </thead>\n",
       "  <tbody>\n",
       "  </tbody>\n",
       "</table>\n",
       "<p>0 rows × 30 columns</p>\n",
       "</div>"
      ],
      "text/plain": [
       "Empty DataFrame\n",
       "Columns: [Unnamed: 0, Id, groupId, matchId, assists, boosts, damageDealt, DBNOs, headshotKills, heals, killPlace, killPoints, kills, killStreaks, longestKill, matchDuration, matchType, maxPlace, numGroups, rankPoints, revives, rideDistance, roadKills, swimDistance, teamKills, vehicleDestroys, walkDistance, weaponsAcquired, winPoints, winPlacePerc]\n",
       "Index: []\n",
       "\n",
       "[0 rows x 30 columns]"
      ]
     },
     "execution_count": 11,
     "metadata": {},
     "output_type": "execute_result"
    }
   ],
   "source": [
    "data[\"winPlacePerc\"] = data[\"winPlacePerc\"].fillna(np.mean(data[\"winPlacePerc\"]))\n",
    "data[data[\"winPlacePerc\"].isnull()]"
   ]
  },
  {
   "cell_type": "code",
   "execution_count": 81,
   "metadata": {},
   "outputs": [],
   "source": [
    "# finding skew and kurtosis"
   ]
  },
  {
   "cell_type": "code",
   "execution_count": 79,
   "metadata": {},
   "outputs": [
    {
     "data": {
      "text/plain": [
       "Unnamed: 0          0.000003\n",
       "assists             3.608622\n",
       "boosts              1.953292\n",
       "damageDealt         3.014093\n",
       "DBNOs               3.185760\n",
       "headshotKills       6.048764\n",
       "heals               3.476639\n",
       "killPlace           0.027635\n",
       "killPoints          0.520990\n",
       "kills               3.452266\n",
       "killStreaks         1.286748\n",
       "longestKill         3.999413\n",
       "matchDuration       0.274046\n",
       "maxPlace            1.354716\n",
       "numGroups           1.361751\n",
       "rankPoints         -0.367622\n",
       "revives             4.018129\n",
       "rideDistance        3.335737\n",
       "roadKills          35.613026\n",
       "swimDistance       13.988223\n",
       "teamKills           8.174814\n",
       "vehicleDestroys    12.744544\n",
       "walkDistance        1.091027\n",
       "weaponsAcquired     2.609852\n",
       "winPoints           0.407401\n",
       "winPlacePerc        0.098283\n",
       "dtype: float64"
      ]
     },
     "execution_count": 79,
     "metadata": {},
     "output_type": "execute_result"
    }
   ],
   "source": [
    "data.skew()"
   ]
  },
  {
   "cell_type": "code",
   "execution_count": 80,
   "metadata": {},
   "outputs": [
    {
     "data": {
      "text/plain": [
       "Unnamed: 0           -1.201103\n",
       "assists              21.796652\n",
       "boosts                4.315384\n",
       "damageDealt          21.441811\n",
       "DBNOs                21.499852\n",
       "headshotKills       195.621011\n",
       "heals                19.498255\n",
       "killPlace            -1.184863\n",
       "killPoints           -1.559758\n",
       "kills                30.707200\n",
       "killStreaks           2.788812\n",
       "longestKill          25.412510\n",
       "matchDuration        -1.255459\n",
       "maxPlace              0.488157\n",
       "numGroups             0.537757\n",
       "rankPoints           -1.800895\n",
       "revives              36.461919\n",
       "rideDistance         14.295050\n",
       "roadKills          2628.263567\n",
       "swimDistance        346.205853\n",
       "teamKills            89.672993\n",
       "vehicleDestroys     190.139282\n",
       "walkDistance          0.942376\n",
       "weaponsAcquired      55.587503\n",
       "winPoints            -1.823766\n",
       "winPlacePerc         -1.245227\n",
       "dtype: float64"
      ]
     },
     "execution_count": 80,
     "metadata": {},
     "output_type": "execute_result"
    }
   ],
   "source": [
    "data.kurtosis()"
   ]
  },
  {
   "cell_type": "code",
   "execution_count": 82,
   "metadata": {},
   "outputs": [],
   "source": [
    "# the data is skew ,we can say that roadKills has more skew value and rankPoints  has negitive skew value"
   ]
  },
  {
   "cell_type": "code",
   "execution_count": 83,
   "metadata": {},
   "outputs": [
    {
     "data": {
      "text/plain": [
       "array([ 0,  1,  2,  3,  4,  5, 10], dtype=int64)"
      ]
     },
     "execution_count": 83,
     "metadata": {},
     "output_type": "execute_result"
    }
   ],
   "source": [
    "data.teamKills.unique()"
   ]
  },
  {
   "cell_type": "code",
   "execution_count": 89,
   "metadata": {},
   "outputs": [
    {
     "data": {
      "text/plain": [
       "<AxesSubplot:xlabel='teamKills', ylabel='damageDealt'>"
      ]
     },
     "execution_count": 89,
     "metadata": {},
     "output_type": "execute_result"
    },
    {
     "data": {
      "image/png": "[encoded data removed]",
      "text/plain": [
       "<Figure size 432x288 with 1 Axes>"
      ]
     },
     "metadata": {
      "needs_background": "light"
     },
     "output_type": "display_data"
    }
   ],
   "source": [
    "sns.barplot(x = data.teamKills,y = data.damageDealt)"
   ]
  },
  {
   "cell_type": "markdown",
   "metadata": {},
   "source": [
    "### There is a correlation between teamKills and damageDealt , as seen in the barplot "
   ]
  },
  {
   "cell_type": "code",
   "execution_count": 14,
   "metadata": {},
   "outputs": [
    {
     "data": {
      "text/plain": [
       "<AxesSubplot:xlabel='vehicleDestroys', ylabel='count'>"
      ]
     },
     "execution_count": 14,
     "metadata": {},
     "output_type": "execute_result"
    },
    {
     "data": {
      "image/png": "[encoded data removed]",
      "text/plain": [
       "<Figure size 432x288 with 1 Axes>"
      ]
     },
     "metadata": {
      "needs_background": "light"
     },
     "output_type": "display_data"
    }
   ],
   "source": [
    "sns.countplot(data['vehicleDestroys'])"
   ]
  },
  {
   "cell_type": "code",
   "execution_count": 15,
   "metadata": {},
   "outputs": [
    {
     "data": {
      "text/plain": [
       "0    1103376\n",
       "1       8054\n",
       "2        285\n",
       "3         24\n",
       "4          2\n",
       "5          1\n",
       "Name: vehicleDestroys, dtype: int64"
      ]
     },
     "execution_count": 15,
     "metadata": {},
     "output_type": "execute_result"
    }
   ],
   "source": [
    "data['vehicleDestroys'].value_counts()"
   ]
  },
  {
   "cell_type": "code",
   "execution_count": 85,
   "metadata": {},
   "outputs": [],
   "source": [
    "# mosty of them not Destroyed the vehicle while playing pubg game"
   ]
  },
  {
   "cell_type": "code",
   "execution_count": 86,
   "metadata": {},
   "outputs": [
    {
     "data": {
      "text/plain": [
       "<AxesSubplot:xlabel='revives', ylabel='heals'>"
      ]
     },
     "execution_count": 86,
     "metadata": {},
     "output_type": "execute_result"
    },
    {
     "data": {
      "image/png": "[encoded data removed]",
      "text/plain": [
       "<Figure size 432x288 with 1 Axes>"
      ]
     },
     "metadata": {
      "needs_background": "light"
     },
     "output_type": "display_data"
    }
   ],
   "source": [
    "sns.scatterplot(y = data.heals,x = data.revives)"
   ]
  },
  {
   "cell_type": "code",
   "execution_count": 87,
   "metadata": {},
   "outputs": [],
   "source": [
    "# heals and revives contains  week negitive correlation "
   ]
  },
  {
   "cell_type": "code",
   "execution_count": 28,
   "metadata": {},
   "outputs": [
    {
     "data": {
      "image/png": "[encoded data removed]",
      "text/plain": [
       "<Figure size 1080x720 with 1 Axes>"
      ]
     },
     "metadata": {
      "needs_background": "light"
     },
     "output_type": "display_data"
    }
   ],
   "source": [
    "df=data.copy()\n",
    "df=  df[df['kills']==0]\n",
    "plt.figure(figsize=(15,10))\n",
    "plt.title('Damage Dealt By O Killers',fontsize=15)\n",
    "sns.distplot(df['damageDealt'])\n",
    "plt.show()"
   ]
  },
  {
   "cell_type": "code",
   "execution_count": 31,
   "metadata": {},
   "outputs": [
    {
     "data": {
      "image/png": "[encoded data removed]",
      "text/plain": [
       "<Figure size 1080x576 with 1 Axes>"
      ]
     },
     "metadata": {
      "needs_background": "light"
     },
     "output_type": "display_data"
    }
   ],
   "source": [
    "swim = data.copy()\n",
    "swim['swimDistance']= pd.cut(swim['swimDistance'],[-1,0,5,20,5286],labels=['0 m','1-5 m','6-20 m','20+ m'])\n",
    "plt.figure(figsize=(15,8))\n",
    "sns.boxplot(data=swim, x='swimDistance',y='winPlacePerc')\n",
    "plt.show()"
   ]
  },
  {
   "cell_type": "code",
   "execution_count": 33,
   "metadata": {},
   "outputs": [
    {
     "data": {
      "image/png": "[encoded data removed]",
      "text/plain": [
       "<Figure size 1080x1080 with 2 Axes>"
      ]
     },
     "metadata": {
      "needs_background": "light"
     },
     "output_type": "display_data"
    }
   ],
   "source": [
    "f,ax = plt.subplots(figsize=(15, 15))\n",
    "sns.heatmap(data.corr(), annot=True, linewidths=.5, fmt= '.1f',ax=ax)\n",
    "plt.show()"
   ]
  },
  {
   "cell_type": "markdown",
   "metadata": {},
   "source": [
    "* In terms of the target variable (winPlacePerc), there are a few variables high medium to high correlation. The highest positive correlation is walkDistance and the highest negative the killPlace.* "
   ]
  },
  {
   "cell_type": "code",
   "execution_count": 110,
   "metadata": {},
   "outputs": [],
   "source": [
    "# kill scores"
   ]
  },
  {
   "cell_type": "code",
   "execution_count": 89,
   "metadata": {},
   "outputs": [],
   "source": [
    "def bar_plot(variable):\n",
    "    var = data[variable]\n",
    "    varValue = var.value_counts()\n",
    "    plt.figure(figsize=(15,5))\n",
    "    plt.bar(varValue.index, varValue)\n",
    "    plt.xticks(varValue.index, varValue.index.values)\n",
    "    plt.ylabel(\"Quantity (million)\")\n",
    "    plt.title(variable)\n",
    "    plt.show()\n",
    "    print(\"{}: \\n {}\".format(variable,varValue))"
   ]
  },
  {
   "cell_type": "code",
   "execution_count": 90,
   "metadata": {},
   "outputs": [
    {
     "data": {
      "image/png": "[encoded data removed]",
      "text/plain": [
       "<Figure size 1080x360 with 1 Axes>"
      ]
     },
     "metadata": {
      "needs_background": "light"
     },
     "output_type": "display_data"
    },
    {
     "name": "stdout",
     "output_type": "stream",
     "text": [
      "kills: \n",
      " 0     632149\n",
      "1     232156\n",
      "2     118274\n",
      "3      58026\n",
      "4      31302\n",
      "5      16600\n",
      "6       9429\n",
      "7       5458\n",
      "8       3139\n",
      "9       1934\n",
      "10      1131\n",
      "11       713\n",
      "12       451\n",
      "13       283\n",
      "14       199\n",
      "15       126\n",
      "16        78\n",
      "17        61\n",
      "18        53\n",
      "19        29\n",
      "21        27\n",
      "20        24\n",
      "22        22\n",
      "23        17\n",
      "24        11\n",
      "26         9\n",
      "30         5\n",
      "33         3\n",
      "27         3\n",
      "40         3\n",
      "38         3\n",
      "25         3\n",
      "36         2\n",
      "39         2\n",
      "37         2\n",
      "29         2\n",
      "47         1\n",
      "50         1\n",
      "42         1\n",
      "53         1\n",
      "55         1\n",
      "44         1\n",
      "56         1\n",
      "41         1\n",
      "35         1\n",
      "34         1\n",
      "32         1\n",
      "28         1\n",
      "72         1\n",
      "Name: kills, dtype: int64\n"
     ]
    }
   ],
   "source": [
    "bar_plot('kills')"
   ]
  },
  {
   "cell_type": "markdown",
   "metadata": {},
   "source": [
    "#### 56% of the players couldn't even kill a person.\n",
    "#### The interesting thing is that 4197 player from this group won the game."
   ]
  },
  {
   "cell_type": "code",
   "execution_count": 91,
   "metadata": {},
   "outputs": [
    {
     "data": {
      "text/plain": [
       "4197"
      ]
     },
     "execution_count": 91,
     "metadata": {},
     "output_type": "execute_result"
    }
   ],
   "source": [
    "# Winners without killing\n",
    "len(data[(data.kills == 0) & (data.winPlacePerc == 1)])"
   ]
  },
  {
   "cell_type": "code",
   "execution_count": 92,
   "metadata": {},
   "outputs": [
    {
     "data": {
      "text/plain": [
       "3"
      ]
     },
     "execution_count": 92,
     "metadata": {},
     "output_type": "execute_result"
    }
   ],
   "source": [
    "len(data[(data.kills == 0) & (data.winPlacePerc == 1) & (data.numGroups > 50)])"
   ]
  },
  {
   "cell_type": "markdown",
   "metadata": {},
   "source": [
    "#### However, it seems that only 3 of these players played solo, which means that for the rest, their teammates did all the work."
   ]
  },
  {
   "cell_type": "code",
   "execution_count": 93,
   "metadata": {},
   "outputs": [
    {
     "data": {
      "text/html": [
       "<div>\n",
       "<style scoped>\n",
       "    .dataframe tbody tr th:only-of-type {\n",
       "        vertical-align: middle;\n",
       "    }\n",
       "\n",
       "    .dataframe tbody tr th {\n",
       "        vertical-align: top;\n",
       "    }\n",
       "\n",
       "    .dataframe thead th {\n",
       "        text-align: right;\n",
       "    }\n",
       "</style>\n",
       "<table border=\"1\" class=\"dataframe\">\n",
       "  <thead>\n",
       "    <tr style=\"text-align: right;\">\n",
       "      <th></th>\n",
       "      <th>Unnamed: 0</th>\n",
       "      <th>Id</th>\n",
       "      <th>groupId</th>\n",
       "      <th>matchId</th>\n",
       "      <th>assists</th>\n",
       "      <th>boosts</th>\n",
       "      <th>damageDealt</th>\n",
       "      <th>DBNOs</th>\n",
       "      <th>headshotKills</th>\n",
       "      <th>heals</th>\n",
       "      <th>...</th>\n",
       "      <th>revives</th>\n",
       "      <th>rideDistance</th>\n",
       "      <th>roadKills</th>\n",
       "      <th>swimDistance</th>\n",
       "      <th>teamKills</th>\n",
       "      <th>vehicleDestroys</th>\n",
       "      <th>walkDistance</th>\n",
       "      <th>weaponsAcquired</th>\n",
       "      <th>winPoints</th>\n",
       "      <th>winPlacePerc</th>\n",
       "    </tr>\n",
       "  </thead>\n",
       "  <tbody>\n",
       "    <tr>\n",
       "      <th>758017</th>\n",
       "      <td>3431247</td>\n",
       "      <td>06308c988bf0c2</td>\n",
       "      <td>4c4ee1e9eb8b5e</td>\n",
       "      <td>6680c7c3d17d48</td>\n",
       "      <td>7</td>\n",
       "      <td>4</td>\n",
       "      <td>5990.0</td>\n",
       "      <td>0</td>\n",
       "      <td>64</td>\n",
       "      <td>10</td>\n",
       "      <td>...</td>\n",
       "      <td>0</td>\n",
       "      <td>0.0</td>\n",
       "      <td>0</td>\n",
       "      <td>0.0</td>\n",
       "      <td>0</td>\n",
       "      <td>0</td>\n",
       "      <td>728.10</td>\n",
       "      <td>35</td>\n",
       "      <td>0</td>\n",
       "      <td>1.0</td>\n",
       "    </tr>\n",
       "    <tr>\n",
       "      <th>697393</th>\n",
       "      <td>1491277</td>\n",
       "      <td>1f6ceaa5140fb6</td>\n",
       "      <td>dc2fef63e14d5c</td>\n",
       "      <td>f900de1ec39fa5</td>\n",
       "      <td>15</td>\n",
       "      <td>0</td>\n",
       "      <td>5468.0</td>\n",
       "      <td>0</td>\n",
       "      <td>13</td>\n",
       "      <td>5</td>\n",
       "      <td>...</td>\n",
       "      <td>0</td>\n",
       "      <td>3492.0</td>\n",
       "      <td>0</td>\n",
       "      <td>0.0</td>\n",
       "      <td>0</td>\n",
       "      <td>0</td>\n",
       "      <td>1059.00</td>\n",
       "      <td>60</td>\n",
       "      <td>0</td>\n",
       "      <td>0.9</td>\n",
       "    </tr>\n",
       "    <tr>\n",
       "      <th>1036315</th>\n",
       "      <td>770454</td>\n",
       "      <td>2ade4369bccd12</td>\n",
       "      <td>9f9e64a3db8384</td>\n",
       "      <td>e024bf51bf1799</td>\n",
       "      <td>12</td>\n",
       "      <td>0</td>\n",
       "      <td>5557.0</td>\n",
       "      <td>0</td>\n",
       "      <td>7</td>\n",
       "      <td>4</td>\n",
       "      <td>...</td>\n",
       "      <td>0</td>\n",
       "      <td>0.0</td>\n",
       "      <td>0</td>\n",
       "      <td>0.0</td>\n",
       "      <td>0</td>\n",
       "      <td>0</td>\n",
       "      <td>85.55</td>\n",
       "      <td>66</td>\n",
       "      <td>0</td>\n",
       "      <td>1.0</td>\n",
       "    </tr>\n",
       "    <tr>\n",
       "      <th>349163</th>\n",
       "      <td>2929506</td>\n",
       "      <td>97047ef60af1e7</td>\n",
       "      <td>f02fdd0b3071d3</td>\n",
       "      <td>5921b55b9e96b5</td>\n",
       "      <td>11</td>\n",
       "      <td>0</td>\n",
       "      <td>5520.0</td>\n",
       "      <td>0</td>\n",
       "      <td>8</td>\n",
       "      <td>4</td>\n",
       "      <td>...</td>\n",
       "      <td>0</td>\n",
       "      <td>1645.0</td>\n",
       "      <td>0</td>\n",
       "      <td>0.0</td>\n",
       "      <td>0</td>\n",
       "      <td>0</td>\n",
       "      <td>1045.00</td>\n",
       "      <td>57</td>\n",
       "      <td>0</td>\n",
       "      <td>1.0</td>\n",
       "    </tr>\n",
       "    <tr>\n",
       "      <th>521514</th>\n",
       "      <td>1454065</td>\n",
       "      <td>c47bd86daa3de6</td>\n",
       "      <td>4df3e348b910d8</td>\n",
       "      <td>3ebf1bf8bc6bae</td>\n",
       "      <td>2</td>\n",
       "      <td>2</td>\n",
       "      <td>4495.0</td>\n",
       "      <td>0</td>\n",
       "      <td>42</td>\n",
       "      <td>2</td>\n",
       "      <td>...</td>\n",
       "      <td>0</td>\n",
       "      <td>0.0</td>\n",
       "      <td>0</td>\n",
       "      <td>0.0</td>\n",
       "      <td>0</td>\n",
       "      <td>0</td>\n",
       "      <td>1021.00</td>\n",
       "      <td>15</td>\n",
       "      <td>1500</td>\n",
       "      <td>1.0</td>\n",
       "    </tr>\n",
       "  </tbody>\n",
       "</table>\n",
       "<p>5 rows × 30 columns</p>\n",
       "</div>"
      ],
      "text/plain": [
       "         Unnamed: 0              Id         groupId         matchId  assists  \\\n",
       "758017      3431247  06308c988bf0c2  4c4ee1e9eb8b5e  6680c7c3d17d48        7   \n",
       "697393      1491277  1f6ceaa5140fb6  dc2fef63e14d5c  f900de1ec39fa5       15   \n",
       "1036315      770454  2ade4369bccd12  9f9e64a3db8384  e024bf51bf1799       12   \n",
       "349163      2929506  97047ef60af1e7  f02fdd0b3071d3  5921b55b9e96b5       11   \n",
       "521514      1454065  c47bd86daa3de6  4df3e348b910d8  3ebf1bf8bc6bae        2   \n",
       "\n",
       "         boosts  damageDealt  DBNOs  headshotKills  heals  ...  revives  \\\n",
       "758017        4       5990.0      0             64     10  ...        0   \n",
       "697393        0       5468.0      0             13      5  ...        0   \n",
       "1036315       0       5557.0      0              7      4  ...        0   \n",
       "349163        0       5520.0      0              8      4  ...        0   \n",
       "521514        2       4495.0      0             42      2  ...        0   \n",
       "\n",
       "         rideDistance  roadKills  swimDistance  teamKills  vehicleDestroys  \\\n",
       "758017            0.0          0           0.0          0                0   \n",
       "697393         3492.0          0           0.0          0                0   \n",
       "1036315           0.0          0           0.0          0                0   \n",
       "349163         1645.0          0           0.0          0                0   \n",
       "521514            0.0          0           0.0          0                0   \n",
       "\n",
       "        walkDistance  weaponsAcquired  winPoints  winPlacePerc  \n",
       "758017        728.10               35          0           1.0  \n",
       "697393       1059.00               60          0           0.9  \n",
       "1036315        85.55               66          0           1.0  \n",
       "349163       1045.00               57          0           1.0  \n",
       "521514       1021.00               15       1500           1.0  \n",
       "\n",
       "[5 rows x 30 columns]"
      ]
     },
     "execution_count": 93,
     "metadata": {},
     "output_type": "execute_result"
    }
   ],
   "source": [
    "# top 5 killers\n",
    "data.sort_values(by=['kills'], ascending=False).head(5)"
   ]
  },
  {
   "cell_type": "code",
   "execution_count": 94,
   "metadata": {},
   "outputs": [
    {
     "name": "stdout",
     "output_type": "stream",
     "text": [
      "24.49% of kills are headshot kills.\n"
     ]
    }
   ],
   "source": [
    "print(\"{:.2f}% of kills are headshot kills.\".format(data.headshotKills.sum()/data.kills.sum() * 100))"
   ]
  },
  {
   "cell_type": "code",
   "execution_count": 45,
   "metadata": {},
   "outputs": [
    {
     "data": {
      "text/html": [
       "<div>\n",
       "<style scoped>\n",
       "    .dataframe tbody tr th:only-of-type {\n",
       "        vertical-align: middle;\n",
       "    }\n",
       "\n",
       "    .dataframe tbody tr th {\n",
       "        vertical-align: top;\n",
       "    }\n",
       "\n",
       "    .dataframe thead th {\n",
       "        text-align: right;\n",
       "    }\n",
       "</style>\n",
       "<table border=\"1\" class=\"dataframe\">\n",
       "  <thead>\n",
       "    <tr style=\"text-align: right;\">\n",
       "      <th></th>\n",
       "      <th>Unnamed: 0</th>\n",
       "      <th>Id</th>\n",
       "      <th>groupId</th>\n",
       "      <th>matchId</th>\n",
       "      <th>assists</th>\n",
       "      <th>boosts</th>\n",
       "      <th>damageDealt</th>\n",
       "      <th>DBNOs</th>\n",
       "      <th>headshotKills</th>\n",
       "      <th>heals</th>\n",
       "      <th>...</th>\n",
       "      <th>revives</th>\n",
       "      <th>rideDistance</th>\n",
       "      <th>roadKills</th>\n",
       "      <th>swimDistance</th>\n",
       "      <th>teamKills</th>\n",
       "      <th>vehicleDestroys</th>\n",
       "      <th>walkDistance</th>\n",
       "      <th>weaponsAcquired</th>\n",
       "      <th>winPoints</th>\n",
       "      <th>winPlacePerc</th>\n",
       "    </tr>\n",
       "  </thead>\n",
       "  <tbody>\n",
       "    <tr>\n",
       "      <th>43</th>\n",
       "      <td>3067187</td>\n",
       "      <td>f9970ab7f174a3</td>\n",
       "      <td>cb3f0e187cee01</td>\n",
       "      <td>6e823d01a4c3c8</td>\n",
       "      <td>0</td>\n",
       "      <td>0</td>\n",
       "      <td>100.0</td>\n",
       "      <td>0</td>\n",
       "      <td>1</td>\n",
       "      <td>2</td>\n",
       "      <td>...</td>\n",
       "      <td>0</td>\n",
       "      <td>0.0</td>\n",
       "      <td>0</td>\n",
       "      <td>0.0</td>\n",
       "      <td>0</td>\n",
       "      <td>0</td>\n",
       "      <td>1116.0</td>\n",
       "      <td>4</td>\n",
       "      <td>1494</td>\n",
       "      <td>0.6701</td>\n",
       "    </tr>\n",
       "    <tr>\n",
       "      <th>48</th>\n",
       "      <td>451501</td>\n",
       "      <td>69cc179102b606</td>\n",
       "      <td>419f789692c3cf</td>\n",
       "      <td>a262e09ae21743</td>\n",
       "      <td>0</td>\n",
       "      <td>5</td>\n",
       "      <td>653.3</td>\n",
       "      <td>5</td>\n",
       "      <td>1</td>\n",
       "      <td>9</td>\n",
       "      <td>...</td>\n",
       "      <td>2</td>\n",
       "      <td>424.8</td>\n",
       "      <td>0</td>\n",
       "      <td>176.0</td>\n",
       "      <td>0</td>\n",
       "      <td>0</td>\n",
       "      <td>2999.0</td>\n",
       "      <td>6</td>\n",
       "      <td>1563</td>\n",
       "      <td>0.8148</td>\n",
       "    </tr>\n",
       "    <tr>\n",
       "      <th>51</th>\n",
       "      <td>1884016</td>\n",
       "      <td>f786731466d1ad</td>\n",
       "      <td>ea7356d48f0299</td>\n",
       "      <td>5f48fae9849f6a</td>\n",
       "      <td>0</td>\n",
       "      <td>7</td>\n",
       "      <td>407.1</td>\n",
       "      <td>3</td>\n",
       "      <td>1</td>\n",
       "      <td>3</td>\n",
       "      <td>...</td>\n",
       "      <td>0</td>\n",
       "      <td>4700.0</td>\n",
       "      <td>0</td>\n",
       "      <td>0.0</td>\n",
       "      <td>0</td>\n",
       "      <td>0</td>\n",
       "      <td>3444.0</td>\n",
       "      <td>6</td>\n",
       "      <td>1499</td>\n",
       "      <td>1.0000</td>\n",
       "    </tr>\n",
       "    <tr>\n",
       "      <th>54</th>\n",
       "      <td>2758270</td>\n",
       "      <td>561ef4973111ac</td>\n",
       "      <td>2ca5f2aad62180</td>\n",
       "      <td>cbc498c72bc773</td>\n",
       "      <td>1</td>\n",
       "      <td>0</td>\n",
       "      <td>198.0</td>\n",
       "      <td>1</td>\n",
       "      <td>1</td>\n",
       "      <td>1</td>\n",
       "      <td>...</td>\n",
       "      <td>0</td>\n",
       "      <td>0.0</td>\n",
       "      <td>0</td>\n",
       "      <td>0.0</td>\n",
       "      <td>0</td>\n",
       "      <td>0</td>\n",
       "      <td>130.5</td>\n",
       "      <td>1</td>\n",
       "      <td>1570</td>\n",
       "      <td>0.2400</td>\n",
       "    </tr>\n",
       "    <tr>\n",
       "      <th>66</th>\n",
       "      <td>3803963</td>\n",
       "      <td>dc07834c180bde</td>\n",
       "      <td>f7b9330fd1132c</td>\n",
       "      <td>f7318414d63a90</td>\n",
       "      <td>1</td>\n",
       "      <td>2</td>\n",
       "      <td>247.4</td>\n",
       "      <td>1</td>\n",
       "      <td>1</td>\n",
       "      <td>3</td>\n",
       "      <td>...</td>\n",
       "      <td>2</td>\n",
       "      <td>0.0</td>\n",
       "      <td>0</td>\n",
       "      <td>0.0</td>\n",
       "      <td>0</td>\n",
       "      <td>0</td>\n",
       "      <td>2619.0</td>\n",
       "      <td>5</td>\n",
       "      <td>0</td>\n",
       "      <td>0.8148</td>\n",
       "    </tr>\n",
       "    <tr>\n",
       "      <th>...</th>\n",
       "      <td>...</td>\n",
       "      <td>...</td>\n",
       "      <td>...</td>\n",
       "      <td>...</td>\n",
       "      <td>...</td>\n",
       "      <td>...</td>\n",
       "      <td>...</td>\n",
       "      <td>...</td>\n",
       "      <td>...</td>\n",
       "      <td>...</td>\n",
       "      <td>...</td>\n",
       "      <td>...</td>\n",
       "      <td>...</td>\n",
       "      <td>...</td>\n",
       "      <td>...</td>\n",
       "      <td>...</td>\n",
       "      <td>...</td>\n",
       "      <td>...</td>\n",
       "      <td>...</td>\n",
       "      <td>...</td>\n",
       "      <td>...</td>\n",
       "    </tr>\n",
       "    <tr>\n",
       "      <th>1111713</th>\n",
       "      <td>2760844</td>\n",
       "      <td>79c80a1d10c430</td>\n",
       "      <td>74b2bce81c3bc5</td>\n",
       "      <td>088a24aefbaec6</td>\n",
       "      <td>1</td>\n",
       "      <td>4</td>\n",
       "      <td>449.8</td>\n",
       "      <td>3</td>\n",
       "      <td>1</td>\n",
       "      <td>7</td>\n",
       "      <td>...</td>\n",
       "      <td>0</td>\n",
       "      <td>0.0</td>\n",
       "      <td>0</td>\n",
       "      <td>0.0</td>\n",
       "      <td>0</td>\n",
       "      <td>0</td>\n",
       "      <td>2966.0</td>\n",
       "      <td>7</td>\n",
       "      <td>0</td>\n",
       "      <td>0.9630</td>\n",
       "    </tr>\n",
       "    <tr>\n",
       "      <th>1111717</th>\n",
       "      <td>1676427</td>\n",
       "      <td>f5c0468c4866d5</td>\n",
       "      <td>7cccd055ffaefe</td>\n",
       "      <td>072c16df049d48</td>\n",
       "      <td>1</td>\n",
       "      <td>3</td>\n",
       "      <td>367.4</td>\n",
       "      <td>1</td>\n",
       "      <td>1</td>\n",
       "      <td>2</td>\n",
       "      <td>...</td>\n",
       "      <td>1</td>\n",
       "      <td>0.0</td>\n",
       "      <td>0</td>\n",
       "      <td>0.0</td>\n",
       "      <td>0</td>\n",
       "      <td>0</td>\n",
       "      <td>3271.0</td>\n",
       "      <td>7</td>\n",
       "      <td>1577</td>\n",
       "      <td>1.0000</td>\n",
       "    </tr>\n",
       "    <tr>\n",
       "      <th>1111722</th>\n",
       "      <td>619954</td>\n",
       "      <td>90ce43c21ca401</td>\n",
       "      <td>fe3297fddbfa32</td>\n",
       "      <td>91aa551b4b76a6</td>\n",
       "      <td>0</td>\n",
       "      <td>3</td>\n",
       "      <td>432.5</td>\n",
       "      <td>1</td>\n",
       "      <td>1</td>\n",
       "      <td>5</td>\n",
       "      <td>...</td>\n",
       "      <td>0</td>\n",
       "      <td>2734.0</td>\n",
       "      <td>0</td>\n",
       "      <td>152.3</td>\n",
       "      <td>0</td>\n",
       "      <td>0</td>\n",
       "      <td>2512.0</td>\n",
       "      <td>5</td>\n",
       "      <td>0</td>\n",
       "      <td>0.9167</td>\n",
       "    </tr>\n",
       "    <tr>\n",
       "      <th>1111723</th>\n",
       "      <td>2925622</td>\n",
       "      <td>992ffcec71aaa0</td>\n",
       "      <td>e96faa66efd3aa</td>\n",
       "      <td>ec2e688f651285</td>\n",
       "      <td>0</td>\n",
       "      <td>0</td>\n",
       "      <td>157.0</td>\n",
       "      <td>1</td>\n",
       "      <td>1</td>\n",
       "      <td>0</td>\n",
       "      <td>...</td>\n",
       "      <td>0</td>\n",
       "      <td>0.0</td>\n",
       "      <td>0</td>\n",
       "      <td>0.0</td>\n",
       "      <td>0</td>\n",
       "      <td>0</td>\n",
       "      <td>224.5</td>\n",
       "      <td>2</td>\n",
       "      <td>0</td>\n",
       "      <td>0.2041</td>\n",
       "    </tr>\n",
       "    <tr>\n",
       "      <th>1111729</th>\n",
       "      <td>78370</td>\n",
       "      <td>b5fa7d80480418</td>\n",
       "      <td>69675b37746877</td>\n",
       "      <td>d7014101ef2efd</td>\n",
       "      <td>1</td>\n",
       "      <td>4</td>\n",
       "      <td>399.9</td>\n",
       "      <td>2</td>\n",
       "      <td>1</td>\n",
       "      <td>4</td>\n",
       "      <td>...</td>\n",
       "      <td>0</td>\n",
       "      <td>0.0</td>\n",
       "      <td>0</td>\n",
       "      <td>0.0</td>\n",
       "      <td>0</td>\n",
       "      <td>0</td>\n",
       "      <td>3945.0</td>\n",
       "      <td>5</td>\n",
       "      <td>0</td>\n",
       "      <td>0.8077</td>\n",
       "    </tr>\n",
       "  </tbody>\n",
       "</table>\n",
       "<p>144068 rows × 30 columns</p>\n",
       "</div>"
      ],
      "text/plain": [
       "         Unnamed: 0              Id         groupId         matchId  assists  \\\n",
       "43          3067187  f9970ab7f174a3  cb3f0e187cee01  6e823d01a4c3c8        0   \n",
       "48           451501  69cc179102b606  419f789692c3cf  a262e09ae21743        0   \n",
       "51          1884016  f786731466d1ad  ea7356d48f0299  5f48fae9849f6a        0   \n",
       "54          2758270  561ef4973111ac  2ca5f2aad62180  cbc498c72bc773        1   \n",
       "66          3803963  dc07834c180bde  f7b9330fd1132c  f7318414d63a90        1   \n",
       "...             ...             ...             ...             ...      ...   \n",
       "1111713     2760844  79c80a1d10c430  74b2bce81c3bc5  088a24aefbaec6        1   \n",
       "1111717     1676427  f5c0468c4866d5  7cccd055ffaefe  072c16df049d48        1   \n",
       "1111722      619954  90ce43c21ca401  fe3297fddbfa32  91aa551b4b76a6        0   \n",
       "1111723     2925622  992ffcec71aaa0  e96faa66efd3aa  ec2e688f651285        0   \n",
       "1111729       78370  b5fa7d80480418  69675b37746877  d7014101ef2efd        1   \n",
       "\n",
       "         boosts  damageDealt  DBNOs  headshotKills  heals  ...  revives  \\\n",
       "43            0        100.0      0              1      2  ...        0   \n",
       "48            5        653.3      5              1      9  ...        2   \n",
       "51            7        407.1      3              1      3  ...        0   \n",
       "54            0        198.0      1              1      1  ...        0   \n",
       "66            2        247.4      1              1      3  ...        2   \n",
       "...         ...          ...    ...            ...    ...  ...      ...   \n",
       "1111713       4        449.8      3              1      7  ...        0   \n",
       "1111717       3        367.4      1              1      2  ...        1   \n",
       "1111722       3        432.5      1              1      5  ...        0   \n",
       "1111723       0        157.0      1              1      0  ...        0   \n",
       "1111729       4        399.9      2              1      4  ...        0   \n",
       "\n",
       "         rideDistance  roadKills  swimDistance  teamKills  vehicleDestroys  \\\n",
       "43                0.0          0           0.0          0                0   \n",
       "48              424.8          0         176.0          0                0   \n",
       "51             4700.0          0           0.0          0                0   \n",
       "54                0.0          0           0.0          0                0   \n",
       "66                0.0          0           0.0          0                0   \n",
       "...               ...        ...           ...        ...              ...   \n",
       "1111713           0.0          0           0.0          0                0   \n",
       "1111717           0.0          0           0.0          0                0   \n",
       "1111722        2734.0          0         152.3          0                0   \n",
       "1111723           0.0          0           0.0          0                0   \n",
       "1111729           0.0          0           0.0          0                0   \n",
       "\n",
       "        walkDistance  weaponsAcquired  winPoints  winPlacePerc  \n",
       "43            1116.0                4       1494        0.6701  \n",
       "48            2999.0                6       1563        0.8148  \n",
       "51            3444.0                6       1499        1.0000  \n",
       "54             130.5                1       1570        0.2400  \n",
       "66            2619.0                5          0        0.8148  \n",
       "...              ...              ...        ...           ...  \n",
       "1111713       2966.0                7          0        0.9630  \n",
       "1111717       3271.0                7       1577        1.0000  \n",
       "1111722       2512.0                5          0        0.9167  \n",
       "1111723        224.5                2          0        0.2041  \n",
       "1111729       3945.0                5          0        0.8077  \n",
       "\n",
       "[144068 rows x 30 columns]"
      ]
     },
     "execution_count": 45,
     "metadata": {},
     "output_type": "execute_result"
    }
   ],
   "source": [
    "data[data.headshotKills == 1]"
   ]
  },
  {
   "cell_type": "code",
   "execution_count": 95,
   "metadata": {},
   "outputs": [],
   "source": [
    "def plot_hist(data, variable):\n",
    "    plt.figure(figsize = (10,5))\n",
    "    plt.hist(data[variable], bins = 50)\n",
    "    plt.xlabel(variable)\n",
    "    plt.ylabel(\"Quantity (million)\")\n",
    "    plt.title(\"{} distribution with hist\".format(variable))\n",
    "    plt.show()"
   ]
  },
  {
   "cell_type": "code",
   "execution_count": 96,
   "metadata": {},
   "outputs": [],
   "source": [
    "# Let's take a look at the damage dealt by the 0 killers."
   ]
  },
  {
   "cell_type": "code",
   "execution_count": 97,
   "metadata": {},
   "outputs": [
    {
     "data": {
      "image/png": "[encoded data removed]",
      "text/plain": [
       "<Figure size 720x360 with 1 Axes>"
      ]
     },
     "metadata": {
      "needs_background": "light"
     },
     "output_type": "display_data"
    }
   ],
   "source": [
    "plot_hist(data[data.kills == 0], \"damageDealt\")"
   ]
  },
  {
   "cell_type": "markdown",
   "metadata": {},
   "source": [
    "Most of them couldn't even do damage.\n",
    "16% of those who deal zero damage didn't even find a weapon, which means they were most likely killed at the beginning of the game."
   ]
  },
  {
   "cell_type": "code",
   "execution_count": 98,
   "metadata": {},
   "outputs": [
    {
     "data": {
      "text/plain": [
       "308383"
      ]
     },
     "execution_count": 98,
     "metadata": {},
     "output_type": "execute_result"
    }
   ],
   "source": [
    "# 0 damage dealt by the 0 killers.\n",
    "len(data[(data.damageDealt == 0) & (data.kills == 0)])"
   ]
  },
  {
   "cell_type": "code",
   "execution_count": 99,
   "metadata": {},
   "outputs": [
    {
     "data": {
      "text/plain": [
       "49331"
      ]
     },
     "execution_count": 99,
     "metadata": {},
     "output_type": "execute_result"
    }
   ],
   "source": [
    "len(data[(data[\"weaponsAcquired\"] == 0) & (data.damageDealt == 0) & (data.kills == 0)])"
   ]
  },
  {
   "cell_type": "code",
   "execution_count": 100,
   "metadata": {},
   "outputs": [
    {
     "data": {
      "text/plain": [
       "0.0881822563261156"
      ]
     },
     "execution_count": 100,
     "metadata": {},
     "output_type": "execute_result"
    }
   ],
   "source": [
    "data[(data[\"weaponsAcquired\"] == 0) & (data.damageDealt == 0) & (data.kills == 0)].winPlacePerc.mean()"
   ]
  },
  {
   "cell_type": "code",
   "execution_count": 101,
   "metadata": {},
   "outputs": [],
   "source": [
    "# The result above shows that our assumption is correct because winPlacePerc is close to 0."
   ]
  },
  {
   "cell_type": "code",
   "execution_count": 102,
   "metadata": {},
   "outputs": [
    {
     "data": {
      "image/png": "[encoded data removed]",
      "text/plain": [
       "<Figure size 1080x576 with 1 Axes>"
      ]
     },
     "metadata": {
      "needs_background": "light"
     },
     "output_type": "display_data"
    }
   ],
   "source": [
    "kills = data.copy()\n",
    "\n",
    "kills['killsCategories'] = pd.cut(kills['kills'], [-1, 0, 2, 5, 10, 60], labels=['0_kills','1-2_kills', '3-5_kills', '6-10_kills', '10+_kills'])\n",
    "\n",
    "plt.figure(figsize=(15,8))\n",
    "sns.boxplot(x=\"killsCategories\", y=\"winPlacePerc\", data=kills)\n",
    "plt.show()"
   ]
  },
  {
   "cell_type": "markdown",
   "metadata": {},
   "source": [
    "### There is a correlation between killing and winning, as seen in the boxplot above."
   ]
  },
  {
   "cell_type": "code",
   "execution_count": 103,
   "metadata": {},
   "outputs": [],
   "source": [
    "# Now let's examine vehicle usage"
   ]
  },
  {
   "cell_type": "code",
   "execution_count": 104,
   "metadata": {},
   "outputs": [
    {
     "data": {
      "image/png": "[encoded data removed]",
      "text/plain": [
       "<Figure size 720x360 with 1 Axes>"
      ]
     },
     "metadata": {
      "needs_background": "light"
     },
     "output_type": "display_data"
    }
   ],
   "source": [
    "plot_hist(data, \"rideDistance\")"
   ]
  },
  {
   "cell_type": "code",
   "execution_count": 105,
   "metadata": {},
   "outputs": [
    {
     "name": "stdout",
     "output_type": "stream",
     "text": [
      "74.44% of the players did not drive.\n",
      "The average person drives for 604.21.\n"
     ]
    }
   ],
   "source": [
    "print(\"{:.2f}% of the players did not drive.\".format(len(data[data.rideDistance == 0])/len(data) * 100.0))\n",
    "print(\"The average person drives for {:.2f}.\".format(data.rideDistance.mean()))"
   ]
  },
  {
   "cell_type": "code",
   "execution_count": 106,
   "metadata": {},
   "outputs": [
    {
     "data": {
      "image/png": "[encoded data removed]",
      "text/plain": [
       "<Figure size 1080x576 with 1 Axes>"
      ]
     },
     "metadata": {
      "needs_background": "light"
     },
     "output_type": "display_data"
    }
   ],
   "source": [
    "distances = data.copy()\n",
    "\n",
    "distances['distanceCategories'] = pd.cut(distances['rideDistance'], [-1, 0, 1000, 5000, 10000, 50000], labels=['0','1-1000', '1001-5000', '5001-10000', '10000+'])\n",
    "\n",
    "plt.figure(figsize=(15,8))\n",
    "sns.boxplot(x=\"distanceCategories\", y=\"winPlacePerc\", data=distances)\n",
    "plt.show()"
   ]
  },
  {
   "cell_type": "markdown",
   "metadata": {},
   "source": [
    "There is a small correlation between rideDistance and winPlacePerc."
   ]
  },
  {
   "cell_type": "code",
   "execution_count": 107,
   "metadata": {},
   "outputs": [
    {
     "name": "stdout",
     "output_type": "stream",
     "text": [
      "average winPlacePerc of the top 5 drivers is 0.87386\n"
     ]
    },
    {
     "data": {
      "text/html": [
       "<div>\n",
       "<style scoped>\n",
       "    .dataframe tbody tr th:only-of-type {\n",
       "        vertical-align: middle;\n",
       "    }\n",
       "\n",
       "    .dataframe tbody tr th {\n",
       "        vertical-align: top;\n",
       "    }\n",
       "\n",
       "    .dataframe thead th {\n",
       "        text-align: right;\n",
       "    }\n",
       "</style>\n",
       "<table border=\"1\" class=\"dataframe\">\n",
       "  <thead>\n",
       "    <tr style=\"text-align: right;\">\n",
       "      <th></th>\n",
       "      <th>Unnamed: 0</th>\n",
       "      <th>Id</th>\n",
       "      <th>groupId</th>\n",
       "      <th>matchId</th>\n",
       "      <th>assists</th>\n",
       "      <th>boosts</th>\n",
       "      <th>damageDealt</th>\n",
       "      <th>DBNOs</th>\n",
       "      <th>headshotKills</th>\n",
       "      <th>heals</th>\n",
       "      <th>...</th>\n",
       "      <th>revives</th>\n",
       "      <th>rideDistance</th>\n",
       "      <th>roadKills</th>\n",
       "      <th>swimDistance</th>\n",
       "      <th>teamKills</th>\n",
       "      <th>vehicleDestroys</th>\n",
       "      <th>walkDistance</th>\n",
       "      <th>weaponsAcquired</th>\n",
       "      <th>winPoints</th>\n",
       "      <th>winPlacePerc</th>\n",
       "    </tr>\n",
       "  </thead>\n",
       "  <tbody>\n",
       "    <tr>\n",
       "      <th>394263</th>\n",
       "      <td>1361247</td>\n",
       "      <td>f09d0c99127850</td>\n",
       "      <td>4ca387960d74a7</td>\n",
       "      <td>93aa204e9c193e</td>\n",
       "      <td>0</td>\n",
       "      <td>2</td>\n",
       "      <td>265.60</td>\n",
       "      <td>0</td>\n",
       "      <td>0</td>\n",
       "      <td>4</td>\n",
       "      <td>...</td>\n",
       "      <td>0</td>\n",
       "      <td>35400.0</td>\n",
       "      <td>0</td>\n",
       "      <td>0.000</td>\n",
       "      <td>0</td>\n",
       "      <td>0</td>\n",
       "      <td>1912.0</td>\n",
       "      <td>7</td>\n",
       "      <td>1538</td>\n",
       "      <td>1.0000</td>\n",
       "    </tr>\n",
       "    <tr>\n",
       "      <th>52359</th>\n",
       "      <td>1585310</td>\n",
       "      <td>6c74f0dc7ac84f</td>\n",
       "      <td>1c93cb47629ceb</td>\n",
       "      <td>8b6f5afa8efc1b</td>\n",
       "      <td>1</td>\n",
       "      <td>1</td>\n",
       "      <td>97.47</td>\n",
       "      <td>0</td>\n",
       "      <td>0</td>\n",
       "      <td>2</td>\n",
       "      <td>...</td>\n",
       "      <td>0</td>\n",
       "      <td>29430.0</td>\n",
       "      <td>0</td>\n",
       "      <td>0.000</td>\n",
       "      <td>0</td>\n",
       "      <td>0</td>\n",
       "      <td>608.0</td>\n",
       "      <td>4</td>\n",
       "      <td>1484</td>\n",
       "      <td>0.8617</td>\n",
       "    </tr>\n",
       "    <tr>\n",
       "      <th>327814</th>\n",
       "      <td>3666833</td>\n",
       "      <td>30b291c24dfdc0</td>\n",
       "      <td>17b5ec0d605e73</td>\n",
       "      <td>a2bcdefa900c16</td>\n",
       "      <td>1</td>\n",
       "      <td>0</td>\n",
       "      <td>20.36</td>\n",
       "      <td>0</td>\n",
       "      <td>0</td>\n",
       "      <td>0</td>\n",
       "      <td>...</td>\n",
       "      <td>0</td>\n",
       "      <td>28550.0</td>\n",
       "      <td>0</td>\n",
       "      <td>0.000</td>\n",
       "      <td>0</td>\n",
       "      <td>0</td>\n",
       "      <td>179.0</td>\n",
       "      <td>0</td>\n",
       "      <td>1500</td>\n",
       "      <td>0.6632</td>\n",
       "    </tr>\n",
       "    <tr>\n",
       "      <th>1062569</th>\n",
       "      <td>3331208</td>\n",
       "      <td>540bc6487d2365</td>\n",
       "      <td>94e5295e2656a6</td>\n",
       "      <td>8600c2672192e8</td>\n",
       "      <td>0</td>\n",
       "      <td>3</td>\n",
       "      <td>31.99</td>\n",
       "      <td>0</td>\n",
       "      <td>0</td>\n",
       "      <td>2</td>\n",
       "      <td>...</td>\n",
       "      <td>0</td>\n",
       "      <td>27410.0</td>\n",
       "      <td>0</td>\n",
       "      <td>0.000</td>\n",
       "      <td>0</td>\n",
       "      <td>0</td>\n",
       "      <td>1970.0</td>\n",
       "      <td>3</td>\n",
       "      <td>1497</td>\n",
       "      <td>0.8444</td>\n",
       "    </tr>\n",
       "    <tr>\n",
       "      <th>801350</th>\n",
       "      <td>3837860</td>\n",
       "      <td>9d0b5863b94a5f</td>\n",
       "      <td>a638267a816c63</td>\n",
       "      <td>ab3c20a0ff2918</td>\n",
       "      <td>0</td>\n",
       "      <td>3</td>\n",
       "      <td>300.00</td>\n",
       "      <td>0</td>\n",
       "      <td>0</td>\n",
       "      <td>6</td>\n",
       "      <td>...</td>\n",
       "      <td>0</td>\n",
       "      <td>27350.0</td>\n",
       "      <td>0</td>\n",
       "      <td>6.248</td>\n",
       "      <td>0</td>\n",
       "      <td>0</td>\n",
       "      <td>623.6</td>\n",
       "      <td>7</td>\n",
       "      <td>0</td>\n",
       "      <td>1.0000</td>\n",
       "    </tr>\n",
       "  </tbody>\n",
       "</table>\n",
       "<p>5 rows × 30 columns</p>\n",
       "</div>"
      ],
      "text/plain": [
       "         Unnamed: 0              Id         groupId         matchId  assists  \\\n",
       "394263      1361247  f09d0c99127850  4ca387960d74a7  93aa204e9c193e        0   \n",
       "52359       1585310  6c74f0dc7ac84f  1c93cb47629ceb  8b6f5afa8efc1b        1   \n",
       "327814      3666833  30b291c24dfdc0  17b5ec0d605e73  a2bcdefa900c16        1   \n",
       "1062569     3331208  540bc6487d2365  94e5295e2656a6  8600c2672192e8        0   \n",
       "801350      3837860  9d0b5863b94a5f  a638267a816c63  ab3c20a0ff2918        0   \n",
       "\n",
       "         boosts  damageDealt  DBNOs  headshotKills  heals  ...  revives  \\\n",
       "394263        2       265.60      0              0      4  ...        0   \n",
       "52359         1        97.47      0              0      2  ...        0   \n",
       "327814        0        20.36      0              0      0  ...        0   \n",
       "1062569       3        31.99      0              0      2  ...        0   \n",
       "801350        3       300.00      0              0      6  ...        0   \n",
       "\n",
       "         rideDistance  roadKills  swimDistance  teamKills  vehicleDestroys  \\\n",
       "394263        35400.0          0         0.000          0                0   \n",
       "52359         29430.0          0         0.000          0                0   \n",
       "327814        28550.0          0         0.000          0                0   \n",
       "1062569       27410.0          0         0.000          0                0   \n",
       "801350        27350.0          0         6.248          0                0   \n",
       "\n",
       "        walkDistance  weaponsAcquired  winPoints  winPlacePerc  \n",
       "394263        1912.0                7       1538        1.0000  \n",
       "52359          608.0                4       1484        0.8617  \n",
       "327814         179.0                0       1500        0.6632  \n",
       "1062569       1970.0                3       1497        0.8444  \n",
       "801350         623.6                7          0        1.0000  \n",
       "\n",
       "[5 rows x 30 columns]"
      ]
     },
     "execution_count": 107,
     "metadata": {},
     "output_type": "execute_result"
    }
   ],
   "source": [
    "# Top 5 drivers\n",
    "print(\"average winPlacePerc of the top 5 drivers is {}\".format(data.sort_values(by=['rideDistance'], ascending=False).head(5).winPlacePerc.mean()))\n",
    "data.sort_values(by=['rideDistance'], ascending=False).head(5)"
   ]
  },
  {
   "cell_type": "markdown",
   "metadata": {},
   "source": [
    "Now let's examine walking distances and see if it relates to winning"
   ]
  },
  {
   "cell_type": "code",
   "execution_count": 108,
   "metadata": {},
   "outputs": [
    {
     "data": {
      "image/png": "[encoded data removed]",
      "text/plain": [
       "<Figure size 720x360 with 1 Axes>"
      ]
     },
     "metadata": {
      "needs_background": "light"
     },
     "output_type": "display_data"
    },
    {
     "name": "stdout",
     "output_type": "stream",
     "text": [
      "max walking distance is 13960.0\n"
     ]
    }
   ],
   "source": [
    "plot_hist(data, \"walkDistance\")\n",
    "print(\"max walking distance is {}\".format(data.walkDistance.max()))"
   ]
  },
  {
   "cell_type": "markdown",
   "metadata": {},
   "source": [
    "# Identify some research questions and perform hypothesis testing to test your hypothesis.\n"
   ]
  },
  {
   "cell_type": "markdown",
   "metadata": {},
   "source": [
    "###  \"After 3 - 5 kills in the pubg game, pubg players consider that win percentage is atleast 50% \""
   ]
  },
  {
   "cell_type": "markdown",
   "metadata": {},
   "source": [
    "Step - 1: Alternate Hypothesis (Bold Claim):\n",
    "𝐻1:𝜇>50\n",
    " \n",
    "Null Hypothesis (Status Quo):\n",
    "𝐻0:𝜇≤50"
   ]
  },
  {
   "cell_type": "code",
   "execution_count": 55,
   "metadata": {},
   "outputs": [],
   "source": [
    "data1 = data[(data['kills']== 3) | (data['kills']== 4) |(data['kills']== 5) ]\n",
    "data2 = data1[['winPlacePerc']]"
   ]
  },
  {
   "cell_type": "code",
   "execution_count": 56,
   "metadata": {},
   "outputs": [],
   "source": [
    "# z_score for sampling distributions\n",
    "\n",
    "def z_score(sample_size, sample_mean, pop_mean, pop_std):\n",
    "    numerator = sample_mean - pop_mean\n",
    "    denomenator = pop_std / sample_size**0.5\n",
    "    return numerator / denomenator"
   ]
  },
  {
   "cell_type": "code",
   "execution_count": 57,
   "metadata": {},
   "outputs": [
    {
     "data": {
      "text/plain": [
       "105928"
      ]
     },
     "execution_count": 57,
     "metadata": {},
     "output_type": "execute_result"
    }
   ],
   "source": [
    "data2.shape[0]"
   ]
  },
  {
   "cell_type": "code",
   "execution_count": 59,
   "metadata": {},
   "outputs": [],
   "source": [
    "import random"
   ]
  },
  {
   "cell_type": "code",
   "execution_count": 60,
   "metadata": {},
   "outputs": [
    {
     "name": "stdout",
     "output_type": "stream",
     "text": [
      "0.755601\n"
     ]
    }
   ],
   "source": [
    "samples = random.sample(range(0, data2.shape[0]), 100)\n",
    "sample_mean = data2.iloc[samples, 0].mean()\n",
    "print(sample_mean)"
   ]
  },
  {
   "cell_type": "code",
   "execution_count": 62,
   "metadata": {},
   "outputs": [
    {
     "name": "stdout",
     "output_type": "stream",
     "text": [
      "0.3073770038081635\n"
     ]
    }
   ],
   "source": [
    "std = data['winPlacePerc'].std()\n",
    "print(std)"
   ]
  },
  {
   "cell_type": "code",
   "execution_count": 64,
   "metadata": {},
   "outputs": [],
   "source": [
    "from scipy.stats import norm"
   ]
  },
  {
   "cell_type": "code",
   "execution_count": 65,
   "metadata": {},
   "outputs": [
    {
     "name": "stdout",
     "output_type": "stream",
     "text": [
      "1.6448536269514722\n"
     ]
    }
   ],
   "source": [
    "# One Tail\n",
    "\n",
    "confidence_level = 0.95\n",
    "\n",
    "alpha = 1 - confidence_level\n",
    "\n",
    "z_critical = norm.ppf(1 - alpha)\n",
    "\n",
    "print(z_critical)"
   ]
  },
  {
   "cell_type": "code",
   "execution_count": 67,
   "metadata": {},
   "outputs": [
    {
     "name": "stdout",
     "output_type": "stream",
     "text": [
      "0.7428983998565725\n"
     ]
    }
   ],
   "source": [
    "# Defining the sample and population parameters\n",
    "\n",
    "sample_size = 100\n",
    "sample_mean = sample_mean\n",
    "pop_mean = data2['winPlacePerc'].mean()\n",
    "pop_std = std\n",
    "print(pop_mean)"
   ]
  },
  {
   "cell_type": "code",
   "execution_count": 68,
   "metadata": {},
   "outputs": [
    {
     "name": "stdout",
     "output_type": "stream",
     "text": [
      "0.4132579856675061\n"
     ]
    }
   ],
   "source": [
    "z = z_score(sample_size, sample_mean, pop_mean, pop_std)\n",
    "print(z)"
   ]
  },
  {
   "cell_type": "code",
   "execution_count": 74,
   "metadata": {},
   "outputs": [
    {
     "data": {
      "text/plain": [
       "Text(0.755601, 0.0007, 'x_bar')"
      ]
     },
     "execution_count": 74,
     "metadata": {},
     "output_type": "execute_result"
    },
    {
     "data": {
      "image/png": "[encoded data removed]",
      "text/plain": [
       "<Figure size 432x288 with 1 Axes>"
      ]
     },
     "metadata": {
      "needs_background": "light"
     },
     "output_type": "display_data"
    }
   ],
   "source": [
    "# Ploting the sampling distribution with rejection regions\n",
    "\n",
    "# Defining the x minimum and x maximum\n",
    "x_min = 0.5\n",
    "x_max = 1\n",
    "\n",
    "\n",
    "# Defining the sampling distribution mean and sampling distribution std\n",
    "mean = pop_mean\n",
    "std = pop_std / sample_size**0.5\n",
    "\n",
    "\n",
    "# Ploting the graph and setting the x limits\n",
    "x = np.linspace(x_min, x_max, 100)\n",
    "y = norm.pdf(x, mean, std)\n",
    "plt.xlim(x_min, x_max)\n",
    "plt.plot(x, y)\n",
    "\n",
    "\n",
    "# Computing the left critical value (left tailed Test)\n",
    "z_critical_left = pop_mean - (z_critical * std)\n",
    "\n",
    "\n",
    "# Shading the left rejection region\n",
    "x2 = np.linspace(x_min, z_critical_left, 100)\n",
    "y2 = norm.pdf(x2, mean, std)\n",
    "plt.fill_between(x2, y2, color='orange')\n",
    "\n",
    "\n",
    "# Ploting the sample mean and concluding the results \n",
    "plt.scatter(sample_mean, 0)\n",
    "plt.annotate(\"x_bar\", (sample_mean, 0.0007))"
   ]
  },
  {
   "cell_type": "code",
   "execution_count": 75,
   "metadata": {},
   "outputs": [
    {
     "name": "stdout",
     "output_type": "stream",
     "text": [
      "Fail to reject Null Hypothesis\n"
     ]
    }
   ],
   "source": [
    "# Conclusion using z test\n",
    "\n",
    "if(np.abs(z) > z_critical):\n",
    "    print(\"Reject Null Hypothesis\")\n",
    "else:\n",
    "    print(\"Fail to reject Null Hypothesis\")"
   ]
  },
  {
   "cell_type": "code",
   "execution_count": 76,
   "metadata": {},
   "outputs": [
    {
     "name": "stdout",
     "output_type": "stream",
     "text": [
      "p_value =  0.6794176084684589\n",
      "Fail to reject Null Hypothesis\n"
     ]
    }
   ],
   "source": [
    "# Conclusion using p test\n",
    "\n",
    "p_value = 2 * (1.0 - norm.cdf(np.abs(z)))\n",
    "\n",
    "print(\"p_value = \", p_value)\n",
    "\n",
    "if(p_value < alpha):\n",
    "    print(\"Reject Null Hypothesis\")\n",
    "else:\n",
    "    print(\"Fail to reject Null Hypothesis\")"
   ]
  },
  {
   "cell_type": "markdown",
   "metadata": {},
   "source": [
    "### From the hypothesis testing we can say that  \"After  3 - 5  kills in the pubg game, pubg players consider that  win percentage is atleast 50% \"  is True"
   ]
  },
  {
   "cell_type": "markdown",
   "metadata": {},
   "source": [
    "# Conclusion Containing Best Observations"
   ]
  },
  {
   "cell_type": "markdown",
   "metadata": {},
   "source": [
    "* from total dataset only winPlacePerc consist only one null value \n",
    "* the data consists skewness ,we have observed that roadKills has more skew value and rankPoints  has negitive skew value\n",
    "* 99.25 % of them not Destroyed the vehicle while playing pubg game\n",
    "* we observed that 56% of the players couldn't even kill a person, and The interesting thing is that 4197 player from this group won the game.\n",
    "* Most of them couldn't even do damage. 16% of those who deal zero damage didn't even find a weapon, which means they were most likely killed at the beginning of the game.\n",
    "* There is a small correlation between rideDistance and winPlacePerc.\n",
    "* From the hypothesis testing we can say that \"After 3 - 5 kills in the pubg game, pubg players consider that win percentage is atleast 50% \" is True"
   ]
  }
 ],
 "metadata": {
  "kernelspec": {
   "display_name": "Python 3",
   "language": "python",
   "name": "python3"
  },
  "language_info": {
   "codemirror_mode": {
    "name": "ipython",
    "version": 3
   },
   "file_extension": ".py",
   "mimetype": "text/x-python",
   "name": "python",
   "nbconvert_exporter": "python",
   "pygments_lexer": "ipython3",
   "version": "3.8.8"
  }
 },
 "nbformat": 4,
 "nbformat_minor": 4
}
