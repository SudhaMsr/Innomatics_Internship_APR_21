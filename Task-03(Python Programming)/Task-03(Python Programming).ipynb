{
 "cells": [
  {
   "cell_type": "code",
   "execution_count": null,
   "id": "f127fc1e",
   "metadata": {},
   "outputs": [],
   "source": [
    "#Polar Coordinates\n",
    "\n",
    "import cmath\n",
    "c = complex(input())\n",
    "print(abs(c))\n",
    "print(cmath.phase(c))"
   ]
  },
  {
   "cell_type": "code",
   "execution_count": null,
   "id": "9c0b434a",
   "metadata": {},
   "outputs": [],
   "source": [
    "#Find angle MBc\n",
    "\n",
    "from math import atan2\n",
    "from math import degrees\n",
    "\n",
    "ab = float(input())\n",
    "bc = float(input())\n",
    "\n",
    "print(str(round(degrees(atan2(ab, bc)))) + u'\\N{DEGREE SIGN}')"
   ]
  },
  {
   "cell_type": "code",
   "execution_count": null,
   "id": "09a0637f",
   "metadata": {},
   "outputs": [],
   "source": [
    "#Traingle Quest-2\n",
    "\n",
    "for i in range(1,int(input())+1):\n",
    "    print((10**i//9)**2)"
   ]
  },
  {
   "cell_type": "code",
   "execution_count": null,
   "id": "a9cce0c8",
   "metadata": {},
   "outputs": [],
   "source": [
    "#MOD Divmod\n",
    "\n",
    "a = int(input());\n",
    "b = int(input());\n",
    "print(a//b);\n",
    "print(a%b);\n",
    "print(divmod(a,b));"
   ]
  },
  {
   "cell_type": "code",
   "execution_count": null,
   "id": "9cc7a7bf",
   "metadata": {},
   "outputs": [],
   "source": [
    "#Power Mod Power\n",
    "\n",
    "a,b,c = (int(input()) for i in range(3))\n",
    "print(pow(a,b), pow(a,b,c), sep=\"\\n\")"
   ]
  },
  {
   "cell_type": "raw",
   "id": "a66e0717",
   "metadata": {},
   "source": [
    "\n"
   ]
  },
  {
   "cell_type": "code",
   "execution_count": null,
   "id": "54c494c0",
   "metadata": {},
   "outputs": [],
   "source": [
    "#Integiners come in all\n",
    "\n",
    "A = int(input())\n",
    "B = int(input())\n",
    "C = int(input())\n",
    "D = int(input())\n",
    "\n",
    "print((A**B)+(C**D))"
   ]
  },
  {
   "cell_type": "code",
   "execution_count": null,
   "id": "2fc4267e",
   "metadata": {},
   "outputs": [],
   "source": [
    "#Traingle quest\n",
    "\n",
    "for i in range(1,int(input())):\n",
    "    print(i*sum(map(lambda x:10**x, range(i))))"
   ]
  },
  {
   "cell_type": "code",
   "execution_count": null,
   "id": "ad000ad2",
   "metadata": {},
   "outputs": [],
   "source": [
    "#The minion game\n",
    "\n",
    "scores = {\"Kevin\": 0, \"Stuart\": 0}\n",
    "    for i in range(len(string)):\n",
    "        if string[i] in \"AEIOU\":\n",
    "            scores[\"Kevin\"]+=len(string)-i\n",
    "        else:\n",
    "            scores[\"Stuart\"]+=len(string)-i\n",
    "    if scores[\"Stuart\"] == scores[\"Kevin\"]:\n",
    "        print(\"Draw\")\n",
    "    elif scores[\"Stuart\"] > scores[\"Kevin\"]:\n",
    "        print(\"%s %s\" %(\"Stuart\", scores[\"Stuart\"]))\n",
    "    else:\n",
    "        print(\"%s %s\" %(\"Kevin\", scores[\"Kevin\"]))\n",
    "\n",
    "\n",
    "if __name__ == '__main__':\n",
    "    s = input()\n",
    "    minion_game(s)"
   ]
  },
  {
   "cell_type": "code",
   "execution_count": null,
   "id": "1cf50c0c",
   "metadata": {},
   "outputs": [],
   "source": []
  }
 ],
 "metadata": {
  "kernelspec": {
   "display_name": "Python 3",
   "language": "python",
   "name": "python3"
  },
  "language_info": {
   "codemirror_mode": {
    "name": "ipython",
    "version": 3
   },
   "file_extension": ".py",
   "mimetype": "text/x-python",
   "name": "python",
   "nbconvert_exporter": "python",
   "pygments_lexer": "ipython3",
   "version": "3.9.4"
  }
 },
 "nbformat": 4,
 "nbformat_minor": 5
}
