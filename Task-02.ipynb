{
 "cells": [
  {
   "cell_type": "code",
   "execution_count": 1,
   "id": "843abdf0",
   "metadata": {},
   "outputs": [
    {
     "name": "stdout",
     "output_type": "stream",
     "text": [
      "Hello, World!\n"
     ]
    }
   ],
   "source": [
    "#Question-01\n",
    "print (\"Hello, World!\")"
   ]
  },
  {
   "cell_type": "code",
   "execution_count": null,
   "id": "cb0d23d3",
   "metadata": {},
   "outputs": [],
   "source": [
    "#Question-02\n",
    "n = int(input())\n",
    "if n % 2 == 1:\n",
    "    print(\"Weird\")\n",
    "elif n % 2 == 0 and 2 <= n <= 5:\n",
    "    print(\"Not Weird\")\n",
    "elif n % 2 == 0 and 6 <= n <= 20:\n",
    "    print(\"Weird\")\n",
    "else:\n",
    "    print(\"Not Weird\")"
   ]
  },
  {
   "cell_type": "code",
   "execution_count": null,
   "id": "a70da01f",
   "metadata": {},
   "outputs": [],
   "source": [
    "#Question-03\n",
    "a = int(input())\n",
    "b = int(input())\n",
    "print (a + b)\n",
    "print (a - b)\n",
    "print (a * b)"
   ]
  },
  {
   "cell_type": "code",
   "execution_count": null,
   "id": "cee356da",
   "metadata": {},
   "outputs": [],
   "source": [
    "#Question-04\n",
    "if __name__ == '__main__':\n",
    "    a = int(input())\n",
    "    b = int(input())\n",
    "    print (a // b)\n",
    "    print (a / b)"
   ]
  },
  {
   "cell_type": "code",
   "execution_count": null,
   "id": "bc621961",
   "metadata": {},
   "outputs": [],
   "source": [
    "#Question-05\n",
    "if __name__ == '__main__':\n",
    "  n=int(input())\n",
    "  for i in range(n):\n",
    "     if i < n:\n",
    "         print (i**2)uestion-05\n"
   ]
  },
  {
   "cell_type": "code",
   "execution_count": null,
   "id": "960a7555",
   "metadata": {},
   "outputs": [],
   "source": [
    "#Question-06\n",
    "def is_leap(year):\n",
    "    leap = False\n",
    "    \n",
    "    # Write your logic here\n",
    "    if year%400==0 :\n",
    "        leap = True\n",
    "    elif year%4 == 0 and year%100 != 0:\n",
    "        leap = True\n",
    "    return leap\n",
    "\n",
    "\n",
    "year = int(input())\n",
    "print(is_leap(year))"
   ]
  },
  {
   "cell_type": "code",
   "execution_count": null,
   "id": "6a76d4ae",
   "metadata": {},
   "outputs": [],
   "source": [
    "#Question-07\n",
    "if __name__ == '__main__':\n",
    "    n = int(input())\n",
    "    for i in range(n):\n",
    "        print(i + 1 , end = \"\")  \n"
   ]
  },
  {
   "cell_type": "code",
   "execution_count": null,
   "id": "2e95f015",
   "metadata": {},
   "outputs": [],
   "source": []
  },
  {
   "cell_type": "code",
   "execution_count": null,
   "id": "4ed17c9f",
   "metadata": {},
   "outputs": [],
   "source": []
  }
 ],
 "metadata": {
  "kernelspec": {
   "display_name": "Python 3",
   "language": "python",
   "name": "python3"
  },
  "language_info": {
   "codemirror_mode": {
    "name": "ipython",
    "version": 3
   },
   "file_extension": ".py",
   "mimetype": "text/x-python",
   "name": "python",
   "nbconvert_exporter": "python",
   "pygments_lexer": "ipython3",
   "version": "3.9.4"
  }
 },
 "nbformat": 4,
 "nbformat_minor": 5
}
