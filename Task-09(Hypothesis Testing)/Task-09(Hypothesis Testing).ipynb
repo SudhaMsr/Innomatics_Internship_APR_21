{
 "cells": [
  {
   "cell_type": "code",
   "execution_count": 6,
   "metadata": {},
   "outputs": [],
   "source": [
    "# Importing the dependencies\n",
    "import matplotlib.pyplot as plt\n",
    "import numpy as np\n",
    "from scipy.stats import norm\n",
    "from scipy.stats import t"
   ]
  },
  {
   "cell_type": "markdown",
   "metadata": {},
   "source": [
    "# $$\\underline{UNDERSTANDING \\ \\  HYPOTHESIS \\ \\ TESTING}$$"
   ]
  },
  {
   "cell_type": "markdown",
   "metadata": {},
   "source": [
    "# $\\underline{Step-I:}$"
   ]
  },
  {
   "cell_type": "markdown",
   "metadata": {},
   "source": [
    "#### Alternate Hypothesis (Bold Claim): $$ H_1 \\Rightarrow \\ \\geq,\\  \\leq , \\neq $$\n",
    "#### Null Hypothesis (Status Quo/Ground Truth): $$ H_0 \\Rightarrow \\ >,\\  < , = $$"
   ]
  },
  {
   "cell_type": "markdown",
   "metadata": {},
   "source": [
    "# $\\underline{Step-II:}$"
   ]
  },
  {
   "cell_type": "markdown",
   "metadata": {},
   "source": [
    "<b><ul><li> Collect the Sample of size of $\\ n $\n",
    "    <li> Complute the Mean from this sample $ \\ \\bar{X} $"
   ]
  },
  {
   "cell_type": "markdown",
   "metadata": {},
   "source": [
    "#  $\\underline{Step-III:}$ Compute Test Statistic"
   ]
  },
  {
   "cell_type": "markdown",
   "metadata": {},
   "source": [
    "<b><ul><li>If population Standard deviation $(\\sigma)$ is known then we use Z-score;\n",
    "    $$ \\text{Z =}\\ \\frac{\\bar{X}-\\mu}{\\frac{\\sigma}{\\sqrt{n}}}    $$"
   ]
  },
  {
   "cell_type": "markdown",
   "metadata": {},
   "source": [
    "<b><ul><li>If population Standard deviation $(\\sigma)$ is unknown then we can sample standard deviation $(s)$ and calculate t-score;\n",
    "    $$ \\text{t =}\\ \\frac{\\bar{X}-\\mu}{\\frac{s}{\\sqrt{n}}}    $$\n",
    "    <li>where, $$ s = \\sqrt\\frac{\\sum({x-\\bar{x})^{2}}}{n-1}$$"
   ]
  },
  {
   "cell_type": "code",
   "execution_count": 43,
   "metadata": {},
   "outputs": [],
   "source": [
    "def z_score(sample_mean,sample_size,pop_mean,pop_std):\n",
    "    numerator = sample_mean - pop_mean\n",
    "    denominator = pop_std/(sample_size)**0.5\n",
    "    return numerator/denominator"
   ]
  },
  {
   "cell_type": "code",
   "execution_count": 10,
   "metadata": {},
   "outputs": [],
   "source": [
    "def t_score(sample_mean,sample_size,pop_mean,sample_std):\n",
    "    numerator = sample_mean - pop_mean\n",
    "    denominator = sample_std/(sample_size)**0.5\n",
    "    return numerator/denominator"
   ]
  },
  {
   "cell_type": "markdown",
   "metadata": {},
   "source": [
    "#  $\\underline{Step-IV:}$  Decide the Significance Level $(\\alpha)$:\n",
    "Lower $ \\alpha $ means you need stronger evidence to reject Null Hypothesis."
   ]
  },
  {
   "cell_type": "markdown",
   "metadata": {},
   "source": [
    "$$ \\alpha = 1 - \\text{confidedence} $$"
   ]
  },
  {
   "cell_type": "markdown",
   "metadata": {},
   "source": [
    "# $\\underline{Step-V.1:}$ Apply the Decision Rule:"
   ]
  },
  {
   "cell_type": "markdown",
   "metadata": {},
   "source": [
    "<ul>\n",
    "    <li>If test statistic is <b>Z-score </b>:\n",
    "        <ul>\n",
    "        <li> Two tailed Z-test: \n",
    "            $$ |z| \\ > z_{\\frac{\\alpha}{2}} \\ \\Rightarrow \\ \\text{Accept $H_{1}$} \\ or \\ \\ \\text{Reject $H_{0}$} $$\n",
    "        <li> Right tailed Z-test: \n",
    "            $$ z \\ > z_{\\alpha} \\ \\Rightarrow \\ \\text{Accept $H_{1}$} \\ or \\ \\ \\text{Reject $H_{0}$} $$\n",
    "        <li> Left tailed Z-test: \n",
    "            $$ z \\ < z_{\\alpha} \\ \\Rightarrow \\ \\text{Accept $H_{1}$} \\ or \\ \\ \\text{Reject $H_{0}$} $$"
   ]
  },
  {
   "cell_type": "markdown",
   "metadata": {},
   "source": [
    "<ul>\n",
    "    <li>If test statistic is <b>t-score</b> :\n",
    "        <ul>\n",
    "        <li> Two tailed t-test: \n",
    "            $$ |t| \\ > t_{n-1,\\frac{\\alpha}{2}} \\ \\Rightarrow \\ \\text{Accept $H_{1}$} \\ or \\ \\ \\text{Reject $H_{0}$} $$\n",
    "        <li> Right tailed Z-test: \n",
    "            $$ t \\ > t_{(n-1),\\frac{\\alpha}{2}} \\ \\Rightarrow \\ \\text{Accept $H_{1}$} \\ or \\ \\ \\text{Reject $H_{0}$} $$\n",
    "        <li> Left tailed Z-test: \n",
    "            $$ t \\ < t_{(n-1),\\frac{\\alpha}{2}} \\ \\Rightarrow \\ \\text{Accept $H_{1}$} \\ or \\ \\ \\text{Reject $H_{0}$} $$"
   ]
  },
  {
   "cell_type": "markdown",
   "metadata": {},
   "source": [
    "where; <ul><li>$ \\ \\ \\alpha \\ \\ \\ $ is the \"Critical Value\";<br> \n",
    "     <li><b> (n-1)</b> is the degress of Freedom "
   ]
  },
  {
   "cell_type": "markdown",
   "metadata": {},
   "source": [
    "# $\\underline{Step-V.2:}$ Compute p-value - $ P(\\text{Test Statistics}|H_{0})$"
   ]
  },
  {
   "cell_type": "markdown",
   "metadata": {},
   "source": [
    "<ul>\n",
    "    <li>For two tailed test:\n",
    "        $$ \\text{p value} \\ = 2*(1.0-cdf(\\text{test statistic})) $$\n",
    "    <li>For one tailed test:\n",
    "        $$ \\text{p value} \\ = (1.0-cdf(\\text{test statistic}) $$\n",
    "     Now, \n",
    "        $$ if \\ (\\text{p value} < \\alpha) \\ \\Rightarrow \\ \\text{Accept $H_{1}$} \\ or \\ \\ \\text{Reject $H_{0}$}    $$"
   ]
  },
  {
   "cell_type": "markdown",
   "metadata": {},
   "source": [
    "<h1>"
   ]
  },
  {
   "cell_type": "markdown",
   "metadata": {},
   "source": [
    "# Questions"
   ]
  },
  {
   "cell_type": "markdown",
   "metadata": {},
   "source": [
    "## Unknown Standard Deviation "
   ]
  },
  {
   "cell_type": "markdown",
   "metadata": {},
   "source": [
    "### <b>Q-1:    Pista House selling Hyderabadi Chicken Dum biryani claims that each parcel packet has 500 grams of biryani (also mentioned on the label of packet). You are sceptic of their claims and believe that on average each packet does not contain 500 grams of biryani. How do you prove your claim?"
   ]
  },
  {
   "cell_type": "markdown",
   "metadata": {},
   "source": [
    "#### Step-1 :"
   ]
  },
  {
   "cell_type": "markdown",
   "metadata": {},
   "source": [
    "#### Alternate Hypothesis (Bold Claim): $$ H_1 \\Rightarrow \\ \\mu \\neq 500 \\ (\\text{Each packet doesnot contain average of 500grm of biryani}) $$\n",
    "#### Null Hypothesis (Status Quo/Ground Truth): $$ H_0 \\Rightarrow \\mu = 500 \\ (\\text{Each packet  contain average of 500grm of biryani})$$"
   ]
  },
  {
   "cell_type": "markdown",
   "metadata": {},
   "source": [
    "#### Step-2 :"
   ]
  },
  {
   "cell_type": "markdown",
   "metadata": {},
   "source": [
    "<ul><li> Collect the Sample of size of $\\ n $ : $$ [ 490, 220, 470, 510,420,410,490, 498, 508, 480] $$"
   ]
  },
  {
   "cell_type": "markdown",
   "metadata": {},
   "source": [
    "<li> Complute the Mean from this sample $ \\ \\bar{X} $"
   ]
  },
  {
   "cell_type": "code",
   "execution_count": 53,
   "metadata": {},
   "outputs": [
    {
     "name": "stdout",
     "output_type": "stream",
     "text": [
      "449.6\n"
     ]
    }
   ],
   "source": [
    "# import random\n",
    "# l = []\n",
    "# for x in range(10):\n",
    "#     num = round(random.uniform(400,510), 2)\n",
    "#     l.append(num)\n",
    "l =  [ 490, 220, 470, 510,420,410,490, 498, 508, 480] \n",
    "sample_val = l\n",
    "sample_mean = sum(l)/len(l)\n",
    "print(sample_mean)"
   ]
  },
  {
   "cell_type": "markdown",
   "metadata": {},
   "source": [
    "#### Step-3: Compute Test Statistic"
   ]
  },
  {
   "cell_type": "markdown",
   "metadata": {},
   "source": [
    "<ul><li> population standard deviaton is unknown so we go for <b>t-score:</b>\n",
    "    $$ t = \\frac{\\bar{x}-\\mu}{\\frac{s}{\\sqrt{n}}} $$"
   ]
  },
  {
   "cell_type": "markdown",
   "metadata": {},
   "source": [
    "where, $$ s = \\sqrt\\frac{\\sum({x-\\bar{x})^{2}}}{n-1}$$"
   ]
  },
  {
   "cell_type": "code",
   "execution_count": 34,
   "metadata": {},
   "outputs": [],
   "source": [
    "# Defining the sample and population parameters\n",
    "\n",
    "sample_size = 10\n",
    "pop_mean = 500\n"
   ]
  },
  {
   "cell_type": "code",
   "execution_count": 35,
   "metadata": {},
   "outputs": [
    {
     "name": "stdout",
     "output_type": "stream",
     "text": [
      "87.66501899592308\n"
     ]
    }
   ],
   "source": [
    "# calculating sample standard deviaton \n",
    "s = 0\n",
    "n = sample_size\n",
    "for i in l:\n",
    "    s += (i-sample_mean)**2\n",
    "sample_std = (s/(n-1))**0.5\n",
    "print(sample_std)\n",
    "    "
   ]
  },
  {
   "cell_type": "code",
   "execution_count": 36,
   "metadata": {},
   "outputs": [
    {
     "name": "stdout",
     "output_type": "stream",
     "text": [
      "Value of t-score: -1.8180432274804879\n"
     ]
    }
   ],
   "source": [
    "# caluculating t-score\n",
    "t_score_val = t_score(sample_mean,sample_size,pop_mean,sample_std)\n",
    "print(f\"Value of t-score: {t_score_val}\")"
   ]
  },
  {
   "cell_type": "markdown",
   "metadata": {},
   "source": [
    "#### Step-4: Decide $\\alpha$ "
   ]
  },
  {
   "cell_type": "code",
   "execution_count": null,
   "metadata": {},
   "outputs": [],
   "source": [
    "###  Two tail test with 95% of confidence\n",
    "\n",
    "alpha = 1 - 0.95\n",
    "t_critical = t.ppf(1 - alpha/2, df = 9)\n",
    "print(\"t_critical Value :\",t_critical)"
   ]
  },
  {
   "cell_type": "code",
   "execution_count": 38,
   "metadata": {},
   "outputs": [
    {
     "data": {
      "image/png": "[encoded data removed]",
      "text/plain": [
       "<Figure size 432x288 with 1 Axes>"
      ]
     },
     "metadata": {
      "needs_background": "light"
     },
     "output_type": "display_data"
    }
   ],
   "source": [
    "# Ploting the sampling distribution with rejection regions\n",
    "\n",
    "# Defining the x minimum and x maximum\n",
    "x_min = 400\n",
    "x_max = 600\n",
    "\n",
    "\n",
    "# Defining the sampling distribution mean and sampling distribution std\n",
    "mean = pop_mean\n",
    "std = sample_std / sample_size**0.5\n",
    "\n",
    "\n",
    "# Ploting the graph and setting the x limits\n",
    "x = np.linspace(x_min, x_max, 100)\n",
    "y = norm.pdf(x, mean, std)\n",
    "plt.xlim(x_min, x_max)\n",
    "plt.plot(x, y)\n",
    "\n",
    "\n",
    "# Computing the left and right critical values (Two tailed Test)\n",
    "t_critical_left = pop_mean + (-t_critical * std)\n",
    "t_critical_right = pop_mean + (t_critical * std)\n",
    "\n",
    "\n",
    "# Shading the left rejection region\n",
    "x1 = np.linspace(x_min, t_critical_left, 100)\n",
    "y1 = norm.pdf(x1, mean, std)\n",
    "plt.fill_between(x1, y1, color='orange')\n",
    "\n",
    "\n",
    "# Shading the right rejection region\n",
    "x2 = np.linspace(t_critical_right, x_max, 100)\n",
    "y2 = norm.pdf(x2, mean, std)\n",
    "plt.fill_between(x2, y2, color='orange')\n",
    "\n",
    "# Ploting the sample mean and concluding the results \n",
    "plt.scatter(sample_mean, 0)\n",
    "plt.annotate(\"x_bar\", (sample_mean, 0.0007))\n",
    "plt.show()"
   ]
  },
  {
   "cell_type": "markdown",
   "metadata": {},
   "source": [
    "#### Sample Mean Doesn't fall in the Rejection Region"
   ]
  },
  {
   "cell_type": "markdown",
   "metadata": {},
   "source": [
    "#### Step-5.1: Two-tailed test:\n",
    "\n",
    "$$ \\text{If} \\ |t| > t_{n-1,\\frac{\\alpha}{2}} \\ \\Rightarrow \\ \\text{Accept $H_{1}$} \\ or \\ \\ \\text{Reject $H_{0}$} $$"
   ]
  },
  {
   "cell_type": "code",
   "execution_count": 42,
   "metadata": {},
   "outputs": [
    {
     "name": "stdout",
     "output_type": "stream",
     "text": [
      "Fail to reject Null Hypothesis\n"
     ]
    }
   ],
   "source": [
    "# Conclusion using t- test\n",
    "\n",
    "if(np.abs(t_score_val) > t_critical):\n",
    "    print(\"Reject Null Hypothesis\")\n",
    "else:\n",
    "    print(\"Fail to reject Null Hypothesis\")"
   ]
  },
  {
   "cell_type": "markdown",
   "metadata": {},
   "source": [
    "#### Step- 5.2: Compute p-value:\n",
    "<br>\n",
    "<li>For two tailed test:\n",
    "$$ \\text{p value} \\ = 2*(1.0-cdf(\\text{test statistic})) $$\n",
    "<br>\n",
    "Now, \n",
    "$$ if \\ (\\text{p value} < \\alpha) \\ \\Rightarrow \\ \\text{Accept $H_{1}$} \\ or \\ \\ \\text{Reject $H_{0}$}    $$"
   ]
  },
  {
   "cell_type": "code",
   "execution_count": 48,
   "metadata": {},
   "outputs": [
    {
     "name": "stdout",
     "output_type": "stream",
     "text": [
      "p_value =  0.0690575260825983\n",
      "Fail to reject Null Hypothesis\n"
     ]
    }
   ],
   "source": [
    "# Conclusion using p test\n",
    "\n",
    "p_value = 2 * (1.0 - norm.cdf(np.abs(t_score_val)))\n",
    "\n",
    "print(\"p_value = \", p_value)\n",
    "\n",
    "if(p_value < alpha):\n",
    "    print(\"Reject Null Hypothesis\")\n",
    "else:\n",
    "    print(\"Fail to reject Null Hypothesis\")"
   ]
  },
  {
   "cell_type": "markdown",
   "metadata": {},
   "source": [
    "### Final Summary : We fail to reject Null Hypothesis $ H_0$ ,so  our bold claim is is rejected"
   ]
  },
  {
   "cell_type": "markdown",
   "metadata": {},
   "source": [
    "## "
   ]
  },
  {
   "cell_type": "markdown",
   "metadata": {},
   "source": [
    "### Q-2: You have developed a new Natural Language Processing Algorithms and done a user study. You claim that the average rating given by the users is greater than 4 on a scale of 1 to 5. How do you prove this to your client?"
   ]
  },
  {
   "cell_type": "markdown",
   "metadata": {},
   "source": [
    "#### Step - 1:\n",
    "<ul>\n",
    "    <li>\"Alternate Hypothesis (Bold Claim): $$ H_1: \\ \\text{Average rating}: \\  \\mu > 4 $$ \n",
    "    <li>\"Null Hypothesis (Status Quo): $$ H_0: \\ \\text{Average rating}:  \\ \\mu \\ \\leq 4 $$"
   ]
  },
  {
   "cell_type": "markdown",
   "metadata": {},
   "source": [
    "#### Step - 2:\n",
    "<ul>\n",
    "    <li> Collect a sample of size n = 20 $$ [4, 3, 5, 4, 5, 3, 5, 5, 4, 2, 4, 5, 5, 4, 4, 5, 3,4,5,2] $$\n",
    "    <li> Compute sample mean $$ \\ \\bar{x} = {}? $$"
   ]
  },
  {
   "cell_type": "code",
   "execution_count": 59,
   "metadata": {},
   "outputs": [
    {
     "data": {
      "text/plain": [
       "4.05"
      ]
     },
     "execution_count": 59,
     "metadata": {},
     "output_type": "execute_result"
    }
   ],
   "source": [
    "sample_val = [4,3,5,4,5,3,5,5,4,2,4,5,5,4,4,5,3,4,5,2]\n",
    "l = sample_val\n",
    "n = len(l)\n",
    "sample_size = n\n",
    "sample_mean = sum(l)/n\n",
    "sample_mean"
   ]
  },
  {
   "cell_type": "markdown",
   "metadata": {},
   "source": [
    "#### Step - 3:Compute Test Statistic-<br>\n",
    "<ul>\n",
    "<li>If population standard deviatoin($\\sigma$) is unknown\n",
    "    \n",
    "$$ t = \\ \\frac{\\bar{x} - \\mu}{(s \\ /{\\sqrt{n})}}$$\n",
    "where, $$ s = \\sqrt\\frac{\\sum({x-\\bar{x})^{2}}}{n-1}$$  "
   ]
  },
  {
   "cell_type": "code",
   "execution_count": 60,
   "metadata": {},
   "outputs": [
    {
     "data": {
      "text/plain": [
       "0.9986833437344549"
      ]
     },
     "execution_count": 60,
     "metadata": {},
     "output_type": "execute_result"
    }
   ],
   "source": [
    "s = 0\n",
    "for i in sample_val:\n",
    "    s += (i - sample_mean)**2\n",
    "\n",
    "sample_std = (s / (n-1))**0.5\n",
    "sample_std"
   ]
  },
  {
   "cell_type": "code",
   "execution_count": 67,
   "metadata": {},
   "outputs": [
    {
     "name": "stdout",
     "output_type": "stream",
     "text": [
      "t-score is 0.22390159919342179\n"
     ]
    }
   ],
   "source": [
    "# calculatinf t-score\n",
    "pop_mean = 4\n",
    "\n",
    "t_score_val =  t_score(sample_mean,sample_size,pop_mean,sample_std)\n",
    "print(f\"t-score is {t_score_val}\")"
   ]
  },
  {
   "cell_type": "markdown",
   "metadata": {},
   "source": [
    "#### Step-4: decide $\\alpha$"
   ]
  },
  {
   "cell_type": "code",
   "execution_count": 70,
   "metadata": {},
   "outputs": [
    {
     "name": "stdout",
     "output_type": "stream",
     "text": [
      "t_critical Value : 1.729132811521367\n"
     ]
    }
   ],
   "source": [
    "#  One tail test with 95% of confidence\n",
    "\n",
    "alpha = 1 - 0.95\n",
    "t_critical = t.ppf(1 - alpha, df = 19)\n",
    "print(\"t_critical Value :\",t_critical)"
   ]
  },
  {
   "cell_type": "code",
   "execution_count": 72,
   "metadata": {},
   "outputs": [
    {
     "data": {
      "image/png": "[encoded data removed]",
      "text/plain": [
       "<Figure size 432x288 with 1 Axes>"
      ]
     },
     "metadata": {
      "needs_background": "light"
     },
     "output_type": "display_data"
    }
   ],
   "source": [
    "# Ploting the sampling distribution with rejection regions\n",
    "\n",
    "# Defining the x minimum and x maximum\n",
    "x_min = 3.5\n",
    "x_max = 4.5\n",
    "\n",
    "\n",
    "# Defining the sampling distribution mean and sampling distribution std\n",
    "mean = pop_mean\n",
    "std = sample_std / (sample_size**0.5)\n",
    "\n",
    "\n",
    "# Ploting the graph and setting the x limits\n",
    "x = np.linspace(x_min, x_max, 100)\n",
    "y = norm.pdf(x, mean, std)\n",
    "plt.xlim(x_min, x_max)\n",
    "plt.plot(x, y)\n",
    "\n",
    "\n",
    "# Computing the right critical value (Right tailed Test)\n",
    "t_critical_right = pop_mean + (t_critical * std)\n",
    "\n",
    "\n",
    "# Shading the right rejection region\n",
    "x1 = np.linspace(t_critical_right, x_max, 100)\n",
    "y1 = norm.pdf(x1, mean, std)\n",
    "plt.fill_between(x1, y1, color='orange')\n",
    "\n",
    "\n",
    "# Ploting the sample mean and concluding the results \n",
    "plt.scatter(sample_mean, 0)\n",
    "plt.annotate(\"x_bar\", (sample_mean, 0.1))\n",
    "plt.show()"
   ]
  },
  {
   "cell_type": "markdown",
   "metadata": {},
   "source": [
    "#### Sample Mean doesnot fall in the Rejection region"
   ]
  },
  {
   "cell_type": "markdown",
   "metadata": {},
   "source": [
    "#### Step-5.1: Right Tailed t-test\n",
    "<ul>\n",
    "<li> Right tailed t-test: \n",
    "            $$ t \\ > t_{(n-1),\\frac{\\alpha}{2}} \\ \\Rightarrow \\ \\text{Accept $H_{1}$} \\ or \\ \\ \\text{Reject $H_{0}$} $$\n",
    "        "
   ]
  },
  {
   "cell_type": "code",
   "execution_count": 74,
   "metadata": {},
   "outputs": [
    {
     "name": "stdout",
     "output_type": "stream",
     "text": [
      "Fail to reject Null Hypothesis\n"
     ]
    }
   ],
   "source": [
    "# Conclusion of this t test\n",
    "\n",
    "if(np.abs(t_score_val) > t_critical):\n",
    "    print(\"Reject Null Hypothesis\")\n",
    "else:\n",
    "    print(\"Fail to reject Null Hypothesis\")"
   ]
  },
  {
   "cell_type": "markdown",
   "metadata": {},
   "source": [
    "#### Step- 5.2: Compute p-value:\n",
    "<br>\n",
    "<li>For two tailed test:\n",
    "$$ \\text{p value} \\ = 2*(1.0-cdf(\\text{test statistic})) $$\n",
    "<br>\n",
    "Now, \n",
    "$$ if \\ (\\text{p value} < \\alpha) \\ \\Rightarrow \\ \\text{Accept $H_{1}$} \\ or \\ \\ \\text{Reject $H_{0}$}    $$"
   ]
  },
  {
   "cell_type": "code",
   "execution_count": 76,
   "metadata": {},
   "outputs": [
    {
     "name": "stdout",
     "output_type": "stream",
     "text": [
      "p_value =  0.4126119110891797\n",
      "Fail to reject Null Hypothesis\n"
     ]
    }
   ],
   "source": [
    "# Conclusion by p test\n",
    "\n",
    "p_value = 1.0 - t.cdf(np.abs(t_score_val), df = 19)\n",
    "\n",
    "print(\"p_value = \", p_value)\n",
    "\n",
    "if(p_value < alpha):\n",
    "    print(\"Reject Null Hypothesis\")\n",
    "else:\n",
    "    print(\"Fail to reject Null Hypothesis\")"
   ]
  },
  {
   "cell_type": "markdown",
   "metadata": {},
   "source": [
    "### Summary: We Failed to Reject the Null Hypothesis $H_0$"
   ]
  },
  {
   "cell_type": "markdown",
   "metadata": {},
   "source": [
    "<br>"
   ]
  },
  {
   "cell_type": "markdown",
   "metadata": {},
   "source": [
    "## Q-3: TATA has developed a better fuel management system for the SUV segment. They claim that with this system, on average the SUV's mileage is at least 15 km/litre?"
   ]
  },
  {
   "cell_type": "markdown",
   "metadata": {},
   "source": [
    "#### Step - 1:\n",
    "<ul>\n",
    "    <li>\"Alternate Hypothesis (Bold Claim): $$ H_1: \\ \\text{Average mileage}: \\  \\mu > 15 $$ \n",
    "    <li>\"Null Hypothesis (Status Quo): $$ H_0: \\ \\text{Average mileage}:  \\ \\mu \\ \\leq 15 $$"
   ]
  },
  {
   "cell_type": "markdown",
   "metadata": {},
   "source": [
    "#### Step - 2:\n",
    "<ul>\n",
    "    <li> Collect a sample of size n = 15 $$ [ 14.56, 14.7, 15.5, 13.88, 16.1, 14.97, 15.36, 15.81, 14.53, 16.79, 15.78, 16.98, 13.23, 15.43, 13.88] $$\n",
    "    <li> Compute sample mean $$ \\ \\bar{x} = {}? $$"
   ]
  },
  {
   "cell_type": "code",
   "execution_count": 104,
   "metadata": {},
   "outputs": [
    {
     "data": {
      "text/plain": [
       "15.166666666666664"
      ]
     },
     "execution_count": 104,
     "metadata": {},
     "output_type": "execute_result"
    }
   ],
   "source": [
    "sample_val = [ 14.56, 14.7, 15.5, 13.88, 16.1, 14.97, 15.36, 15.81, 14.53, 16.79, 15.78, 16.98, 13.23, 15.43, 13.88]\n",
    "l = sample_val\n",
    "n = len(l)\n",
    "sample_size = n\n",
    "sample_mean = sum(l)/n\n",
    "sample_mean"
   ]
  },
  {
   "cell_type": "markdown",
   "metadata": {},
   "source": [
    "#### Step - 3:Compute Test Statistic-<br>\n",
    "<ul>\n",
    "<li>If population standard deviatoin($\\sigma$) is unknown\n",
    "    \n",
    "$$ t = \\ \\frac{\\bar{x} - \\mu}{(s \\ /{\\sqrt{n})}}$$\n",
    "where, $$ s = \\sqrt\\frac{\\sum({x-\\bar{x})^{2}}}{n-1}$$  "
   ]
  },
  {
   "cell_type": "code",
   "execution_count": 105,
   "metadata": {},
   "outputs": [
    {
     "data": {
      "text/plain": [
       "1.0654956369600732"
      ]
     },
     "execution_count": 105,
     "metadata": {},
     "output_type": "execute_result"
    }
   ],
   "source": [
    "s = 0\n",
    "for i in sample_val:\n",
    "    s += (i - sample_mean)**2\n",
    "\n",
    "sample_std = (s / (n-1))**0.5\n",
    "sample_std"
   ]
  },
  {
   "cell_type": "code",
   "execution_count": 106,
   "metadata": {},
   "outputs": [
    {
     "name": "stdout",
     "output_type": "stream",
     "text": [
      "t-score is 0.6058187401025293\n"
     ]
    }
   ],
   "source": [
    "# calculatinf t-score\n",
    "pop_mean = 15\n",
    "\n",
    "t_score_val =  t_score(sample_mean,sample_size,pop_mean,sample_std)\n",
    "print(f\"t-score is {t_score_val}\")"
   ]
  },
  {
   "cell_type": "markdown",
   "metadata": {},
   "source": [
    "#### Step-4: Decide $\\alpha$"
   ]
  },
  {
   "cell_type": "code",
   "execution_count": 111,
   "metadata": {},
   "outputs": [
    {
     "name": "stdout",
     "output_type": "stream",
     "text": [
      "t_critical Value : 1.8874961445503944\n"
     ]
    }
   ],
   "source": [
    "#  One tail test with 96% of confidence\n",
    "\n",
    "alpha = 1 - 0.96\n",
    "t_critical = t.ppf(1 - alpha, df = 14)\n",
    "print(\"t_critical Value :\",t_critical)"
   ]
  },
  {
   "cell_type": "code",
   "execution_count": 112,
   "metadata": {},
   "outputs": [
    {
     "data": {
      "image/png": "[encoded data removed]",
      "text/plain": [
       "<Figure size 432x288 with 1 Axes>"
      ]
     },
     "metadata": {
      "needs_background": "light"
     },
     "output_type": "display_data"
    }
   ],
   "source": [
    "# Ploting the sampling distribution with rejection regions\n",
    "\n",
    "# Defining the x minimum and x maximum\n",
    "x_min = 13\n",
    "x_max = 17\n",
    "\n",
    "\n",
    "# Defining the sampling distribution mean and sampling distribution std\n",
    "mean = pop_mean\n",
    "std = sample_std / (sample_size**0.5)\n",
    "\n",
    "\n",
    "# Ploting the graph and setting the x limits\n",
    "x = np.linspace(x_min, x_max, 100)\n",
    "y = norm.pdf(x, mean, std)\n",
    "plt.xlim(x_min, x_max)\n",
    "plt.plot(x, y)\n",
    "\n",
    "\n",
    "# Computing the right critical value (Right tailed Test)\n",
    "t_critical_right = pop_mean + (t_critical * std)\n",
    "\n",
    "\n",
    "# Shading the right rejection region\n",
    "x1 = np.linspace(t_critical_right, x_max, 100)\n",
    "y1 = norm.pdf(x1, mean, std)\n",
    "plt.fill_between(x1, y1, color='orange')\n",
    "\n",
    "\n",
    "# Ploting the sample mean and concluding the results \n",
    "plt.scatter(sample_mean, 0)\n",
    "plt.annotate(\"x_bar\", (sample_mean, 0.1))\n",
    "plt.show()"
   ]
  },
  {
   "cell_type": "markdown",
   "metadata": {},
   "source": [
    "<h6>Sample Mean Doesnot fall in the rejection region"
   ]
  },
  {
   "cell_type": "markdown",
   "metadata": {},
   "source": [
    "#### Step-5.1: Right Tailed t-test\n",
    "<ul>\n",
    "<li> Right tailed t-test: \n",
    "            $$ t \\ > t_{(n-1),\\frac{\\alpha}{2}} \\ \\Rightarrow \\ \\text{Accept $H_{1}$} \\ or \\ \\ \\text{Reject $H_{0}$} $$\n",
    "        "
   ]
  },
  {
   "cell_type": "code",
   "execution_count": 93,
   "metadata": {},
   "outputs": [
    {
     "name": "stdout",
     "output_type": "stream",
     "text": [
      "Fail to reject Null Hypothesis\n"
     ]
    }
   ],
   "source": [
    "# Conclusion of this t test\n",
    "\n",
    "if(np.abs(t_score_val) > t_critical):\n",
    "    print(\"Reject Null Hypothesis\")\n",
    "else:\n",
    "    print(\"Fail to reject Null Hypothesis\")"
   ]
  },
  {
   "cell_type": "markdown",
   "metadata": {},
   "source": [
    "#### Step- 5.2: Compute p-value:\n",
    "<br>\n",
    "<li>For two tailed test:\n",
    "$$ \\text{p value} \\ = 2*(1.0-cdf(\\text{test statistic})) $$\n",
    "<br>\n",
    "Now, \n",
    "$$ if \\ (\\text{p value} < \\alpha) \\ \\Rightarrow \\ \\text{Accept $H_{1}$} \\ or \\ \\ \\text{Reject $H_{0}$}    $$"
   ]
  },
  {
   "cell_type": "code",
   "execution_count": 94,
   "metadata": {},
   "outputs": [
    {
     "name": "stdout",
     "output_type": "stream",
     "text": [
      "p_value =  0.2771653186267735\n",
      "Fail to reject Null Hypothesis\n"
     ]
    }
   ],
   "source": [
    "#Conclusion by p test\n",
    "\n",
    "p_value = 1.0 - t.cdf(np.abs(t_score_val), df = 14)\n",
    "\n",
    "print(\"p_value = \", p_value)\n",
    "\n",
    "if(p_value < alpha):\n",
    "    print(\"Reject Null Hypothesis\")\n",
    "else:\n",
    "    print(\"Fail to reject Null Hypothesis\")"
   ]
  },
  {
   "cell_type": "markdown",
   "metadata": {},
   "source": [
    "### Summary : We Failed to reject the Null Hypothesis"
   ]
  },
  {
   "cell_type": "markdown",
   "metadata": {},
   "source": [
    "<br>"
   ]
  },
  {
   "cell_type": "markdown",
   "metadata": {},
   "source": [
    "## Q-4: You have developed a new Machine Learning Application and claim that on average it takes less than 100 ms to predict for any future datapoint. How do you convince your client about this claim?"
   ]
  },
  {
   "cell_type": "markdown",
   "metadata": {},
   "source": [
    "#### Step - 1:\n",
    "<ul>\n",
    "    <li>\"Alternate Hypothesis (Bold Claim): $$ H_1: \\ \\text{Average Time for prediction}: \\  \\mu < 100 $$ \n",
    "    <li>\"Null Hypothesis (Status Quo): $$ H_0: \\ \\text{Average Time for prediction}:  \\ \\mu \\ \\geq 100 $$"
   ]
  },
  {
   "cell_type": "markdown",
   "metadata": {},
   "source": [
    "#### Step - 2:\n",
    "<ul>\n",
    "    <li> Collect a sample of size n = 15 $$ [ 97.8,99,98,92,92.97,89,98.12,92.99,95,96,96.98,99.012,98.4,96.43,95.54] $$\n",
    "    <li> Compute sample mean $$ \\ \\bar{x} = {}? $$"
   ]
  },
  {
   "cell_type": "code",
   "execution_count": 1,
   "metadata": {},
   "outputs": [
    {
     "data": {
      "text/plain": [
       "95.81613333333333"
      ]
     },
     "execution_count": 1,
     "metadata": {},
     "output_type": "execute_result"
    }
   ],
   "source": [
    "sample_val = [ 97.8,99,98,92,92.97,89,98.12,92.99,95,96,96.98,99.012,98.4,96.43,95.54]\n",
    "l = sample_val\n",
    "n = len(l)\n",
    "sample_size = n\n",
    "sample_mean = sum(l)/n\n",
    "sample_mean"
   ]
  },
  {
   "cell_type": "markdown",
   "metadata": {},
   "source": [
    "#### Step - 3:Compute Test Statistic-<br>\n",
    "<ul>\n",
    "<li>If population standard deviatoin($\\sigma$) is unknown\n",
    "    \n",
    "$$ t = \\ \\frac{\\bar{x} - \\mu}{(s \\ /{\\sqrt{n})}}$$"
   ]
  },
  {
   "cell_type": "code",
   "execution_count": 8,
   "metadata": {},
   "outputs": [
    {
     "data": {
      "text/plain": [
       "2.9357079911877846"
      ]
     },
     "execution_count": 8,
     "metadata": {},
     "output_type": "execute_result"
    }
   ],
   "source": [
    "s = 0\n",
    "for i in sample_val:\n",
    "    s += (i - sample_mean)**2\n",
    "\n",
    "sample_std = (s / (n-1))**0.5\n",
    "sample_std"
   ]
  },
  {
   "cell_type": "code",
   "execution_count": 11,
   "metadata": {},
   "outputs": [
    {
     "name": "stdout",
     "output_type": "stream",
     "text": [
      "t-score is -5.519638183154663\n"
     ]
    }
   ],
   "source": [
    "# calculatinf t-score\n",
    "pop_mean = 100\n",
    "\n",
    "t_score_val =  t_score(sample_mean,sample_size,pop_mean,sample_std)\n",
    "print(f\"t-score is {t_score_val}\")"
   ]
  },
  {
   "cell_type": "markdown",
   "metadata": {},
   "source": [
    "#### Step-4: Decide $\\alpha$"
   ]
  },
  {
   "cell_type": "code",
   "execution_count": 12,
   "metadata": {},
   "outputs": [
    {
     "name": "stdout",
     "output_type": "stream",
     "text": [
      "t_critical Value : 1.6557819682561565\n"
     ]
    }
   ],
   "source": [
    "#  One tail (Left Tailed) test with 94% of confidence\n",
    "\n",
    "alpha = 1 - 0.94\n",
    "t_critical = t.ppf(1 - alpha, df = 14)\n",
    "print(\"t_critical Value :\",t_critical)"
   ]
  },
  {
   "cell_type": "code",
   "execution_count": 22,
   "metadata": {},
   "outputs": [
    {
     "data": {
      "image/png": "[encoded data removed]",
      "text/plain": [
       "<Figure size 432x288 with 1 Axes>"
      ]
     },
     "metadata": {
      "needs_background": "light"
     },
     "output_type": "display_data"
    }
   ],
   "source": [
    "# Ploting the sampling distribution with rejection regions\n",
    "\n",
    "# Defining the x minimum and x maximum\n",
    "x_min = 95\n",
    "x_max = 105\n",
    "\n",
    "\n",
    "# Defining the sampling distribution mean and sampling distribution std\n",
    "mean = pop_mean\n",
    "std = sample_std / (sample_size**0.5)\n",
    "\n",
    "\n",
    "# Ploting the graph and setting the x limits\n",
    "x = np.linspace(x_min, x_max, 100)\n",
    "y = norm.pdf(x, mean, std)\n",
    "plt.xlim(x_min, x_max)\n",
    "plt.plot(x, y)\n",
    "\n",
    "\n",
    "# Computing the left critical value (Left tailed Test)\n",
    "t_critical_right = pop_mean + (-t_critical * std)\n",
    "\n",
    "\n",
    "# Shading the left rejection region\n",
    "x1 = np.linspace(x_min,t_critical_right, 100)\n",
    "y1 = norm.pdf(x1, mean, std)\n",
    "plt.fill_between(x1, y1, color='orange')\n",
    "\n",
    "\n",
    "# Ploting the sample mean and concluding the results \n",
    "plt.scatter(sample_mean, 0)\n",
    "plt.annotate(\"x_bar\", (sample_mean, 0.1))\n",
    "plt.show()"
   ]
  },
  {
   "cell_type": "markdown",
   "metadata": {},
   "source": [
    "#### Sample Mean falls in the Rejection Region"
   ]
  },
  {
   "cell_type": "markdown",
   "metadata": {},
   "source": [
    "#### Step-5.1: Left Tailed t-test\n",
    "<ul>\n",
    "<li> Left tailed t-test: \n",
    "            $$ t \\ < t_{(n-1),\\frac{\\alpha}{2}} \\ \\Rightarrow \\ \\text{Accept $H_{1}$} \\ or \\ \\ \\text{Reject $H_{0}$} $$\n",
    "        "
   ]
  },
  {
   "cell_type": "code",
   "execution_count": 20,
   "metadata": {},
   "outputs": [
    {
     "name": "stdout",
     "output_type": "stream",
     "text": [
      "Reject Null Hypothesis\n"
     ]
    }
   ],
   "source": [
    "# Conclusion of this t test\n",
    "\n",
    "if(np.abs(t_score_val) > t_critical):\n",
    "    print(\"Reject Null Hypothesis\")\n",
    "else:\n",
    "    print(\"Fail to reject Null Hypothesis\")"
   ]
  },
  {
   "cell_type": "markdown",
   "metadata": {},
   "source": [
    "#### Step- 5.2: Compute p-value:\n",
    "<br>\n",
    "<li>For two tailed test:\n",
    "$$ \\text{p value} \\ = 2*(1.0-cdf(\\text{test statistic})) $$\n",
    "<br>\n",
    "Now, \n",
    "$$ if \\ (\\text{p value} < \\alpha) \\ \\Rightarrow \\ \\text{Accept $H_{1}$} \\ or \\ \\ \\text{Reject $H_{0}$}    $$"
   ]
  },
  {
   "cell_type": "code",
   "execution_count": 21,
   "metadata": {},
   "outputs": [
    {
     "name": "stdout",
     "output_type": "stream",
     "text": [
      "p_value =  3.776617078909972e-05\n",
      "Reject Null Hypothesis\n"
     ]
    }
   ],
   "source": [
    "#Conclusion by p test\n",
    "\n",
    "p_value = 1.0 - t.cdf(np.abs(t_score_val), df = 14)\n",
    "\n",
    "print(\"p_value = \", p_value)\n",
    "\n",
    "if(p_value < alpha):\n",
    "    print(\"Reject Null Hypothesis\")\n",
    "else:\n",
    "    print(\"Fail to reject Null Hypothesis\")"
   ]
  },
  {
   "cell_type": "markdown",
   "metadata": {},
   "source": [
    "# Summary: We REJECTED the Null Hypothesis $H_0$"
   ]
  }
 ],
 "metadata": {
  "kernelspec": {
   "display_name": "Python 3",
   "language": "python",
   "name": "python3"
  },
  "language_info": {
   "codemirror_mode": {
    "name": "ipython",
    "version": 3
   },
   "file_extension": ".py",
   "mimetype": "text/x-python",
   "name": "python",
   "nbconvert_exporter": "python",
   "pygments_lexer": "ipython3",
   "version": "3.8.8"
  }
 },
 "nbformat": 4,
 "nbformat_minor": 4
}
