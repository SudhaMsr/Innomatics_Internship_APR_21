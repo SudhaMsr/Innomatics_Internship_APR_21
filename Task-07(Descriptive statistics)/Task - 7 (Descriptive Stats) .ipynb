{
 "cells": [
  {
   "cell_type": "code",
   "execution_count": null,
   "metadata": {
    "id": "nK6UGn9PtL0-"
   },
   "outputs": [],
   "source": [
    "import pandas as pd\n",
    "import numpy as np\n",
    "import statistics as st\n",
    "\n",
    "\n",
    "df=pd.read_csv(r'D:\\Innomatics_ Internship_APR_21\\Task - 7 (Descriptive Stats)\\data.csv')"
   ]
  },
  {
   "cell_type": "markdown",
   "metadata": {
    "id": "fFmaZte6tL17"
   },
   "source": [
    "# Mean\n",
    "Mean represents the arithmetic average of the data.Mean is the measure of central tendency it can be calculated by adding the sum of all data points to the given number ofdata points.\n",
    "\n",
    "![OIP.jpg](data:image/jpeg;base64,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)"
   ]
  },
  {
   "cell_type": "code",
   "execution_count": null,
   "metadata": {
    "id": "wUFHtEeHtL2D",
    "outputId": "8bc8fd4a-fc8a-41c9-94ce-2c3a86d9bcb0"
   },
   "outputs": [
    {
     "data": {
      "text/html": [
       "<div>\n",
       "<style scoped>\n",
       "    .dataframe tbody tr th:only-of-type {\n",
       "        vertical-align: middle;\n",
       "    }\n",
       "\n",
       "    .dataframe tbody tr th {\n",
       "        vertical-align: top;\n",
       "    }\n",
       "\n",
       "    .dataframe thead th {\n",
       "        text-align: right;\n",
       "    }\n",
       "</style>\n",
       "<table border=\"1\" class=\"dataframe\">\n",
       "  <thead>\n",
       "    <tr style=\"text-align: right;\">\n",
       "      <th></th>\n",
       "      <th>Mthly_HH_Income</th>\n",
       "      <th>Mthly_HH_Expense</th>\n",
       "      <th>No_of_Fly_Members</th>\n",
       "      <th>Emi_or_Rent_Amt</th>\n",
       "      <th>Annual_HH_Income</th>\n",
       "      <th>Highest_Qualified_Member</th>\n",
       "      <th>No_of_Earning_Members</th>\n",
       "    </tr>\n",
       "  </thead>\n",
       "  <tbody>\n",
       "    <tr>\n",
       "      <th>0</th>\n",
       "      <td>5000</td>\n",
       "      <td>8000</td>\n",
       "      <td>3</td>\n",
       "      <td>2000</td>\n",
       "      <td>64200</td>\n",
       "      <td>Under-Graduate</td>\n",
       "      <td>1</td>\n",
       "    </tr>\n",
       "    <tr>\n",
       "      <th>1</th>\n",
       "      <td>6000</td>\n",
       "      <td>7000</td>\n",
       "      <td>2</td>\n",
       "      <td>3000</td>\n",
       "      <td>79920</td>\n",
       "      <td>Illiterate</td>\n",
       "      <td>1</td>\n",
       "    </tr>\n",
       "    <tr>\n",
       "      <th>2</th>\n",
       "      <td>10000</td>\n",
       "      <td>4500</td>\n",
       "      <td>2</td>\n",
       "      <td>0</td>\n",
       "      <td>112800</td>\n",
       "      <td>Under-Graduate</td>\n",
       "      <td>1</td>\n",
       "    </tr>\n",
       "    <tr>\n",
       "      <th>3</th>\n",
       "      <td>10000</td>\n",
       "      <td>2000</td>\n",
       "      <td>1</td>\n",
       "      <td>0</td>\n",
       "      <td>97200</td>\n",
       "      <td>Illiterate</td>\n",
       "      <td>1</td>\n",
       "    </tr>\n",
       "    <tr>\n",
       "      <th>4</th>\n",
       "      <td>12500</td>\n",
       "      <td>12000</td>\n",
       "      <td>2</td>\n",
       "      <td>3000</td>\n",
       "      <td>147000</td>\n",
       "      <td>Graduate</td>\n",
       "      <td>1</td>\n",
       "    </tr>\n",
       "  </tbody>\n",
       "</table>\n",
       "</div>"
      ],
      "text/plain": [
       "   Mthly_HH_Income  Mthly_HH_Expense  No_of_Fly_Members  Emi_or_Rent_Amt  \\\n",
       "0             5000              8000                  3             2000   \n",
       "1             6000              7000                  2             3000   \n",
       "2            10000              4500                  2                0   \n",
       "3            10000              2000                  1                0   \n",
       "4            12500             12000                  2             3000   \n",
       "\n",
       "   Annual_HH_Income Highest_Qualified_Member  No_of_Earning_Members  \n",
       "0             64200           Under-Graduate                      1  \n",
       "1             79920               Illiterate                      1  \n",
       "2            112800           Under-Graduate                      1  \n",
       "3             97200               Illiterate                      1  \n",
       "4            147000                 Graduate                      1  "
      ]
     },
     "execution_count": 2,
     "metadata": {
      "tags": []
     },
     "output_type": "execute_result"
    }
   ],
   "source": [
    "#head function() is used to get first n rows\n",
    "df.head(5)"
   ]
  },
  {
   "cell_type": "code",
   "execution_count": null,
   "metadata": {
    "id": "94D-lM-itL2M",
    "outputId": "250ad68b-40a9-4d78-f489-ccb0375baa97"
   },
   "outputs": [
    {
     "data": {
      "text/plain": [
       "Mthly_HH_Income           41558.00\n",
       "Mthly_HH_Expense          18818.00\n",
       "No_of_Fly_Members             4.06\n",
       "Emi_or_Rent_Amt            3060.00\n",
       "Annual_HH_Income         490019.04\n",
       "No_of_Earning_Members         1.46\n",
       "dtype: float64"
      ]
     },
     "execution_count": 3,
     "metadata": {
      "tags": []
     },
     "output_type": "execute_result"
    }
   ],
   "source": [
    "##Calculating the mean of the data using inbuilt function mean()\n",
    "df.mean()"
   ]
  },
  {
   "cell_type": "code",
   "execution_count": null,
   "metadata": {
    "id": "L78_jc_OtL2Q",
    "outputId": "30ac7af2-3151-42fe-c59c-000cd26dbf87"
   },
   "outputs": [
    {
     "name": "stdout",
     "output_type": "stream",
     "text": [
      "41558.0\n"
     ]
    }
   ],
   "source": [
    "##we can also find the mean col wise.\n",
    "print(df['Mthly_HH_Income'].mean())"
   ]
  },
  {
   "cell_type": "markdown",
   "metadata": {
    "id": "xMOYp_K9tL2Y"
   },
   "source": [
    "# Median\n",
    "In simple terms, median represents the 50th percentile, or the middle value of the data, that separates the distribution into two halves.Median can be divided entire data into two equal parts.The median is sometimes used as opposed to mean when there are outliers in the sequence that might skew theaverage of the values.\n",
    "\n",
    "![1.jpg](data:image/jpeg;base64,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)"
   ]
  },
  {
   "cell_type": "code",
   "execution_count": null,
   "metadata": {
    "id": "ly37dhgptL2a",
    "outputId": "2232ed56-2e15-4bb4-f06e-0bf53de0d049"
   },
   "outputs": [
    {
     "data": {
      "text/plain": [
       "Mthly_HH_Income           35000.0\n",
       "Mthly_HH_Expense          15500.0\n",
       "No_of_Fly_Members             4.0\n",
       "Emi_or_Rent_Amt               0.0\n",
       "Annual_HH_Income         447420.0\n",
       "No_of_Earning_Members         1.0\n",
       "dtype: float64"
      ]
     },
     "execution_count": 6,
     "metadata": {
      "tags": []
     },
     "output_type": "execute_result"
    }
   ],
   "source": [
    "##Calculating the median in the given dataset\n",
    "df.median()"
   ]
  },
  {
   "cell_type": "code",
   "execution_count": null,
   "metadata": {
    "id": "FhvyXFCqtL2f",
    "outputId": "f902da36-f7c8-401e-e160-480eb096556c"
   },
   "outputs": [
    {
     "name": "stdout",
     "output_type": "stream",
     "text": [
      "35000.0\n"
     ]
    }
   ],
   "source": [
    "##we can also find the median col wise.\n",
    "print(df['Mthly_HH_Income'].median())"
   ]
  },
  {
   "cell_type": "markdown",
   "metadata": {
    "id": "LSBgWi6ctL2i"
   },
   "source": [
    "### Mode\n",
    "Mode represents the most frequent value of a variable in the data. This is the only central tendency measure that can be used with categorical variables, unlike the mean and the median which can be used only with quantitative data.\n",
    "\n",
    "![mode.jpg](data:image/jpeg;base64,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)"
   ]
  },
  {
   "cell_type": "code",
   "execution_count": null,
   "metadata": {
    "id": "q3BFKB39tL2o",
    "outputId": "9c723e89-bc68-47ce-cfab-29a245194f08"
   },
   "outputs": [
    {
     "data": {
      "text/html": [
       "<div>\n",
       "<style scoped>\n",
       "    .dataframe tbody tr th:only-of-type {\n",
       "        vertical-align: middle;\n",
       "    }\n",
       "\n",
       "    .dataframe tbody tr th {\n",
       "        vertical-align: top;\n",
       "    }\n",
       "\n",
       "    .dataframe thead th {\n",
       "        text-align: right;\n",
       "    }\n",
       "</style>\n",
       "<table border=\"1\" class=\"dataframe\">\n",
       "  <thead>\n",
       "    <tr style=\"text-align: right;\">\n",
       "      <th></th>\n",
       "      <th>Mthly_HH_Income</th>\n",
       "      <th>Mthly_HH_Expense</th>\n",
       "      <th>No_of_Fly_Members</th>\n",
       "      <th>Emi_or_Rent_Amt</th>\n",
       "      <th>Annual_HH_Income</th>\n",
       "      <th>Highest_Qualified_Member</th>\n",
       "      <th>No_of_Earning_Members</th>\n",
       "    </tr>\n",
       "  </thead>\n",
       "  <tbody>\n",
       "    <tr>\n",
       "      <th>0</th>\n",
       "      <td>45000</td>\n",
       "      <td>25000</td>\n",
       "      <td>4</td>\n",
       "      <td>0</td>\n",
       "      <td>590400</td>\n",
       "      <td>Graduate</td>\n",
       "      <td>1</td>\n",
       "    </tr>\n",
       "  </tbody>\n",
       "</table>\n",
       "</div>"
      ],
      "text/plain": [
       "   Mthly_HH_Income  Mthly_HH_Expense  No_of_Fly_Members  Emi_or_Rent_Amt  \\\n",
       "0            45000             25000                  4                0   \n",
       "\n",
       "   Annual_HH_Income Highest_Qualified_Member  No_of_Earning_Members  \n",
       "0            590400                 Graduate                      1  "
      ]
     },
     "execution_count": 8,
     "metadata": {
      "tags": []
     },
     "output_type": "execute_result"
    }
   ],
   "source": [
    "df.mode()"
   ]
  },
  {
   "cell_type": "markdown",
   "metadata": {
    "id": "6XrVO2lmtL2r"
   },
   "source": [
    "### Variance\n",
    "Variance is another measure of dispersion. It is the square of the standard deviation and the covariance of the random variable with itself. \n",
    "\n",
    "![variance.jpg](data:image/jpeg;base64,/9j/4AAQSkZJRgABAQAAAQABAAD/2wBDAAsJCQcJCQcJCQkJCwkJCQkJCQsJCwsMCwsLDA0QDBEODQ4MEhkSJRodJR0ZHxwpKRYlNzU2GioyPi0pMBk7IRP/2wBDAQcICAsJCxULCxUsHRkdLCwsLCwsLCwsLCwsLCwsLCwsLCwsLCwsLCwsLCwsLCwsLCwsLCwsLCwsLCwsLCwsLCz/wAARCADhARsDASIAAhEBAxEB/8QAGwABAAIDAQEAAAAAAAAAAAAAAAUGAQMEAgf/xABLEAABBAIBAgMEBgYGAhMAAAABAAIDBAUREgYhEzFBFCJRYRUWMnGB0yNCVFWUlQckM1Lh8FaRFyY1NjdTV2ZykpahprG1wdHS1P/EABQBAQAAAAAAAAAAAAAAAAAAAAD/xAAUEQEAAAAAAAAAAAAAAAAAAAAA/9oADAMBAAIRAxEAPwD62iIgIiICIiAiIgIiICIiAiIgIiICIiAiIgIiICIiAiIgIiICIiAiIgIiICIiAiIgIib+aAiIgIiICIiAiIgIn4ogIiICIiAiIgIiICIiAiIgIiICIiAiIgIiICIiAiIgKp2MlbxXWBhu25PojK4We1VZIQY69rHgPnEY15cByd96tirXV/TUnUtGrBBabUtV7D3ssFrnHwJonwTxe6QdPae/3fNBE4fO9QV8DTydijkMrez167drwiRkNWhT3uNs1mUeFGzQ23fny+XbeOvqf0VRyQxlt75s99X56taWGeRlkMMhMD2e5ID7oboje/Pt36Ooel7WQZ0w3GnG+Bg3PY3H5aGSbHzxGFsDDLHERt0YHuj5+n60fT6HyFetQrvv03Gr1lD1S58NZ0LHxtY1roWxNJa09u2joD7u4dkOdtNzdr2mrl2TxdKRZSbEwPitMZIbBb4UMUTA4zHsN8td/Ia2MVOtnSWMlTv4eWlbq4m1mIovbatkyQwNLjHL4Pdjz/dI/wAd2W6Wu5HJZ69FkG1hkunRhIuDH+JE/wAYTF7nAj3T9kgeh/1xNHobLwzOnmnwcBf09fwZgxdKWGJpnYWNsOcXcnvJ0XkgfL4oJHHday3bXT0djA3qdPPseMdbmngeJJmM5uaYozzDf7rjrfY60e3un1lJes1HwYLIOwl3IOxlTLMdG9r5w8x831mfpGxkgjkT9+vIZj6Wtxxf0fx+1w/7WS42D4b/AOsAwiLUfft+K0YjprqrEuoYyvmakfT1HISXYhDA8ZKaJ0rpvY5nuJi4Ek8iBv7vJoZHXlQ2o3HHyjCyZH6LjyhtVfesczFzNQO8YR7B974d9ei2f0gZG9jMDHZp3JqchyVKGSaDXMRPLg/QIP8A5eijanQdqpZbXjHTrsUy+6621Niop80YjL4vsplnDotegdrY9NeSsXVGDsZ/H16UNiOB8eQqXC+VrngtgcXFoDSDs7QVzEZzD0m5nKydU57KVcZRMliC9UdCweJI1kZj8SKPbyRxb3H2u+vSWp9XTvtRU8rg7mMnt0LORxglngnbbigjMr2Ex92vA7lpHb11+tMZ/ERZ3D5PEyyGNtyINbI0bMcjHtljeRvuA4Akb7qAg6b6luX6V/PZHHyPxWOvUcWzHwTMa6W3Ca77Noyu3yI8w3t8Na94NTOvi7Dx5t2AyDack+PrQbli5WZrD5WSiuNbIZxABOuRdrtrZxN13kIDmopOlcgLWF4T5SP2ykY61KRgkZMZWkguI78Wg+R79u29/SFx3S/T+AF2ATYy7UtSTeG/w5GwzSSlrW73v3h/q+fbdb6Wt2bPX07bcLR1LQp04GmN/wDVzBXMBdIQe+97GkHZT6mrXsm7Hw1peH0DWz0c7ntHOKcjjGYx5HuP1v8AGBj6nt5bIf0X26xnqUs07qQ26niCQSCnHwYHlrRvRBI7eq3npXqOpdx1zE5LHRuHTlTp6+bleaXi2AAe0VmMcAT2Gg52vjvfbOO6Mu0Y+hWOvwk9Nsz7ZXxxva6Y5MPDXRcj2LN+vwQbq3WkkmVxmPu4O5Qiyk0sNCS1Yr+1FzASDZotPjRg+m/j8O6t6+dYvoPM0rPT001rCaw+RfadJWpzNuZBkjiTJbsvdyLxsho1ob8zpfRUBERAREQEREBERAREQEREBERAREQEREBERAREQEREBERAREQEREBFT+qeps107Zx/GlSdirj2QHIWJLHCpOd7FhkLSdHzBHwPw797ZevHta5kXTDmOaHNc2zkXBzSNggiHSCwoofEXszPYytPLVKsFik6o6J9KWWWCxDYY5we0zNa7YLXAjXp6+Z30L7rz8hMwMbj69ienBId8p5azzHPLvfEMDg5je3fgTvRCCRRaW2qjmvc2xC5rOPNzZYyG8vs8iDrv6LZHJFKxskT2vY4ba9jmua4fEOb2QekREBFgqMZfndbyWNcyEXoIW3Key4Q2KsznMZIQCXAscC2Qfce3iaaEoijMRZyFmO77aK7nV71itBYqxyRQ24Y2s/Stjke8jTi5h98glhI7HtJoCIiAiIgIiICIiAiIgIiICIiAiIgIiICIiAi1ziZ0UrYZGxylpDJHN5hhP63EkA69Fw4Z+SfVl9veZHNt2mVZnxtimmpteRFJNGwBocR8GjY0dDegEkiIg5b9ClkqduhdibLVtRGKaN3q09wQfQg6LT6Eb9FUekjmcLk8j0hb53aVGsy/i77SCYacz3NZXs9+zux4Dz90693XGy5fJPoxQxVo2T5O658GOrvdxa+QN5OlmI7iKMe9Ifw83AOzisfFja7mvs+03bEhs5G5LwbJbsuADnkDsGjs1jR2a0ADy7h22HuigsSsaC6OGWRo+Ja0uAUH0YxrelemwO/PHxSuJ7lz5S6R5O/iSdqTZk6M+QmxcTmyzwVRZtcC17IWvf4bGSEH7TveIHwb8xuExNG3Dh7PTUd6elbxz5q8VqNjHzOx0kz3154efu7LCGE99Oa4eY7BC0Kld2e6k6VhkiZhbdubNythYQ600+HDax0bw0M4Nk/tNOJA9zt3LL9/V6lc8WNir14jpkUfusjjbvTI4x6AdgAoafpxjp+mp6dkUnYJksddsFdjmSsmYI5GSB7ieLgPLe9ne99xPIIX6z4AAnxrmgN/wC5mU8v4dSrp4WQOsyPDIGRGd8jwWhsQbzLnBw2NDuey2qD6lZYuU4cNAJ2nNyvx9ixDGXNq0zG6SeV7iOA20cBsjZf28kHJH1DkZMP0zcNSFt/qG/Wgq1+TiyKrO98/iydw73YW8na9T8PPzmP99XRsLS9gyGN6npWHxPdHL4IirTDjIwhwII2CD2W+Lpy0LfTtyxl555cPDZgDRVqxRSNmaxn6JkbdM7N4kjZ0SNja2MhdkOpG3ho08LQsUIX67Pv3JGOn4OHpG1jGu+byPNhACTo0IKEbooX2ntJB3asz2XNAaGhrXTOcQ0a7Af+660RAREQEREBERAREQEREBERAREQEREBERAVRDrfUFjqKafL3sXiMPes42NmPmiqyOkqRh09u1Zc1zuO3e6NtGm7O9q3KNnwWDszTzz0YZH2HROsh3LwrDotBjp4gfDcR2ALmny+SCE6ToG7g4LmRsZa19MUWtsVspdlsQmLm8CSJjtaEo0717OA9O9kp0aOPidDTgZDG6R0rmt5Hk92gXEuJO+w9V0aCygrmXt5OG4WV7uRhj8KN3Cr09YyMXI72fHjGt/Een4rpwdi9OLntVm7PxdCIzcxE2L4gh2+AlHvfP4fiprSIKVnem487ddZyHTzrRiBgru+nJYWCFrjotiYziN+ZUT/ALH+F/0S/wDEE3/1X0tEFOweFl6d9sOJ6ZjhNvwROX5oylwi5cQPFjOvtH/IUz7Z1Hvf0FBvRG/pOLej6f2KmEQRHt3Uv7ig/mkf5Ke3dS/uKD+aR/kqX/yFXcF1C7KHOQ2Y4a8+NlLo5G8zDZoSBxgusD9Hi7i7tv08+6Dr9u6l/cUH80j/ACU9t6k/cUH80j/JW7C279/F4+9dhhhmuQss+FAXlscco5xgl/fetE9h569O8igiPbupP3FB/NI/yVgXOo2jQwNcDv2GTiHmd/8AEqYRBFxXOoHywslw8MUTntbJIMjG8xsPm4MEQJ18NqUG0RAREQEREBERAREQEREBERAREQEREBERAWVhZQYREQEREBERAREQRmevSY/E5OzEJDYbXkjqiKN8jjZkBZFpsYLtAkE9uwBPoq1nMParfVx2IaZGWqEfR2Qc0OJGNstHC127fo9OI/6fzV40mv8AO0GGNYxjWMAaxjQ1rQOwa3sAFlEQEREBERAREQEREBERAREQEREBFlYQEREBERAREQERZQYREQEREBERAREQEWVhAREQEREBERAREQEREBERARFlBhERAREQEREBERAREQERZQYREQEREFZzPV1fC5Oji58Zfklv8RRnY+nHVncdAsEs8zQHA6BB15j+8N9X0xnf9FMt/F4b/wDUt3UGBx3UWNnx11umv9+CZoBkrTgENlj38PIj1BI9VX+ks5kobc3SXUPIZnHMJqWTyLMjSaPdlDz5kD19R5+80oJ/GZl9+3kKM+MvY+1Siqzuju+zkSxWDI1r4X15HtIBYQe/+ClcmyGTy3hyaoYqX6OAYQfabpjZNM958+MYc1jR278t70OMn4EIn9oEbfGMbYTJr3zGHF4YT8Nkn8VXOin+Pgn2nf2l3LZy1MfIl8l+YHy+4ILOiojJcxRz3UXTsE9uaxlYa+Qw9m5bnmjx9CQPisOIfJy/ROH6Nre7iRsgAubcaFNtCrBVbPanETA0z3Z5LFiV3q+SSQkkn8B6AADQDqReecff32f9Yf8Aysghw20gj4gghBGzZWxDLLE3C5iYRvLRLCymY5AP1mF9hrtfeAkdu1kGWYG08njX+FuKxZZU0Hk9iwMlfsjzII1r71XchYyOF6pi8I27kWfx8sWJqTXJjXgykD28wWyPLWxlh5OIaT7pAHfRsuJx0mOqeFNctXLMjnTWbFqaWTnK8kkRMlc7hGPJjQewA2SdkhEvymXuYWW7Skr18hTddrWoBA6z4mTqSGv7LG3kDxe4djvenDy81Y4jIY4jI0MkLGmRrTya1+hyaD8iqhi6FS7mOuKcxsiOpnIbsJq27VVwlu46ESEurSMJ8vX4n497hFGyKOOJgIZGxrGAkuIa0ADZcSf+9B6REQEREBERAREQEREBERAREQEREBERARFF5/JyYfF2cgyLxBBJWEpLXvbDDJMyKSd7I/fLYwS4gfDzHmA67cl2OLdOvDNOSQ1ticwQtABPKSRrHuA9OzD5/DuPGLu/SWPx9/wJIPbK8VjwZSC6PmN6JHY/I+o7+q5DFlMnRljktQVjJZeYp6LYrMVqhvcZc2wHN1ICOQ7/AA2QdmQqwzQV4YZrD7EjG6fM9kUbnn48Imhg+AAHog3oomxkMzDPNHBg5bETHAMmF6lGJBoHfCRwcPxC6aNm7ZZK63QdTeyQNax1iCcvaWg8twEgfDugzksjUxdSW3Z8QtaWxxxQt52LE0h4xwV4x3c950Gj5+gGxxYjHWGS2Mvk2xnMXo2RyNY4PZRqNJfHRgf8Gk7eQPed38gA2r9Qut5HK1bVLqhuOZjRKyrCMNaslk72+HLM50jS0uPdrSG9gTr7RLuLl1V/yiSf9npPy0H0l08DJoIHSNE07ZXxRk+89sXHmWj5bG/vVZwQv0KPUuMp14ZLuOzeRFSGxN4URguvF6CR72tJ46k76Hm0j7orBObQylnK5nqifLTvpGlXDsZdgbAx8rJXljWsLBvi3emjy+SsBzHTXtovNtTtnMHs0vCrdDJog4vYJW+D3LCXFp9OR9HaQRljp/MRydM5SnHBNnal6S5l7Nuzw9pinh8GxXaWMPukBoiGtNDR6+dxaXFrS5vFxAJbsHifhsKK+smA/aZf4S7+Un1kwH7TL/CXfykHo9OdKuLnOwWHLnEucTQqkkk7JJLF2MggoVfAx9OCNkTJDXrQBleHmdu4ji3iNnzOlw/WTAftMv8ACXfyk+smA/aZf4S7+Uggcl0/m8hj3XHsrfWkZKpdqzvsONSi2pMXRxQEM5eHxLg4cduc4k+gbcIHTvhidPC2GZzQZI2yCVrHfAPAGx+AUb9ZMB+0y/wl38pabGewNiGWH26zF4rHMMkNa6yVod2PB3gnR+fmPTR7gNXTEZlf1PlCBxyudturOBBElWm1lGN4+TixxHyIViUHBnema0MFeCZ0cMEbIYY2U7oayNjQ1rWjwvIBd9LKY3IOlZUle90TWueHQTxaDiQO8rGhB2oiICIiAiIgIiICIiAiIgIiICIiAiIgKPv07tp8ZguNhiFa5WmgmrNsQT+0cAHyMc5vdvE6Hl7x32KkEQcmNoQYvH4/HQOkdFSrQ1Y3SncjmxtDduI7bP3LrREEbPgem7Uss9nD4ueeV3KWWenXkke7Wtue9pJP4rop4/GY9kkdClUqRyP5yMqQRwte/XHk4RgDeuy6kQEREBEXiV8cccskjxHHGx73vOtMa0Fxcd9u3mg9/wCfNFQcdk+qLNXoWabISMs5rKyWHwvhrDxcRGyazI+bjHoe54bWceP2gSSXabcL1vI1zEKmLmuh4cZDHYqwiMjWgfHcCd/L4IO5cDcrj3ZR2HbI83203X3x+FKGCu2RsPLxHAMPc60CfI+Xr4p3stPO2OzhZ6kRY9xmkt0pQHDWm8IXl3f7lEO/4QYz/wAzJf8A1NiC0oiICIiAiIgIiICIiAiIgIiICIiAiIgIiICIiAiIgIiICIiAiIgLTbq17tW3TssL69uCWtOwOeznFK0se3kwhw2CR2K3Igj5cNiZpsTPJW2/FRyQ0QJJWxxRyCNrmGNrgxw9xuuQP2QpBEQFHnEY05MZjhN9ICt7H4vtFjj7Nz8TwvC5+Hx33+z5qQRAREQEREBERAREQEREBERAREQEREBERAREQEREBERAREQEREBERAREQEREBERAREQEREBERAREQEREBERAREQEREBERAREQEREBEWUGEREBERAREQEREBERAREQEREBERAREQEREBERAREQEREBERAREQEREBERAREQEREBERAREQEREBERAREQEREBERAREQEREBERAREQEREH//Z)"
   ]
  },
  {
   "cell_type": "code",
   "execution_count": null,
   "metadata": {
    "id": "88ByY-_ztL2t",
    "outputId": "37ac3511-c685-44e9-9fa4-3f9c92efffb4"
   },
   "outputs": [
    {
     "data": {
      "text/plain": [
       "Mthly_HH_Income          6.811009e+08\n",
       "Mthly_HH_Expense         1.461733e+08\n",
       "No_of_Fly_Members        2.302449e+00\n",
       "Emi_or_Rent_Amt          3.895551e+07\n",
       "Annual_HH_Income         1.024869e+11\n",
       "No_of_Earning_Members    5.391837e-01\n",
       "dtype: float64"
      ]
     },
     "execution_count": 9,
     "metadata": {
      "tags": []
     },
     "output_type": "execute_result"
    }
   ],
   "source": [
    "df.var()"
   ]
  },
  {
   "cell_type": "markdown",
   "metadata": {
    "id": "JxgXLqLmtL2w"
   },
   "source": [
    "### Standard Deviation\n",
    "Standard deviation is a measure that is used to quantify the amount of variation of a set of data values from its mean. A low standard deviation for a variable indicates that the data points tend to be close to its mean, and vice versa.\n",
    "\n",
    "![sd.jpg](data:image/jpeg;base64,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)"
   ]
  },
  {
   "cell_type": "code",
   "execution_count": null,
   "metadata": {
    "id": "U-2A2nF5tL2z",
    "outputId": "c9dfb426-de60-4aca-cacd-f31efff04883"
   },
   "outputs": [
    {
     "data": {
      "text/plain": [
       "Mthly_HH_Income           26097.908979\n",
       "Mthly_HH_Expense          12090.216824\n",
       "No_of_Fly_Members             1.517382\n",
       "Emi_or_Rent_Amt            6241.434948\n",
       "Annual_HH_Income         320135.792123\n",
       "No_of_Earning_Members         0.734291\n",
       "dtype: float64"
      ]
     },
     "execution_count": 10,
     "metadata": {
      "tags": []
     },
     "output_type": "execute_result"
    }
   ],
   "source": [
    "df.std()"
   ]
  },
  {
   "cell_type": "code",
   "execution_count": null,
   "metadata": {
    "id": "042k2ztmtL23",
    "outputId": "3574d1fa-f67a-47f1-9f49-a5be2c9f4c48"
   },
   "outputs": [
    {
     "name": "stdout",
     "output_type": "stream",
     "text": [
      "26097.908978713687\n"
     ]
    }
   ],
   "source": [
    "##we can also find the standard deviation col wise.\n",
    "print(df['Mthly_HH_Income'].std())"
   ]
  },
  {
   "cell_type": "markdown",
   "metadata": {
    "id": "ibd4cYKhtL25"
   },
   "source": [
    "### Correlation\n",
    "Statistics and data science are often concerned about the relationships between two or more variables (or features) of a dataset. Each data point in the dataset is an observation, and the features are the properties or attributes of those observations.\n",
    "\n",
    "![correlation.jpg](data:image/jpeg;base64,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)"
   ]
  },
  {
   "cell_type": "code",
   "execution_count": null,
   "metadata": {
    "id": "bS45cQRNtL27",
    "outputId": "14e4e943-a067-4d69-d079-2b96766d4c49"
   },
   "outputs": [
    {
     "data": {
      "text/html": [
       "<div>\n",
       "<style scoped>\n",
       "    .dataframe tbody tr th:only-of-type {\n",
       "        vertical-align: middle;\n",
       "    }\n",
       "\n",
       "    .dataframe tbody tr th {\n",
       "        vertical-align: top;\n",
       "    }\n",
       "\n",
       "    .dataframe thead th {\n",
       "        text-align: right;\n",
       "    }\n",
       "</style>\n",
       "<table border=\"1\" class=\"dataframe\">\n",
       "  <thead>\n",
       "    <tr style=\"text-align: right;\">\n",
       "      <th></th>\n",
       "      <th>Mthly_HH_Income</th>\n",
       "      <th>Mthly_HH_Expense</th>\n",
       "      <th>No_of_Fly_Members</th>\n",
       "      <th>Emi_or_Rent_Amt</th>\n",
       "      <th>Annual_HH_Income</th>\n",
       "      <th>No_of_Earning_Members</th>\n",
       "    </tr>\n",
       "  </thead>\n",
       "  <tbody>\n",
       "    <tr>\n",
       "      <th>Mthly_HH_Income</th>\n",
       "      <td>1.000000</td>\n",
       "      <td>0.649215</td>\n",
       "      <td>0.448317</td>\n",
       "      <td>0.036976</td>\n",
       "      <td>0.970315</td>\n",
       "      <td>0.347883</td>\n",
       "    </tr>\n",
       "    <tr>\n",
       "      <th>Mthly_HH_Expense</th>\n",
       "      <td>0.649215</td>\n",
       "      <td>1.000000</td>\n",
       "      <td>0.639702</td>\n",
       "      <td>0.405280</td>\n",
       "      <td>0.591222</td>\n",
       "      <td>0.311915</td>\n",
       "    </tr>\n",
       "    <tr>\n",
       "      <th>No_of_Fly_Members</th>\n",
       "      <td>0.448317</td>\n",
       "      <td>0.639702</td>\n",
       "      <td>1.000000</td>\n",
       "      <td>0.085808</td>\n",
       "      <td>0.430868</td>\n",
       "      <td>0.597482</td>\n",
       "    </tr>\n",
       "    <tr>\n",
       "      <th>Emi_or_Rent_Amt</th>\n",
       "      <td>0.036976</td>\n",
       "      <td>0.405280</td>\n",
       "      <td>0.085808</td>\n",
       "      <td>1.000000</td>\n",
       "      <td>0.002716</td>\n",
       "      <td>-0.097431</td>\n",
       "    </tr>\n",
       "    <tr>\n",
       "      <th>Annual_HH_Income</th>\n",
       "      <td>0.970315</td>\n",
       "      <td>0.591222</td>\n",
       "      <td>0.430868</td>\n",
       "      <td>0.002716</td>\n",
       "      <td>1.000000</td>\n",
       "      <td>0.296679</td>\n",
       "    </tr>\n",
       "    <tr>\n",
       "      <th>No_of_Earning_Members</th>\n",
       "      <td>0.347883</td>\n",
       "      <td>0.311915</td>\n",
       "      <td>0.597482</td>\n",
       "      <td>-0.097431</td>\n",
       "      <td>0.296679</td>\n",
       "      <td>1.000000</td>\n",
       "    </tr>\n",
       "  </tbody>\n",
       "</table>\n",
       "</div>"
      ],
      "text/plain": [
       "                       Mthly_HH_Income  Mthly_HH_Expense  No_of_Fly_Members  \\\n",
       "Mthly_HH_Income               1.000000          0.649215           0.448317   \n",
       "Mthly_HH_Expense              0.649215          1.000000           0.639702   \n",
       "No_of_Fly_Members             0.448317          0.639702           1.000000   \n",
       "Emi_or_Rent_Amt               0.036976          0.405280           0.085808   \n",
       "Annual_HH_Income              0.970315          0.591222           0.430868   \n",
       "No_of_Earning_Members         0.347883          0.311915           0.597482   \n",
       "\n",
       "                       Emi_or_Rent_Amt  Annual_HH_Income  \\\n",
       "Mthly_HH_Income               0.036976          0.970315   \n",
       "Mthly_HH_Expense              0.405280          0.591222   \n",
       "No_of_Fly_Members             0.085808          0.430868   \n",
       "Emi_or_Rent_Amt               1.000000          0.002716   \n",
       "Annual_HH_Income              0.002716          1.000000   \n",
       "No_of_Earning_Members        -0.097431          0.296679   \n",
       "\n",
       "                       No_of_Earning_Members  \n",
       "Mthly_HH_Income                     0.347883  \n",
       "Mthly_HH_Expense                    0.311915  \n",
       "No_of_Fly_Members                   0.597482  \n",
       "Emi_or_Rent_Amt                    -0.097431  \n",
       "Annual_HH_Income                    0.296679  \n",
       "No_of_Earning_Members               1.000000  "
      ]
     },
     "execution_count": 12,
     "metadata": {
      "tags": []
     },
     "output_type": "execute_result"
    }
   ],
   "source": [
    "df.corr()"
   ]
  },
  {
   "cell_type": "markdown",
   "metadata": {
    "id": "6yZn6eJmtL2-"
   },
   "source": [
    "# Normal distribution\n",
    "The normal distribution is a form presenting data by arranging the probability distribution of each value in the data.Most values remain around the mean value making the arrangement symmetric.\n",
    "\n",
    "![normal distribution.jpg](data:image/jpeg;base64,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)\n",
    "Normal distribution by ploting using sample random data:"
   ]
  },
  {
   "cell_type": "code",
   "execution_count": null,
   "metadata": {},
   "outputs": [],
   "source": [
    "from scipy.stats import norm\n",
    "x = np.arange(-3,3,0.001)\n",
    "plt.title('Normal distribution plot using pdf')\n",
    "plt.xlabel('weight')\n",
    "plt.ylabel('probability')\n",
    "plt.plot(x,norm.pdf(x))\n",
    "plt.show()"
   ]
  },
  {
   "cell_type": "code",
   "execution_count": null,
   "metadata": {
    "id": "QIwIsUoctL3B",
    "outputId": "0b64230b-a79a-4cd6-ef54-32e4919bb0b5"
   },
   "outputs": [
    {
     "data": {
      "image/png": "[encoded data removed]",
      "text/plain": [
       "<Figure size 432x288 with 1 Axes>"
      ]
     },
     "metadata": {
      "needs_background": "light",
      "tags": []
     },
     "output_type": "display_data"
    }
   ],
   "source": [
    "import matplotlib.pyplot as plt\n",
    "\n",
    "\n",
    "mu, sigma = 0.5, 0.1\n",
    "\n",
    "\n",
    "# Create the bins and histogram\n",
    "df['Mthly_HH_Income'].hist(bins=20)\n",
    "bins=20\n",
    "plt.show()\n",
    "\n",
    "# Plot the distribution curve\n",
    "#df['Mthly_HH_Income'].plot(bins, 1/(sigma * np.sqrt(2 * np.pi)) *\n",
    "    #np.exp( - (bins - mu)**2 / (2 * sigma**2) ),       linewidth=3, color='y')\n",
    "#plt.show()"
   ]
  },
  {
   "cell_type": "markdown",
   "metadata": {
    "id": "9fo2-5iPtL3F"
   },
   "source": [
    "# Feature of Normal Distribution\n",
    "1.The mean, mode and median are all equal.<br /> \n",
    "2.The curve is symmetric at the center (i.e. around the mean, μ).<br /> \n",
    "3.Exactly half of the values are to the left of center and exactly half the values are to the right.<br /> \n",
    "4.The total area under the curve is 1.\n",
    "\n",
    "Plotting a normal distribution plot using the distplot on given dataset:"
   ]
  },
  {
   "cell_type": "code",
   "execution_count": null,
   "metadata": {},
   "outputs": [],
   "source": [
    "import seaborn as sns\n",
    "sns.set(color_codes=True)\n",
    "sns.distplot(df['Mthly_HH_Income'])\n",
    "plt.title('Normal distributed data')\n",
    "plt.xlabel('Standard deviation')\n",
    "plt.ylabel('probability')\n",
    "plt.show()"
   ]
  },
  {
   "cell_type": "markdown",
   "metadata": {
    "id": "w6snTvkatL3H"
   },
   "source": [
    "### Skewness\n",
    "Another useful statistic is skewness, which is the measure of the symmetry, or lack of it, for a real-valued random variable about its mean. The skewness value can be positive, negative, or undefined. In a perfectly symmetrical distribution, the mean, the median, and the mode will all have the same value."
   ]
  },
  {
   "cell_type": "code",
   "execution_count": null,
   "metadata": {
    "id": "WQ3EN7n-tL3J",
    "outputId": "2133157d-73f0-4696-9da0-f0cf9a17e79b"
   },
   "outputs": [
    {
     "data": {
      "text/plain": [
       "Mthly_HH_Income          0.924615\n",
       "Mthly_HH_Expense         1.199461\n",
       "No_of_Fly_Members        0.113674\n",
       "Emi_or_Rent_Amt          3.403680\n",
       "Annual_HH_Income         1.192949\n",
       "No_of_Earning_Members    1.593301\n",
       "dtype: float64"
      ]
     },
     "execution_count": 30,
     "metadata": {
      "tags": []
     },
     "output_type": "execute_result"
    }
   ],
   "source": [
    "df.skew()"
   ]
  },
  {
   "cell_type": "markdown",
   "metadata": {
    "id": "3uA-fFiXtL3L"
   },
   "source": [
    "Highly skewed distribution: If the skewness value is less than −1 or greater than +1.<br />\n",
    "\n",
    "Moderately skewed distribution: If the skewness value is between −1 and −½ or between +½ and +1.<br />\n",
    "\n",
    "Approximately symmetric distribution: If the skewness value is between −½ and +½."
   ]
  },
  {
   "cell_type": "markdown",
   "metadata": {
    "id": "1WuPypk1tL3N"
   },
   "source": [
    "# if the distribution of data is skewed to the left:- </br>\n",
    "the mean is less than the median, which is often less than the mode.</br>\n",
    "### If the distribution of data is skewed to the right:-</br>\n",
    "the mode is often less than the median, which is less than the mean.\n",
    "\n",
    "Positve and Negetive Skewed Normal Distribution:\n",
    "\n",
    "\n",
    "\n",
    "\n",
    "\n",
    "\n",
    "\n",
    "\n",
    "\n",
    "\n"
   ]
  },
  {
   "cell_type": "code",
   "execution_count": null,
   "metadata": {
    "executionInfo": {
     "elapsed": 1482,
     "status": "ok",
     "timestamp": 1621262309791,
     "user": {
      "displayName": "RAVIKUMAR NADUVIN",
      "photoUrl": "https://lh3.googleusercontent.com/a-/AOh14GgAvuOh9tIF9Hqv4jzjoV-_zZoDhrm8XLFBCUzG_A=s64",
      "userId": "03593733585768123105"
     },
     "user_tz": -330
    },
    "id": "QXZsI43PtL3P"
   },
   "outputs": [],
   "source": []
  }
 ],
 "metadata": {
  "colab": {
   "name": "Task - 7 (Descriptive Stats) (2).ipynb",
   "provenance": []
  },
  "kernelspec": {
   "display_name": "Python 3",
   "language": "python",
   "name": "python3"
  },
  "language_info": {
   "codemirror_mode": {
    "name": "ipython",
    "version": 3
   },
   "file_extension": ".py",
   "mimetype": "text/x-python",
   "name": "python",
   "nbconvert_exporter": "python",
   "pygments_lexer": "ipython3",
   "version": "3.9.4"
  }
 },
 "nbformat": 4,
 "nbformat_minor": 1
}
