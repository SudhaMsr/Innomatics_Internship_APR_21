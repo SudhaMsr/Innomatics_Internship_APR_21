{
 "cells": [
  {
   "cell_type": "code",
   "execution_count": null,
   "id": "fbc8b450",
   "metadata": {},
   "outputs": [],
   "source": [
    "#Question-01\n",
    "if __name__ == '__main__':\n",
    "    x = int(input())\n",
    "    y = int(input())\n",
    "    z = int(input())\n",
    "    N = int(input())\n",
    "    \n",
    "arr = [[X, Y, Z] for X in range(x+1) for Y in range(y+1) for Z in range(z+1) \n",
    "if X + Y + Z != N]\n",
    "print(arr)"
   ]
  },
  {
   "cell_type": "code",
   "execution_count": null,
   "id": "51ad2413",
   "metadata": {},
   "outputs": [],
   "source": [
    "#Question-02\n",
    "if __name__ == '__main__':\n",
    "    n = int(input())\n",
    "    arr = map(int, input().split())\n",
    "    arr = list(set(list(arr)))\n",
    "    arr = sorted(arr)\n",
    "    ar = len(arr)\n",
    "    print(arr[ar-2])"
   ]
  },
  {
   "cell_type": "code",
   "execution_count": null,
   "id": "6b49cf22",
   "metadata": {},
   "outputs": [],
   "source": [
    "#Question-03\n",
    "if __name__ == '__main__':\n",
    "    score_list = []; \n",
    "    for _ in range(int(input())):\n",
    "        name = input()\n",
    "        score = float(input())\n",
    "        score_list.append([name, score])\n",
    "second_highest = sorted(set([score for name, score in score_list]))[1]\n",
    "print('\\n'.join(sorted([name for name, score in score_list if score == second_highest])))\n"
   ]
  },
  {
   "cell_type": "code",
   "execution_count": null,
   "id": "76a739aa",
   "metadata": {},
   "outputs": [],
   "source": [
    "#Question-04\n",
    "if __name__ == '__main__':\n",
    "    n = int(input())\n",
    "    student_marks = {}\n",
    "    for _ in range(n):\n",
    "        name, *line = input().split()\n",
    "        scores = list(map(float, line))\n",
    "        student_marks[name] = scores\n",
    "    query_name = input()\n",
    "    output = list(student_marks[query_name])    \n",
    "per = sum(output)/len(output);\n",
    "print(\"%.2f\" % per);\n"
   ]
  },
  {
   "cell_type": "code",
   "execution_count": null,
   "id": "41ec70d9",
   "metadata": {},
   "outputs": [],
   "source": [
    "#Question-05\n",
    "if __name__ == '__main__':\n",
    "    N = int(input())\n",
    "    m=list()\n",
    "    for i in range(N):\n",
    "       method,*l=input().split()\n",
    "       k=list(map(int,l))\n",
    "       if len(k)==2:\n",
    "          q=[k[0]]\n",
    "          w=[k[1]]\n",
    "       elif len(k)==1:\n",
    "          q=[k[0]]\n",
    "       if method =='insert':\n",
    "          m.insert(q[0],w[0])\n",
    "       elif method == 'append':\n",
    "          m.append(q[0])\n",
    "       elif  method == 'remove':\n",
    "          m.remove(q[0])\n",
    "       elif method =='print':\n",
    "          print(m)\n",
    "       elif method == 'reverse':\n",
    "          m.reverse()\n",
    "       elif method =='pop':\n",
    "          m.pop()\n",
    "       elif method == 'sort':\n",
    "          m.sort()"
   ]
  },
  {
   "cell_type": "code",
   "execution_count": null,
   "id": "255fe2ba",
   "metadata": {},
   "outputs": [],
   "source": [
    "#Question-06\n",
    "if __name__ == '__main__':\n",
    "    n = int(input())\n",
    "    integer_list = map(int, input().split())\n",
    "    t = tuple(integer_list)\n",
    "    print(hash(t))"
   ]
  },
  {
   "cell_type": "code",
   "execution_count": null,
   "id": "1974d27a",
   "metadata": {},
   "outputs": [],
   "source": [
    "#Question-07\n",
    "def average(array):\n",
    "    # your code goes here\n",
    "    array = set (array)\n",
    "    return sum(array)/len(array)\n",
    "if __name__ == '__main__':\n",
    "    n = int(input())\n",
    "    arr = list(map(int, input().split()))\n",
    "    result = average(arr)\n",
    "    print(result)"
   ]
  },
  {
   "cell_type": "code",
   "execution_count": null,
   "id": "d5d73cd3",
   "metadata": {},
   "outputs": [],
   "source": [
    "#Question-09\n",
    "# Enter your code here. Read input from STDIN. Print output to STDOUT\n",
    "io=input().split()\n",
    "m=int(io[0])\n",
    "n=int(io[1])\n",
    "storage=list()\n",
    "count=0\n",
    "storage = list(map(int, input().strip().split()))\n",
    "\n",
    "A = set(map(int, input().strip().split()))\n",
    "B = set(map(int, input().strip().split()))\n",
    "for i in storage:\n",
    "    if i in A:\n",
    "        count = count+1\n",
    "    if i in B:\n",
    "        count = count-1\n",
    "\n",
    "print(count)"
   ]
  },
  {
   "cell_type": "code",
   "execution_count": null,
   "id": "2598d6ee",
   "metadata": {},
   "outputs": [],
   "source": [
    "#Question-10\n",
    "M = int(input().strip())\n",
    "set_m = set(map(int, input().strip().split(' ')))\n",
    "N = int(input().strip())\n",
    "set_n = set(map(int, input().strip().split(' ')))\n",
    "for j in sorted(set_m ^ set_n):\n",
    "    print(j)"
   ]
  },
  {
   "cell_type": "code",
   "execution_count": null,
   "id": "3c0dc330",
   "metadata": {},
   "outputs": [],
   "source": [
    "#Question-11\n",
    "items = set()\n",
    "for i in range(int(input())):\n",
    "    items.add(input())\n",
    "print(len(items))"
   ]
  },
  {
   "cell_type": "code",
   "execution_count": null,
   "id": "3a57891a",
   "metadata": {},
   "outputs": [],
   "source": [
    "#Question-12\n",
    "n = int(input())\n",
    "s = set(map(int, input().split()))\n",
    "d = {\"pop\":s.pop, \"remove\":s.remove, \"discard\": s.discard}\n",
    "for _ in range(int(input())):\n",
    "    c = input().split()\n",
    "    d[c[0]](int(c[1])) if len(c)>1 else d[c[0]]()\n",
    "print(sum(s))"
   ]
  },
  {
   "cell_type": "code",
   "execution_count": null,
   "id": "4bf9cfb5",
   "metadata": {},
   "outputs": [],
   "source": [
    "#Question-13\n",
    "# Enter your code here. Read input from STDIN. Print output to STDOUT\n",
    "N1 = int(input())\n",
    "storage1 = set(input().split());\n",
    "N2 = int(input())\n",
    "storage2 = set(input().split());\n",
    "storage3 = storage1.union(storage2)\n",
    "print(len(storage3))"
   ]
  },
  {
   "cell_type": "code",
   "execution_count": null,
   "id": "48d8047f",
   "metadata": {},
   "outputs": [],
   "source": [
    "#Question-14\n",
    "N1 = int(input())\n",
    "storage1 = set(input().split())\n",
    "\n",
    "N2 = int(input())\n",
    "storage2 = set(input().split())\n",
    "\n",
    "storage3 = storage2.intersection(storage1)\n",
    "\n",
    "print(len(storage3))"
   ]
  },
  {
   "cell_type": "code",
   "execution_count": null,
   "id": "c73b4095",
   "metadata": {},
   "outputs": [],
   "source": [
    "#Question-15\n",
    "# Enter your code here. Read input from STDIN. Print output to STDOUT\n",
    "N1=int(input())\n",
    "storage1=set(input().split())\n",
    "N2=int(input())\n",
    "storage2=set(input().split())\n",
    "storage3=storage1.difference(storage2)\n",
    "print(len(storage3))"
   ]
  },
  {
   "cell_type": "code",
   "execution_count": null,
   "id": "3b19429a",
   "metadata": {},
   "outputs": [],
   "source": [
    "#Question-16\n",
    "# Enter your code here. Read input from STDIN. Print output to STDOUT\n",
    "N1 = int(input())\n",
    "storage1 = set(input().split())\n",
    "N2 = int(input())\n",
    "storage2 = set(input().split())\n",
    "storage3 = storage1.symmetric_difference(storage2)\n",
    "print(len(storage3))"
   ]
  },
  {
   "cell_type": "code",
   "execution_count": null,
   "id": "08574382",
   "metadata": {},
   "outputs": [],
   "source": [
    "#Question-17\n",
    "len_set = int(input())\n",
    "\n",
    "storage = set(map(int, input().split()))\n",
    "\n",
    "op_len = int(input())\n",
    "\n",
    "for i in range(op_len):\n",
    "    operation = input().split()\n",
    "    if operation[0] == 'intersection_update':\n",
    "        temp_storage = set(map(int, input().split()))\n",
    "        storage.intersection_update(temp_storage)\n",
    "    elif operation[0] == 'update':\n",
    "        temp_storage = set(map(int, input().split()))\n",
    "        storage.update(temp_storage)\n",
    "    elif operation[0] == 'symmetric_difference_update':\n",
    "        temp_storage = set(map(int, input().split()))\n",
    "        storage.symmetric_difference_update(temp_storage)\n",
    "    elif operation[0] == 'difference_update':\n",
    "        temp_storage = set(map(int, input().split()))\n",
    "        storage.difference_update(temp_storage)\n",
    "    else :\n",
    "        assert False\n",
    "\n",
    "print(sum(storage))"
   ]
  },
  {
   "cell_type": "code",
   "execution_count": null,
   "id": "708153b8",
   "metadata": {},
   "outputs": [],
   "source": [
    "#Question-18\n",
    "from collections import Counter\n",
    "k = int(input())\n",
    "arr = list(map(int,input().split()))\n",
    "print({v:k for k,v in Counter(arr).items()}[1])"
   ]
  },
  {
   "cell_type": "code",
   "execution_count": null,
   "id": "e2c12791",
   "metadata": {},
   "outputs": [],
   "source": [
    "#Question-19\n",
    "# Enter your code here. Read input from STDIN. Print output to STDOUT\n",
    "for i in range(int(input())): \n",
    "    a = int(input()); A = set(input().split()); \n",
    "    b = int(input()); B = set(input().split());\n",
    "    print (A<= B)\n"
   ]
  },
  {
   "cell_type": "code",
   "execution_count": null,
   "id": "d8593160",
   "metadata": {},
   "outputs": [],
   "source": [
    "#Question-20\n",
    "storage = set(input().split())\n",
    "N = int(input())\n",
    "output = True\n",
    "\n",
    "for i in range(N):\n",
    "    storage2 = set(input().split())\n",
    "    if not storage2.issubset(storage):\n",
    "        output = False\n",
    "    if len(storage2) >= len(storage):\n",
    "        output = False\n",
    "\n",
    "print(output)"
   ]
  },
  {
   "cell_type": "code",
   "execution_count": null,
   "id": "c17211e2",
   "metadata": {},
   "outputs": [],
   "source": []
  }
 ],
 "metadata": {
  "kernelspec": {
   "display_name": "Python 3",
   "language": "python",
   "name": "python3"
  },
  "language_info": {
   "codemirror_mode": {
    "name": "ipython",
    "version": 3
   },
   "file_extension": ".py",
   "mimetype": "text/x-python",
   "name": "python",
   "nbconvert_exporter": "python",
   "pygments_lexer": "ipython3",
   "version": "3.9.4"
  }
 },
 "nbformat": 4,
 "nbformat_minor": 5
}
