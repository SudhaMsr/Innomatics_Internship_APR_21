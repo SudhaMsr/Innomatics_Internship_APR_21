{
  "nbformat": 4,
  "nbformat_minor": 0,
  "metadata": {
    "colab": {
      "name": "Task-06.ipynb",
      "provenance": [],
      "collapsed_sections": []
    },
    "kernelspec": {
      "name": "python3",
      "display_name": "Python 3"
    },
    "language_info": {
      "name": "python"
    }
  },
  "cells": [
    {
      "cell_type": "code",
      "metadata": {
        "id": "zaVwRrcnATBj"
      },
      "source": [
        "#Arrays\n",
        "\n",
        "import numpy\n",
        "\n",
        "def arrays(arr):\n",
        "    # complete this function\n",
        "    # use numpy.array\n",
        "     return(numpy.array(arr[::-1], float))\n",
        "\n",
        "arr = input().strip().split(' ')\n",
        "result = arrays(arr)\n",
        "print(result)"
      ],
      "execution_count": null,
      "outputs": []
    },
    {
      "cell_type": "code",
      "metadata": {
        "id": "3UcK-On2B0Pl"
      },
      "source": [
        "#Shape and Reshape\n",
        "\n",
        "import numpy\n",
        "print(numpy.array(input().split(), int).reshape(3, 3))"
      ],
      "execution_count": null,
      "outputs": []
    },
    {
      "cell_type": "code",
      "metadata": {
        "id": "mvz3HVR_CaQ2"
      },
      "source": [
        "#Transpose and Flatten\n",
        "\n",
        "import numpy\n",
        "n, m = map(int, input().split())\n",
        "\n",
        "storage = numpy.array([input().strip().split() for _ in range(n)], int)\n",
        "print (storage.transpose())\n",
        "print (storage.flatten())"
      ],
      "execution_count": null,
      "outputs": []
    },
    {
      "cell_type": "code",
      "metadata": {
        "id": "0WvudHMfCugV"
      },
      "source": [
        "#Concatenate\n",
        "\n",
        "import numpy\n",
        "P, N, M = map(int,input().split())\n",
        "A = numpy.array([input().split() for _ in range(P)],int)\n",
        "B = numpy.array([input().split() for _ in range(N)],int)\n",
        "print(numpy.concatenate((A, B), axis = 0))"
      ],
      "execution_count": null,
      "outputs": []
    },
    {
      "cell_type": "code",
      "metadata": {
        "id": "3zEzDbb3Dgt3"
      },
      "source": [
        "#Zeros and Ones\n",
        "\n",
        "import numpy\n",
        "nums = tuple(map(int, input().split()))\n",
        "print (numpy.zeros(nums, dtype = numpy.int))\n",
        "print (numpy.ones(nums, dtype = numpy.int))"
      ],
      "execution_count": null,
      "outputs": []
    },
    {
      "cell_type": "code",
      "metadata": {
        "id": "YnK2-yx9DspF"
      },
      "source": [
        "#Eye and Identity\n",
        "\n",
        "import numpy\n",
        "numpy.set_printoptions(sign=' ')\n",
        "print(numpy.eye(*map(int, input().split())))"
      ],
      "execution_count": null,
      "outputs": []
    },
    {
      "cell_type": "code",
      "metadata": {
        "id": "ALjNcAKtEAtU"
      },
      "source": [
        "#Array Mathematics\n",
        "\n",
        "import numpy\n",
        "l=map(int,raw_input().split())\n",
        "a=[]\n",
        "b=[]\n",
        "for i in range(l[0]):\n",
        "    a.append(map(int,raw_input().split()))\n",
        "for i in range(l[0]):\n",
        "    b.append(map(int,raw_input().split()))\n",
        "a=numpy.array(a)\n",
        "b=numpy.array(b)\n",
        "print numpy.add(a, b)\n",
        "print numpy.subtract(a, b)\n",
        "print numpy.multiply(a, b)\n",
        "print numpy.divide(a, b)\n",
        "print numpy.mod(a, b)\n",
        "print a**b "
      ],
      "execution_count": null,
      "outputs": []
    },
    {
      "cell_type": "code",
      "metadata": {
        "id": "bPvOic-AE8UH"
      },
      "source": [
        "#Floor, Ceil and Rint\n",
        "\n",
        "import numpy\n",
        "numpy.set_printoptions(sign=' ')\n",
        "\n",
        "a = numpy.array(input().split(),float)\n",
        "\n",
        "print(numpy.floor(a))\n",
        "print(numpy.ceil(a))\n",
        "print(numpy.rint(a))"
      ],
      "execution_count": null,
      "outputs": []
    },
    {
      "cell_type": "code",
      "metadata": {
        "id": "C4ue8Q-aGIAT"
      },
      "source": [
        "#Sum and Prod\n",
        "\n",
        "import numpy\n",
        "N, M = map(int, input().split())\n",
        "A = numpy.array([input().split() for _ in range(N)], int)\n",
        "print(numpy.prod(numpy.sum(A, axis=0), axis=0))"
      ],
      "execution_count": null,
      "outputs": []
    },
    {
      "cell_type": "code",
      "metadata": {
        "id": "5oEpXVNcGllH"
      },
      "source": [
        "#Min and Max\n",
        "\n",
        "import numpy\n",
        "n,m=map(int,input().split())\n",
        "\n",
        "lista=[list(map(int,input().split())) for i in range(n)]\n",
        "\n",
        "ar=numpy.array(lista)\n",
        "\n",
        "print(max(numpy.min(ar,axis=1)))"
      ],
      "execution_count": null,
      "outputs": []
    },
    {
      "cell_type": "code",
      "metadata": {
        "id": "y1Np1OtjHNk5"
      },
      "source": [
        "#Mean,Var,Std\n",
        "\n",
        "import numpy\n",
        "n, m = map(int, input().split())\n",
        "k = np.array([input().split() for _ in range(n)],dtype = int)\n",
        "np.set_printoptions(legacy='1.13')\n",
        "print(np.mean(k,axis=1), np.var(k,axis=0), np.std(k), sep='\\n')"
      ],
      "execution_count": null,
      "outputs": []
    },
    {
      "cell_type": "code",
      "metadata": {
        "id": "a0WvGUO3Hdp9"
      },
      "source": [
        "#Dot and Cross\n",
        "\n",
        "import numpy\n",
        "n = int(input())\n",
        "a = numpy.array([input().split() for _ in range(n)], int)\n",
        "b = numpy.array([input().split() for _ in range(n)], int)\n",
        "print(numpy.dot(a, b))"
      ],
      "execution_count": null,
      "outputs": []
    },
    {
      "cell_type": "code",
      "metadata": {
        "id": "0tVBJ2InSEWe"
      },
      "source": [
        "#Inner and Outer\n",
        "\n",
        "import numpy\n",
        "A = numpy.array(input().split(), int)\n",
        "B = numpy.array(input().split(), int)\n",
        "print(numpy.inner(A, B), numpy.outer(A, B), sep='\\n')"
      ],
      "execution_count": null,
      "outputs": []
    },
    {
      "cell_type": "code",
      "metadata": {
        "id": "lm_sLt5wSeqL"
      },
      "source": [
        "#Polynomials\n",
        "\n",
        "import numpy\n",
        "poly = [float(x) for x in input().split()]\n",
        "x = float(input())\n",
        "\n",
        "print(numpy.polyval(poly, x))"
      ],
      "execution_count": null,
      "outputs": []
    },
    {
      "cell_type": "code",
      "metadata": {
        "id": "bd6g6GIUS5fK"
      },
      "source": [
        "#Linear Algebra\n",
        "\n",
        "import numpy\n",
        "N = int(input())\n",
        "A = numpy.array([input().split() for _ in range(N)], float)\n",
        "print(round(numpy.linalg.det(A),2))"
      ],
      "execution_count": null,
      "outputs": []
    }
  ]
}