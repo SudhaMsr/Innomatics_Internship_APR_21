{
  "nbformat": 4,
  "nbformat_minor": 0,
  "metadata": {
    "colab": {
      "name": "Untitled",
      "provenance": [],
      "collapsed_sections": []
    },
    "kernelspec": {
      "name": "python3",
      "display_name": "Python 3"
    },
    "language_info": {
      "name": "python"
    }
  },
  "cells": [
    {
      "cell_type": "code",
      "metadata": {
        "id": "OV8-kCyCq6zb"
      },
      "source": [
        "#Detect Floating Point Number\n",
        "\n",
        "import re\n",
        "\n",
        "class Main():\n",
        "    def __init__(self):\n",
        "        self.n = int(input())\n",
        "        \n",
        "        for i in range(self.n):\n",
        "            self.s = input()\n",
        "            print(bool(re.match(r'^[-+]?[0-9]*\\.[0-9]+$', self.s)))\n",
        "                    \n",
        "if __name__ == '__main__':\n",
        "    obj = Main()"
      ],
      "execution_count": null,
      "outputs": []
    },
    {
      "cell_type": "code",
      "metadata": {
        "id": "pGSn5-FZsRPW"
      },
      "source": [
        "#Re.split()\n",
        "\n",
        "regex_pattern = r\"[.,]+\"\t# Do not delete 'r'.\n",
        "\n",
        "import re\n",
        "print(\"\\n\".join(re.split(regex_pattern, input())))"
      ],
      "execution_count": null,
      "outputs": []
    },
    {
      "cell_type": "code",
      "metadata": {
        "id": "wQ1cxNEPsWEr"
      },
      "source": [
        "#Group(), Groups() & Groupdict()\n",
        "\n",
        "import re\n",
        "m = re.findall(r\"([A-Za-z0-9])\\1+\",input())\n",
        "if m:\n",
        "    print(m[0])\n",
        "else:\n",
        "    print(-1)\n"
      ],
      "execution_count": null,
      "outputs": []
    },
    {
      "cell_type": "code",
      "metadata": {
        "id": "51wOolxfsmnL"
      },
      "source": [
        "#Re.findall() & Re.finditer()\n",
        "\n",
        "import re\n",
        "\n",
        "Storage = re.findall(r'(?<=[qwrtypsdfghjklzxcvbnm])([aeiou]{2,})(?=[qwrtypsdfghjklzxcvbnm])', input().strip(), re.IGNORECASE)\n",
        "\n",
        "if Storage:\n",
        "    for i in Storage:\n",
        "        print(i)\n",
        "else:\n",
        "    print(-1)"
      ],
      "execution_count": null,
      "outputs": []
    },
    {
      "cell_type": "code",
      "metadata": {
        "id": "cAktS46MtVi0"
      },
      "source": [
        "#Re.start() & Re.end()\n",
        "\n",
        "S = input()\n",
        "k = input()\n",
        "import re\n",
        "pattern = re.compile(k)\n",
        "r = pattern.search(S)\n",
        "if not r: print(\"(-1, -1)\")\n",
        "while r:\n",
        "    print(\"({0}, {1})\".format(r.start(), r.end() - 1))\n",
        "    r = pattern.search(S,r.start() + 1)"
      ],
      "execution_count": null,
      "outputs": []
    },
    {
      "cell_type": "code",
      "metadata": {
        "id": "FHda57v0t7ae"
      },
      "source": [
        "#Regex Substitution\n",
        "\n",
        "import re\n",
        "\n",
        "def change(match):\n",
        "    if match.group(1) == '&&':\n",
        "        return 'and'\n",
        "    else:\n",
        "        return 'or'\n",
        "\n",
        "for _ in range(int(input())):\n",
        "    print(re.sub(r\"(?<= )(\\|\\||&&)(?= )\", change,input()))"
      ],
      "execution_count": null,
      "outputs": []
    },
    {
      "cell_type": "code",
      "metadata": {
        "id": "BI-OhKv6vBws"
      },
      "source": [
        "#Validating Roman Numerals\n",
        "\n",
        "thousand = 'M{0,3}'\n",
        "hundred = '(C[MD]|D?C{0,3})'\n",
        "ten = '(X[CL]|L?X{0,3})'\n",
        "digit = '(I[VX]|V?I{0,3})'\n",
        "regex_pattern = r\"%s%s%s%s$\"\n",
        "\n",
        "import re\n",
        "print(str(bool(re.match(regex_pattern, input()))))"
      ],
      "execution_count": null,
      "outputs": []
    },
    {
      "cell_type": "code",
      "metadata": {
        "id": "5Ex066hVxPur"
      },
      "source": [
        "#Validating phone numbers\n",
        "\n",
        "import re\n",
        "for _ in range(int(input())):\n",
        "    if re.match(r'[789]\\d{9}$',input()):   \n",
        "        print('YES')  \n",
        "    else:  \n",
        "        print('NO')"
      ],
      "execution_count": null,
      "outputs": []
    },
    {
      "cell_type": "code",
      "metadata": {
        "id": "lj9WVQsB51YZ"
      },
      "source": [
        "#Validating and Parsing Email Addresses\n",
        "\n",
        "import re\n",
        "\n",
        "N = int(input())\n",
        "\n",
        "for i in range(N):\n",
        "    name, email = input().split()\n",
        "    pattern=\"<[a-z][a-zA-Z0-9\\-\\.\\_]+@[a-zA-Z]+\\.[a-zA-Z]{1,3}>\"\n",
        "    if bool(re.match(pattern, email)):\n",
        "        print(name,email)"
      ],
      "execution_count": null,
      "outputs": []
    },
    {
      "cell_type": "code",
      "metadata": {
        "id": "E7Q1KIez6uhp"
      },
      "source": [
        "#Hex Color Code\n",
        "\n",
        "import re\n",
        "\n",
        "T = int(input())\n",
        "in_css = False\n",
        "for _ in range(T):\n",
        "    s = input()\n",
        "    if '{' in s:\n",
        "        in_css = True\n",
        "    elif '}' in s:\n",
        "        in_css = False\n",
        "    elif in_css:\n",
        "        for color in re.findall('#[0-9a-fA-F]{3,6}', s):\n",
        "            print(color)\n"
      ],
      "execution_count": null,
      "outputs": []
    },
    {
      "cell_type": "code",
      "metadata": {
        "id": "CIIfbDyn7LFU"
      },
      "source": [
        "#HTML Parser - Part 1\n",
        "\n",
        "import re\n",
        "import html\n",
        "from html.parser import HTMLParser\n",
        "# create a subclass and override the handler methods\n",
        "class MyHTMLParser(HTMLParser):\n",
        "    def handle_starttag(self, tag, attrs):\n",
        "        print(\"Start :\", tag)\n",
        "        for name,value in attrs:\n",
        "            print(\"->\",name+\" >\",value)\n",
        "    def handle_endtag(self, tag):\n",
        "        print(\"End   :\", tag)\n",
        "    def handle_startendtag(self, tag, attrs):\n",
        "        print(\"Empty :\", tag)\n",
        "        for name,value in attrs:\n",
        "            print(\"->\",name+\" >\",value)\n",
        "# instantiate the parser and fed it some HTML\n",
        "parser = MyHTMLParser()\n",
        "n = int(input())\n",
        "for _ in range(n):\n",
        "    parser.feed(input())\n"
      ],
      "execution_count": null,
      "outputs": []
    },
    {
      "cell_type": "code",
      "metadata": {
        "id": "_UKFJGF-7p_d"
      },
      "source": [
        "#HTML Parser - Part 2\n",
        "\n",
        "def handle_comment(self, data):\n",
        "        if data.count('\\n') == 0:\n",
        "            print('>>> Single-line Comment')\n",
        "        else:\n",
        "            print('>>> Multi-line Comment')\n",
        "        print(data)\n",
        "    def handle_data(self, data):\n",
        "        if data.strip() != '':\n",
        "            print('>>> Data')\n",
        "            print(data)"
      ],
      "execution_count": null,
      "outputs": []
    },
    {
      "cell_type": "code",
      "metadata": {
        "id": "8jqlS3Zl9Mpe"
      },
      "source": [
        "#Detect HTML Tags, Attributes and Attribute Values\n",
        "\n",
        "from html.parser import HTMLParser\n",
        "\n",
        "class MyHTMLParser(HTMLParser):\n",
        "    def handle_starttag(self, tag, attrs):\n",
        "        print(tag)\n",
        "        for attr, value in attrs:\n",
        "            print(\"->\", attr, \">\", value)\n",
        "\n",
        "    def handle_startendtag(self, tag, attrs):\n",
        "        print(tag)\n",
        "        for attr, value in attrs:\n",
        "            print(\"->\", attr, \">\", value)\n",
        "\n",
        "html = ''\n",
        "for _ in range(int(input())):\n",
        "    html += input().rstrip() + '\\n'\n",
        "\n",
        "parser = MyHTMLParser()\n",
        "parser.feed(html)\n",
        "parser.close()"
      ],
      "execution_count": null,
      "outputs": []
    },
    {
      "cell_type": "code",
      "metadata": {
        "id": "UKR9q2IZ-AWb"
      },
      "source": [
        "#Validating UID\n",
        "\n",
        "import re\n",
        "for _ in range(int(input())):\n",
        "    uid = input()\n",
        "    uid = \"\".join(sorted(uid))\n",
        "    if (re.search(r\"[A-Z]{2}\",uid) and #2 uppercase alphabets\n",
        "        re.search(r\"\\d{3}\",uid) and #3+ digits\n",
        "        not re.search(r\"[^A-Za-z0-9]\",uid) and #no nonalphanumeric\n",
        "        not re.search(r\"(\\w)\\1\",uid) and #no repetition\n",
        "        len(uid) == 10): #10 characters long\n",
        "        print(\"Valid\")\n",
        "    else:\n",
        "        print(\"Invalid\")"
      ],
      "execution_count": null,
      "outputs": []
    },
    {
      "cell_type": "code",
      "metadata": {
        "id": "6k3Z0sC--Z7-"
      },
      "source": [
        "#Validating Credit Card Numbers\n",
        "\n",
        "import re\n",
        "for i in range(int(input())):\n",
        "    S = input().strip()\n",
        "    pre_match = re.search(r'^[456]\\d{3}(-?)\\d{4}\\1\\d{4}\\1\\d{4}$',S)\n",
        "    if pre_match:\n",
        "        processed_string = \"\".join(pre_match.group(0).split('-'))\n",
        "        final_match = re.search(r'(\\d)\\1{3,}',processed_string)\n",
        "        if final_match:\n",
        "            print('Invalid')\n",
        "        else :\n",
        "            print('Valid')\n",
        "    else:\n",
        "        print('Invalid')"
      ],
      "execution_count": null,
      "outputs": []
    },
    {
      "cell_type": "code",
      "metadata": {
        "id": "I05Bvuam_OLp"
      },
      "source": [
        "#Validating Postal Codes\n",
        "\n",
        "regex_integer_in_range = r\"^[1-9]\\d{5}$\"\t# Do not delete 'r'.\n",
        "regex_alternating_repetitive_digit_pair = r\"(\\d)(?=\\d\\1)\"\t# Do not delete 'r'.\n",
        "\n",
        "\n",
        "import re\n",
        "P = input()\n",
        "\n",
        "print (bool(re.match(regex_integer_in_range, P)) \n",
        "and len(re.findall(regex_alternating_repetitive_digit_pair, P)) < 2)"
      ],
      "execution_count": null,
      "outputs": []
    },
    {
      "cell_type": "code",
      "metadata": {
        "id": "VyxI4WXZAHIp"
      },
      "source": [
        "#Matrix Script \n",
        "\n",
        "#!/bin/python3\n",
        "\n",
        "import math\n",
        "import os\n",
        "import random\n",
        "import re\n",
        "import sys\n",
        "\n",
        "x,y = list(map(int,input().split()))\n",
        "rows =[input() for i in range(x)]\n",
        "text = \"\".join([row[i] for i in range(y) for row in rows])\n",
        "text = re.sub('([A-Za-z1-9])[^A-Za-z1-9]+([A-Za-z1-9])', r'\\1 \\2', text)\n",
        "text = re.sub('  ', ' ', text)\n",
        "print(text)\n",
        "\n",
        "\n",
        "\n",
        "\n",
        "first_multiple_input = input().rstrip().split()\n",
        "\n",
        "n = int(first_multiple_input[0])\n",
        "\n",
        "m = int(first_multiple_input[1])\n",
        "\n",
        "matrix = []\n",
        "\n",
        "for _ in range(n):\n",
        "    matrix_item = input()\n",
        "    matrix.append(matrix_item)\n"
      ],
      "execution_count": null,
      "outputs": []
    }
  ]
}