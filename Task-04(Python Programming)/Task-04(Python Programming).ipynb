{
  "nbformat": 4,
  "nbformat_minor": 0,
  "metadata": {
    "colab": {
      "name": "Untitled1.ipynb",
      "provenance": [],
      "collapsed_sections": []
    },
    "kernelspec": {
      "name": "python3",
      "display_name": "Python 3"
    },
    "language_info": {
      "name": "python"
    }
  },
  "cells": [
    {
      "cell_type": "code",
      "metadata": {
        "id": "jvJ6KyEuHir5"
      },
      "source": [
        "#sWAP cASE\n",
        "\n",
        "def change(s):\n",
        "    if str.islower(s):\n",
        "        return str.upper(s)\n",
        "    else:\n",
        "        return str.lower(s)\n",
        "def swap_case(s):\n",
        "    return ('').join(map(change,s))\n",
        "\n",
        "if __name__ == '__main__':\n",
        "    s = input()\n",
        "    result = swap_case(s)\n",
        "    print(result)"
      ],
      "execution_count": null,
      "outputs": []
    },
    {
      "cell_type": "code",
      "metadata": {
        "id": "_37IB7Dpd2Vi"
      },
      "source": [
        "#String Split and Join\n",
        "\n",
        "def split_and_join(line):\n",
        "    # write your code here\n",
        "    a = line.split(\" \")\n",
        "    a = \"-\".join(a)\n",
        "    return a\n",
        "\n",
        "\n",
        "if __name__ == '__main__':\n",
        "    line = input()\n",
        "    result = split_and_join(line)\n",
        "    print(result)\n"
      ],
      "execution_count": null,
      "outputs": []
    },
    {
      "cell_type": "code",
      "metadata": {
        "id": "DfzIo4apevan"
      },
      "source": [
        "#what's your Name\n",
        "\n",
        "#\n",
        "# Complete the 'print_full_name' function below.\n",
        "#\n",
        "# The function is expected to return a STRING.\n",
        "# The function accepts following parameters:\n",
        "#  1. STRING first\n",
        "#  2. STRING last\n",
        "#\n",
        "\n",
        "def print_full_name(first, last):\n",
        "    # Write your code here\n",
        "    print(\"Hello\"+\" \"+first_name+\" \"+last_name+\"!\"+\" \"+\"You\"+\" \"+\n",
        "    \"just\"+\" \"+\"delved\"+\" \"+\"into\"+\" \"+\"python.\")\n",
        "\n",
        "if __name__ == '__main__':\n",
        "    first_name = input()\n",
        "    last_name = input()\n",
        "    print_full_name(first_name, last_name)\n",
        "\n"
      ],
      "execution_count": null,
      "outputs": []
    },
    {
      "cell_type": "code",
      "metadata": {
        "id": "DFEcpJHxfVHk"
      },
      "source": [
        "#Mutations\n",
        "\n",
        "def mutate_string(string, position, character):\n",
        "    n = list(string)\n",
        "    n[position] = character\n",
        "    string = \"\".join(n)\n",
        "    return string\n",
        "\n",
        "if __name__ == '__main__':\n",
        "    s = input()\n",
        "    i, c = input().split()\n",
        "    s_new = mutate_string(s, int(i), c)\n",
        "    print(s_new)"
      ],
      "execution_count": null,
      "outputs": []
    },
    {
      "cell_type": "code",
      "metadata": {
        "id": "RQaLybrbf7Gf"
      },
      "source": [
        "#Find a String\n",
        "\n",
        "def count_substring(string, sub_string):\n",
        "    c=0\n",
        "    for i in range(len(string)):\n",
        "        if string[i:].startswith(sub_string):\n",
        "            c =c+1\n",
        "    return c\n",
        "\n",
        "if __name__ == '__main__':\n",
        "    string = input().strip()\n",
        "    sub_string = input().strip()\n",
        "    \n",
        "    count = count_substring(string, sub_string)\n",
        "    print(count)"
      ],
      "execution_count": null,
      "outputs": []
    },
    {
      "cell_type": "code",
      "metadata": {
        "id": "vTh9MDPigZX7"
      },
      "source": [
        "#String Validators\n",
        "\n",
        "def fun1(s):\n",
        "    for i in range(len(s)):\n",
        "        if(s[i].isalnum()):\n",
        "            return True;\n",
        "            break;\n",
        "    return False;\n",
        "        \n",
        "def fun2(s):\n",
        "    for i in range(len(s)):\n",
        "        if(s[i].isalpha()):\n",
        "            return True;\n",
        "            break;\n",
        "    return False;\n",
        "\n",
        "def fun3(s):\n",
        "    for i in range(len(s)):\n",
        "        if(s[i].isdigit()):\n",
        "            return True;\n",
        "            break;\n",
        "    return False;\n",
        "\n",
        "def fun4(s):\n",
        "    for i in range(len(s)):\n",
        "        if(s[i].islower()):\n",
        "            return True;\n",
        "            break;\n",
        "    return False; \n",
        "     \n",
        "def fun5(s):\n",
        "    for i in range(len(s)):\n",
        "        if(s[i].isupper()):\n",
        "            return True;\n",
        "            break;\n",
        "    return False;\n",
        " \n",
        "# String Validators in Python \n",
        "    \n",
        "if __name__ == '__main__':\n",
        "    s = input()\n",
        "    \n",
        "    # String Validators in Python\n",
        "    flagalphanum = fun1(s)\n",
        "    alphabetical = fun2(s)\n",
        "    digits = fun3(s)\n",
        "    lowercase = fun4(s)\n",
        "    uppercase = fun5(s)\n",
        "    print(flagalphanum)\n",
        "    print(alphabetical)\n",
        "    print(digits)\n",
        "    print(lowercase)\n",
        "    print(uppercase)"
      ],
      "execution_count": null,
      "outputs": []
    },
    {
      "cell_type": "code",
      "metadata": {
        "id": "UFRC9UKxipBd"
      },
      "source": [
        "#Text Alignment\n",
        "\n",
        "#Replace all ______ with rjust, ljust or center. \n",
        "\n",
        "thickness = int(input()) #This must be an odd number\n",
        "c = 'H'\n",
        "\n",
        "#Top Cone\n",
        "for i in range(thickness):\n",
        "    print((c*i).rjust(thickness-1)+c+(c*i).ljust(thickness-1))\n",
        "\n",
        "\n",
        "#Top Pillars\n",
        "for i in range(thickness+1):\n",
        "    print((c*thickness).center(thickness*2)+(c*thickness).center(thickness*6))\n",
        "#Middle Belt\n",
        "for i in range((thickness+1)//2):\n",
        "    print((c*thickness*5).center(thickness*6))    \n",
        "\n",
        "#Bottom Pillars\n",
        "for i in range(thickness+1):\n",
        "    print((c*thickness).center(thickness*2)+(c*thickness).center(thickness*6))     \n",
        "\n",
        "#Bottom Cone\n",
        "for i in range(thickness):\n",
        "    print(((c*(thickness-i-1)).rjust(thickness)+c+(c*(thickness-i-1)).ljust(thickness)).rjust(thickness*6))"
      ],
      "execution_count": null,
      "outputs": []
    },
    {
      "cell_type": "code",
      "metadata": {
        "id": "yruQZe5wj-3q"
      },
      "source": [
        "#Text Wrap\n",
        "\n",
        "import textwrap\n",
        "\n",
        "def wrap(string, max_width):\n",
        "    for i in range(0,len(string)+1,max_width):\n",
        "        result = string[i:i+max_width]\n",
        "        if len(result) == max_width:\n",
        "            print(result)\n",
        "        else:\n",
        "            return(result)\n",
        "\n",
        "if __name__ == '__main__':\n",
        "    string, max_width = input(), int(input())\n",
        "    result = wrap(string, max_width)\n",
        "    print(result)"
      ],
      "execution_count": null,
      "outputs": []
    },
    {
      "cell_type": "code",
      "metadata": {
        "id": "ppY0RsHik8A8"
      },
      "source": [
        "#Designer Door mat\n",
        "\n",
        "x,y = map(int,input().split())\n",
        "items = list(range(1,x+1,2))\n",
        "items = items+items[::-1][1:]\n",
        "for i in items:\n",
        "    text= \"WELCOME\" if i == x else '.|.'*i\n",
        "    print (text.center(y,'-'))"
      ],
      "execution_count": null,
      "outputs": []
    },
    {
      "cell_type": "code",
      "metadata": {
        "id": "zUlbLDftlgNz"
      },
      "source": [
        ""
      ],
      "execution_count": null,
      "outputs": []
    },
    {
      "cell_type": "code",
      "metadata": {
        "id": "cNIHwxRklgr_"
      },
      "source": [
        "#String Formatting\n",
        "\n",
        "def print_formatted(number):\n",
        "    # your code goes here\n",
        "    width = len(bin(number)[2:])\n",
        "    for i in range(1, number+1):\n",
        "        deci = str(i)\n",
        "        octa = oct(i)[2:]\n",
        "        hexa = hex(i)[2:].upper()\n",
        "        bina = bin(i)[2:]\n",
        "        print(deci.rjust(width),octa.rjust(width),hexa.rjust(width),bina.rjust(width))\n",
        "\n",
        "if __name__ == '__main__':\n",
        "    n = int(input())\n",
        "    print_formatted(n)"
      ],
      "execution_count": null,
      "outputs": []
    },
    {
      "cell_type": "code",
      "metadata": {
        "id": "2aJEpNscmXDr"
      },
      "source": [
        "#Alphabet Rangoli\n",
        "\n",
        "def print_rangoli(size):\n",
        "    # your code goes here\n",
        "    alpha = \"abcdefghijklmnopqrstuvwxyz\"\n",
        "    data = [alpha[i] for i in range(n)]\n",
        "    items = list(range(n))\n",
        "    items = items[:-1]+items[::-1]\n",
        "    for i in items:\n",
        "        temp = data[-(i+1):]\n",
        "        row = temp[::-1]+temp[1:]\n",
        "        print(\"-\".join(row).center(n*4-3, \"-\"))\n",
        "\n",
        "if __name__ == '__main__':\n",
        "    n = int(input())\n",
        "    print_rangoli(n)"
      ],
      "execution_count": null,
      "outputs": []
    },
    {
      "cell_type": "code",
      "metadata": {
        "id": "cOk4kdBCmzt7"
      },
      "source": [
        "#Capitalize!\n",
        "\n",
        "#!/bin/python3\n",
        "\n",
        "import math\n",
        "import os\n",
        "import random\n",
        "import re\n",
        "import sys\n",
        "import math\n",
        "import os\n",
        "import random\n",
        "import re\n",
        "import sys\n",
        "# Complete the solve function below.\n",
        "def solve(s):\n",
        "    words = s.split(\" \")\n",
        "    capitalized_words = [w.capitalize() for w in words]\n",
        "    return \" \".join(capitalized_words)\n",
        "\n",
        "if __name__ == '__main__':\n",
        "    fptr = open(os.environ['OUTPUT_PATH'], 'w')\n",
        "\n",
        "    s = input()\n",
        "\n",
        "    result = solve(s)\n",
        "\n",
        "    fptr.write(result + '\\n')\n",
        "\n",
        "    fptr.close()\n",
        "\n",
        "\n"
      ],
      "execution_count": null,
      "outputs": []
    },
    {
      "cell_type": "code",
      "metadata": {
        "id": "82VrdaOpneN4"
      },
      "source": [
        "#Merge the Tools\n",
        "\n",
        "def merge_the_tools(string, k):\n",
        "    # your code goes here\n",
        "    for i in range(0,len(string), k):\n",
        "        #slice string upto k characters\n",
        "        line = string[i:i+k]\n",
        "        seen = set()\n",
        "        for i in line:\n",
        "            #only print if we haven't already seen this character\n",
        "            if i not in seen:\n",
        "                print(i,end=\"\")\n",
        "                seen.add(i)\n",
        "        #prints a new line\n",
        "        print()\n",
        "\n",
        "if __name__ == '__main__':\n",
        "    string, k = input(), int(input())\n",
        "    merge_the_tools(string, k)"
      ],
      "execution_count": null,
      "outputs": []
    }
  ]
}